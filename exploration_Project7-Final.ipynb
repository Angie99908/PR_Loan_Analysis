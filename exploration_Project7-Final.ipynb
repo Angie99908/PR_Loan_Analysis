{
 "cells": [
  {
   "cell_type": "markdown",
   "metadata": {},
   "source": [
    "# Prosper Loan Data Exploration\n",
    "## by Angie Koepcke\n",
    "\n",
    "\n",
    "\n",
    "### Preliminary Wrangling\n",
    "\n",
    "> The Prosper Loan data set contains loan data for various types of loans from 2005 to 2014. The data file was provided by Udacity.  The loans ranged in term from 12 to 60 months.\n",
    "\n",
    "> The first step I completed was to upload the 'prosperLoanData.csv' file to my project folder in my jupyter notebook.  This way I could run .head() and .info() on the data and get an idea of what I was looking at.  I opened the Prosper Loan Data variable definitions in Google sheets.\n",
    "\n",
    "> I also check to make sure all the packages I needed for this project were installed.  It turned out I had to install Seaborn, so I did this in Linux. After installing Seaborn, I checked the data using .head() and .info(). \n",
    "\n",
    "> There were 80 columns and 113,937 rows of data in the loan data file.  I had to decide which variables I wanted to explore.  The loan listing category, which classifies what the loan was for, and the state interested me right away.  Beyond that, I decided I needed to do more exploration and make some decisions. \n",
    "\n",
    "> I chose to look at loans by state, occupation, and reason for the loan. The year the loan was originated was significant according the the Wikipedia page for Prosper Marketplace, because loan purchasers filed a class action lawsuit alleging Prosper sold \"unqualified\" loans between 2006 and 2008. Also, in 2009, Prosper increased the credit score requirements for borrowers, so this might be an interesting variable to look at.\n",
    "\n",
    "https://en.wikipedia.org/wiki/Prosper_Marketplace"
   ]
  },
  {
   "cell_type": "markdown",
   "metadata": {},
   "source": [
    "## Table of Contents   \n",
    "\n",
    "### Univariate Exploration\n",
    "    \n",
    "\n",
    "   * [Introduction - Dataset Structures and Features](#Introduction) <a Introduction =\"Introduction\"></a>       \n",
    "   \n",
    "   * [Graph 1 - Loans by State Lollipop Chart](#Graph-1) <a Graph-1 =\"Graph-1\"> </a>\n",
    "   \n",
    "   * [Graph 2 - Loans by Category Bar Chart](#Graph-2) <a Graph-2 =\"Graph-2\"> </a>\n",
    "   \n",
    "   * [Graph-3 - Loans by Status Bar Chart](#Graph-3) <a Graph-3 =\"Graph-3\"> </a>\n",
    "   \n",
    "   * [Graph-4 -Top 10 Occupations Defaulted Loans Bar Chart](#Graph-4) <a Graph-4 =\"Graph-4\"> </a>\n",
    "   \n",
    "   * [Graph-5 - Top 10 Loan Categories Defaulted Loans Histogram](#Graph-5) <a Graph-5 =\"Graph-5\"> </a>\n",
    "   \n",
    "   * [Graph-6 - Comparing the number of loans missing state data in pre-2009 and post 2009 data](#Graph-6) <a Graph-6 =\"Graph-6\"> </a>\n",
    "   \n",
    "   * [Graph-7 - Comparing the number of defaulted loans in pre-2009 and post 2009 data](#Graph-7) <a Graph-7 =\"Graph-7\"> </a>\n",
    "   \n",
    "   * [Graph 8 - Comparing the number of loans missing occupation data in pre-2009 and post 2009 data](#Graph-8) <a Graph-8 =\"Graph-8\"> </a>\n",
    "    \n",
    "   * [Graph-9 - Comparing the category -Not Available- as the reason for the loan in pre-2009 and post 2009 defaulted loan data](#Graph-9) <a Graph-9 =\"Graph-9\"> </a>\n",
    "   \n",
    "### Bivariate Exploration\n",
    "\n",
    "   * [Graph-10 - Comparing the lack of Borrower State information against Net Principal Loss in pre-2009 and post 2009 data](#Graph-10) <a Graph-10 =\"Graph-10\"> </a>\n",
    "   * [Graph-11 - Loan Original Amounts per Creation Year Scatter Plot by Income Verifiable](#Graph-11) <a Graph-11 = \"Graph-11\"> </a>\n",
    "   * [Graph-12 - Defaulted Loans per Year Violin Plot by Verified Income](#Graph-12) <a Graph-12 = \"Graph-11\"> </a>\n",
    "   \n",
    "   * [Graph-13 - Lower Credit Score Ranges for Occupation Other in pre and post 2009 Loans](#Graph-13) <a Graph-13 = \"Graph-13\"> </a>\n",
    "   \n",
    " \n",
    "### Multivariate Exploration\n",
    "\n",
    "   * [Graph-14 - Matrix Correlation Heatmap](#Graph-14) <a Graph-14 =\"Graph-14\"> </a>\n",
    "   \n",
    "   * [Graph -15 - LP_NetPrincipalLoss Correlation Matrix](#Graph-15) <a Graph-15 =\"Graph-15\"> </a>\n",
    "   \n",
    "   * [Graph -16 - Seaborn - LP_NetPrincipalLoss](#Graph-16) <a Graph-16 =\"Graph-16\"> </a>\n",
    "   * [Graph -17 - Seaborn - LP_NetPrincipalLoss in Lower Range Credit Scores](#Graph-17)<a Graph-17 =\"Graph-17\"> </a>"
   ]
  },
  {
   "cell_type": "code",
   "execution_count": 1,
   "metadata": {},
   "outputs": [],
   "source": [
    "# import all packages and set plots to be embedded inline\n",
    "\n",
    "import numpy as np\n",
    "import pandas as pd\n",
    "import matplotlib.pyplot as plt\n",
    "import seaborn as sns\n",
    "\n",
    "%matplotlib inline\n",
    "from scipy.stats import norm\n",
    "\n",
    "from matplotlib.pyplot import figure"
   ]
  },
  {
   "cell_type": "code",
   "execution_count": 2,
   "metadata": {},
   "outputs": [
    {
     "data": {
      "text/html": [
       "<div>\n",
       "<style scoped>\n",
       "    .dataframe tbody tr th:only-of-type {\n",
       "        vertical-align: middle;\n",
       "    }\n",
       "\n",
       "    .dataframe tbody tr th {\n",
       "        vertical-align: top;\n",
       "    }\n",
       "\n",
       "    .dataframe thead th {\n",
       "        text-align: right;\n",
       "    }\n",
       "</style>\n",
       "<table border=\"1\" class=\"dataframe\">\n",
       "  <thead>\n",
       "    <tr style=\"text-align: right;\">\n",
       "      <th></th>\n",
       "      <th>ListingKey</th>\n",
       "      <th>ListingNumber</th>\n",
       "      <th>ListingCreationDate</th>\n",
       "      <th>CreditGrade</th>\n",
       "      <th>Term</th>\n",
       "      <th>LoanStatus</th>\n",
       "      <th>ClosedDate</th>\n",
       "      <th>BorrowerAPR</th>\n",
       "      <th>BorrowerRate</th>\n",
       "      <th>LenderYield</th>\n",
       "      <th>...</th>\n",
       "      <th>LP_ServiceFees</th>\n",
       "      <th>LP_CollectionFees</th>\n",
       "      <th>LP_GrossPrincipalLoss</th>\n",
       "      <th>LP_NetPrincipalLoss</th>\n",
       "      <th>LP_NonPrincipalRecoverypayments</th>\n",
       "      <th>PercentFunded</th>\n",
       "      <th>Recommendations</th>\n",
       "      <th>InvestmentFromFriendsCount</th>\n",
       "      <th>InvestmentFromFriendsAmount</th>\n",
       "      <th>Investors</th>\n",
       "    </tr>\n",
       "  </thead>\n",
       "  <tbody>\n",
       "    <tr>\n",
       "      <th>0</th>\n",
       "      <td>1021339766868145413AB3B</td>\n",
       "      <td>193129</td>\n",
       "      <td>2007-08-26 19:09:29.263000000</td>\n",
       "      <td>C</td>\n",
       "      <td>36</td>\n",
       "      <td>Completed</td>\n",
       "      <td>2009-08-14 00:00:00</td>\n",
       "      <td>0.16516</td>\n",
       "      <td>0.158</td>\n",
       "      <td>0.138</td>\n",
       "      <td>...</td>\n",
       "      <td>-133.18</td>\n",
       "      <td>0.0</td>\n",
       "      <td>0.0</td>\n",
       "      <td>0.0</td>\n",
       "      <td>0.0</td>\n",
       "      <td>1.0</td>\n",
       "      <td>0</td>\n",
       "      <td>0</td>\n",
       "      <td>0.0</td>\n",
       "      <td>258</td>\n",
       "    </tr>\n",
       "    <tr>\n",
       "      <th>1</th>\n",
       "      <td>10273602499503308B223C1</td>\n",
       "      <td>1209647</td>\n",
       "      <td>2014-02-27 08:28:07.900000000</td>\n",
       "      <td>NaN</td>\n",
       "      <td>36</td>\n",
       "      <td>Current</td>\n",
       "      <td>NaN</td>\n",
       "      <td>0.12016</td>\n",
       "      <td>0.092</td>\n",
       "      <td>0.082</td>\n",
       "      <td>...</td>\n",
       "      <td>0.00</td>\n",
       "      <td>0.0</td>\n",
       "      <td>0.0</td>\n",
       "      <td>0.0</td>\n",
       "      <td>0.0</td>\n",
       "      <td>1.0</td>\n",
       "      <td>0</td>\n",
       "      <td>0</td>\n",
       "      <td>0.0</td>\n",
       "      <td>1</td>\n",
       "    </tr>\n",
       "    <tr>\n",
       "      <th>2</th>\n",
       "      <td>0EE9337825851032864889A</td>\n",
       "      <td>81716</td>\n",
       "      <td>2007-01-05 15:00:47.090000000</td>\n",
       "      <td>HR</td>\n",
       "      <td>36</td>\n",
       "      <td>Completed</td>\n",
       "      <td>2009-12-17 00:00:00</td>\n",
       "      <td>0.28269</td>\n",
       "      <td>0.275</td>\n",
       "      <td>0.240</td>\n",
       "      <td>...</td>\n",
       "      <td>-24.20</td>\n",
       "      <td>0.0</td>\n",
       "      <td>0.0</td>\n",
       "      <td>0.0</td>\n",
       "      <td>0.0</td>\n",
       "      <td>1.0</td>\n",
       "      <td>0</td>\n",
       "      <td>0</td>\n",
       "      <td>0.0</td>\n",
       "      <td>41</td>\n",
       "    </tr>\n",
       "  </tbody>\n",
       "</table>\n",
       "<p>3 rows × 81 columns</p>\n",
       "</div>"
      ],
      "text/plain": [
       "                ListingKey  ListingNumber            ListingCreationDate  \\\n",
       "0  1021339766868145413AB3B         193129  2007-08-26 19:09:29.263000000   \n",
       "1  10273602499503308B223C1        1209647  2014-02-27 08:28:07.900000000   \n",
       "2  0EE9337825851032864889A          81716  2007-01-05 15:00:47.090000000   \n",
       "\n",
       "  CreditGrade  Term LoanStatus           ClosedDate  BorrowerAPR  \\\n",
       "0           C    36  Completed  2009-08-14 00:00:00      0.16516   \n",
       "1         NaN    36    Current                  NaN      0.12016   \n",
       "2          HR    36  Completed  2009-12-17 00:00:00      0.28269   \n",
       "\n",
       "   BorrowerRate  LenderYield  ...  LP_ServiceFees  LP_CollectionFees  \\\n",
       "0         0.158        0.138  ...         -133.18                0.0   \n",
       "1         0.092        0.082  ...            0.00                0.0   \n",
       "2         0.275        0.240  ...          -24.20                0.0   \n",
       "\n",
       "   LP_GrossPrincipalLoss  LP_NetPrincipalLoss LP_NonPrincipalRecoverypayments  \\\n",
       "0                    0.0                  0.0                             0.0   \n",
       "1                    0.0                  0.0                             0.0   \n",
       "2                    0.0                  0.0                             0.0   \n",
       "\n",
       "   PercentFunded  Recommendations InvestmentFromFriendsCount  \\\n",
       "0            1.0                0                          0   \n",
       "1            1.0                0                          0   \n",
       "2            1.0                0                          0   \n",
       "\n",
       "  InvestmentFromFriendsAmount Investors  \n",
       "0                         0.0       258  \n",
       "1                         0.0         1  \n",
       "2                         0.0        41  \n",
       "\n",
       "[3 rows x 81 columns]"
      ]
     },
     "execution_count": 2,
     "metadata": {},
     "output_type": "execute_result"
    }
   ],
   "source": [
    "# Loading in the dataset and checking the import\n",
    "\n",
    "df = pd.read_csv('prosperLoanData.csv')\n",
    "df.head(3)"
   ]
  },
  {
   "cell_type": "code",
   "execution_count": 3,
   "metadata": {},
   "outputs": [
    {
     "name": "stdout",
     "output_type": "stream",
     "text": [
      "<class 'pandas.core.frame.DataFrame'>\n",
      "RangeIndex: 113937 entries, 0 to 113936\n",
      "Data columns (total 81 columns):\n",
      " #   Column                               Non-Null Count   Dtype  \n",
      "---  ------                               --------------   -----  \n",
      " 0   ListingKey                           113937 non-null  object \n",
      " 1   ListingNumber                        113937 non-null  int64  \n",
      " 2   ListingCreationDate                  113937 non-null  object \n",
      " 3   CreditGrade                          28953 non-null   object \n",
      " 4   Term                                 113937 non-null  int64  \n",
      " 5   LoanStatus                           113937 non-null  object \n",
      " 6   ClosedDate                           55089 non-null   object \n",
      " 7   BorrowerAPR                          113912 non-null  float64\n",
      " 8   BorrowerRate                         113937 non-null  float64\n",
      " 9   LenderYield                          113937 non-null  float64\n",
      " 10  EstimatedEffectiveYield              84853 non-null   float64\n",
      " 11  EstimatedLoss                        84853 non-null   float64\n",
      " 12  EstimatedReturn                      84853 non-null   float64\n",
      " 13  ProsperRating (numeric)              84853 non-null   float64\n",
      " 14  ProsperRating (Alpha)                84853 non-null   object \n",
      " 15  ProsperScore                         84853 non-null   float64\n",
      " 16  ListingCategory (numeric)            113937 non-null  int64  \n",
      " 17  BorrowerState                        108422 non-null  object \n",
      " 18  Occupation                           110349 non-null  object \n",
      " 19  EmploymentStatus                     111682 non-null  object \n",
      " 20  EmploymentStatusDuration             106312 non-null  float64\n",
      " 21  IsBorrowerHomeowner                  113937 non-null  bool   \n",
      " 22  CurrentlyInGroup                     113937 non-null  bool   \n",
      " 23  GroupKey                             13341 non-null   object \n",
      " 24  DateCreditPulled                     113937 non-null  object \n",
      " 25  CreditScoreRangeLower                113346 non-null  float64\n",
      " 26  CreditScoreRangeUpper                113346 non-null  float64\n",
      " 27  FirstRecordedCreditLine              113240 non-null  object \n",
      " 28  CurrentCreditLines                   106333 non-null  float64\n",
      " 29  OpenCreditLines                      106333 non-null  float64\n",
      " 30  TotalCreditLinespast7years           113240 non-null  float64\n",
      " 31  OpenRevolvingAccounts                113937 non-null  int64  \n",
      " 32  OpenRevolvingMonthlyPayment          113937 non-null  float64\n",
      " 33  InquiriesLast6Months                 113240 non-null  float64\n",
      " 34  TotalInquiries                       112778 non-null  float64\n",
      " 35  CurrentDelinquencies                 113240 non-null  float64\n",
      " 36  AmountDelinquent                     106315 non-null  float64\n",
      " 37  DelinquenciesLast7Years              112947 non-null  float64\n",
      " 38  PublicRecordsLast10Years             113240 non-null  float64\n",
      " 39  PublicRecordsLast12Months            106333 non-null  float64\n",
      " 40  RevolvingCreditBalance               106333 non-null  float64\n",
      " 41  BankcardUtilization                  106333 non-null  float64\n",
      " 42  AvailableBankcardCredit              106393 non-null  float64\n",
      " 43  TotalTrades                          106393 non-null  float64\n",
      " 44  TradesNeverDelinquent (percentage)   106393 non-null  float64\n",
      " 45  TradesOpenedLast6Months              106393 non-null  float64\n",
      " 46  DebtToIncomeRatio                    105383 non-null  float64\n",
      " 47  IncomeRange                          113937 non-null  object \n",
      " 48  IncomeVerifiable                     113937 non-null  bool   \n",
      " 49  StatedMonthlyIncome                  113937 non-null  float64\n",
      " 50  LoanKey                              113937 non-null  object \n",
      " 51  TotalProsperLoans                    22085 non-null   float64\n",
      " 52  TotalProsperPaymentsBilled           22085 non-null   float64\n",
      " 53  OnTimeProsperPayments                22085 non-null   float64\n",
      " 54  ProsperPaymentsLessThanOneMonthLate  22085 non-null   float64\n",
      " 55  ProsperPaymentsOneMonthPlusLate      22085 non-null   float64\n",
      " 56  ProsperPrincipalBorrowed             22085 non-null   float64\n",
      " 57  ProsperPrincipalOutstanding          22085 non-null   float64\n",
      " 58  ScorexChangeAtTimeOfListing          18928 non-null   float64\n",
      " 59  LoanCurrentDaysDelinquent            113937 non-null  int64  \n",
      " 60  LoanFirstDefaultedCycleNumber        16952 non-null   float64\n",
      " 61  LoanMonthsSinceOrigination           113937 non-null  int64  \n",
      " 62  LoanNumber                           113937 non-null  int64  \n",
      " 63  LoanOriginalAmount                   113937 non-null  int64  \n",
      " 64  LoanOriginationDate                  113937 non-null  object \n",
      " 65  LoanOriginationQuarter               113937 non-null  object \n",
      " 66  MemberKey                            113937 non-null  object \n",
      " 67  MonthlyLoanPayment                   113937 non-null  float64\n",
      " 68  LP_CustomerPayments                  113937 non-null  float64\n",
      " 69  LP_CustomerPrincipalPayments         113937 non-null  float64\n",
      " 70  LP_InterestandFees                   113937 non-null  float64\n",
      " 71  LP_ServiceFees                       113937 non-null  float64\n",
      " 72  LP_CollectionFees                    113937 non-null  float64\n",
      " 73  LP_GrossPrincipalLoss                113937 non-null  float64\n",
      " 74  LP_NetPrincipalLoss                  113937 non-null  float64\n",
      " 75  LP_NonPrincipalRecoverypayments      113937 non-null  float64\n",
      " 76  PercentFunded                        113937 non-null  float64\n",
      " 77  Recommendations                      113937 non-null  int64  \n",
      " 78  InvestmentFromFriendsCount           113937 non-null  int64  \n",
      " 79  InvestmentFromFriendsAmount          113937 non-null  float64\n",
      " 80  Investors                            113937 non-null  int64  \n",
      "dtypes: bool(3), float64(50), int64(11), object(17)\n",
      "memory usage: 68.1+ MB\n"
     ]
    }
   ],
   "source": [
    "df.info()"
   ]
  },
  {
   "cell_type": "markdown",
   "metadata": {},
   "source": [
    "## Introduction"
   ]
  },
  {
   "cell_type": "markdown",
   "metadata": {},
   "source": [
    "\n",
    "\n",
    "#### Dataset Structure\n",
    "\n",
    "   This dataset is a .csv file (comma separated values) with eighty columns and approximately 113,937 rows.  Right away I could see there were columns in formats which might not be ideal for analysis, such as ListingCreationDate. This column is an object in the original data.  I would change it to a datetime format for analysis, as well as all other date / time columns, so I could look at changes across time periods.\n",
    "\n",
    "#### Dataset Features\n",
    "\n",
    "   There are 81 different columns of variables for this loan data.  Some of the data is related to the borrower such as occupation, employment status and duration, public records, and credit scores.  Some of the data is analysis internally completed by Prosper, such as Prosper ratings, estimated yield, estimates for loss and return.  Some of the data is related to the status of the loan.  The data could be separated into smaller tables containing like information.  A table containing only variables relevant to the analysis plan could be made.  \n",
    "\n",
    "#### Dataset Features of Interest\n",
    "\n",
    "   I am interested in what the loans were for, and what states the loans were made in.  Further I'd like to look at occupations and interest rates.  Finally, I'd like to see what happened to loans.  Did certain states or occupations have similar features related to repayment or default?  The business was stopped by the SEC between November of 2008 and July of 2009, so the data should be separated in a way where we can see if investors had access to data for variables which show correlation to default in both sets of years."
   ]
  },
  {
   "cell_type": "markdown",
   "metadata": {},
   "source": [
    "## Univariate Exploration\n"
   ]
  },
  {
   "cell_type": "code",
   "execution_count": 4,
   "metadata": {},
   "outputs": [
    {
     "data": {
      "text/plain": [
       "113066"
      ]
     },
     "execution_count": 4,
     "metadata": {},
     "output_type": "execute_result"
    }
   ],
   "source": [
    "# I want to make sure the loan listings are unique\n",
    "df['ListingKey'].nunique()"
   ]
  },
  {
   "cell_type": "code",
   "execution_count": 5,
   "metadata": {},
   "outputs": [
    {
     "data": {
      "text/plain": [
       "ListingKey                     871\n",
       "ListingNumber                  871\n",
       "ListingCreationDate            871\n",
       "CreditGrade                      0\n",
       "Term                           871\n",
       "                              ... \n",
       "PercentFunded                  871\n",
       "Recommendations                871\n",
       "InvestmentFromFriendsCount     871\n",
       "InvestmentFromFriendsAmount    871\n",
       "Investors                      871\n",
       "Length: 81, dtype: int64"
      ]
     },
     "execution_count": 5,
     "metadata": {},
     "output_type": "execute_result"
    }
   ],
   "source": [
    "# I only want to analyze unique loans, so lets look at the duplicates\n",
    "df_key_dups = df[df['ListingKey'].duplicated()==True]\n",
    "df_key_dups.count()"
   ]
  },
  {
   "cell_type": "code",
   "execution_count": 6,
   "metadata": {},
   "outputs": [],
   "source": [
    "# I'm going to make a copy of the dataframe and drop the duplicates\n",
    "df_new = df.copy()\n",
    "##df_new.info()"
   ]
  },
  {
   "cell_type": "code",
   "execution_count": 7,
   "metadata": {},
   "outputs": [
    {
     "name": "stdout",
     "output_type": "stream",
     "text": [
      "<class 'pandas.core.frame.DataFrame'>\n",
      "Int64Index: 112239 entries, 0 to 113936\n",
      "Data columns (total 81 columns):\n",
      " #   Column                               Non-Null Count   Dtype  \n",
      "---  ------                               --------------   -----  \n",
      " 0   ListingKey                           112239 non-null  object \n",
      " 1   ListingNumber                        112239 non-null  int64  \n",
      " 2   ListingCreationDate                  112239 non-null  object \n",
      " 3   CreditGrade                          28953 non-null   object \n",
      " 4   Term                                 112239 non-null  int64  \n",
      " 5   LoanStatus                           112239 non-null  object \n",
      " 6   ClosedDate                           55063 non-null   object \n",
      " 7   BorrowerAPR                          112214 non-null  float64\n",
      " 8   BorrowerRate                         112239 non-null  float64\n",
      " 9   LenderYield                          112239 non-null  float64\n",
      " 10  EstimatedEffectiveYield              83155 non-null   float64\n",
      " 11  EstimatedLoss                        83155 non-null   float64\n",
      " 12  EstimatedReturn                      83155 non-null   float64\n",
      " 13  ProsperRating (numeric)              83155 non-null   float64\n",
      " 14  ProsperRating (Alpha)                83155 non-null   object \n",
      " 15  ProsperScore                         83155 non-null   float64\n",
      " 16  ListingCategory (numeric)            112239 non-null  int64  \n",
      " 17  BorrowerState                        106724 non-null  object \n",
      " 18  Occupation                           108766 non-null  object \n",
      " 19  EmploymentStatus                     109984 non-null  object \n",
      " 20  EmploymentStatusDuration             104614 non-null  float64\n",
      " 21  IsBorrowerHomeowner                  112239 non-null  bool   \n",
      " 22  CurrentlyInGroup                     112239 non-null  bool   \n",
      " 23  GroupKey                             13337 non-null   object \n",
      " 24  DateCreditPulled                     112239 non-null  object \n",
      " 25  CreditScoreRangeLower                111648 non-null  float64\n",
      " 26  CreditScoreRangeUpper                111648 non-null  float64\n",
      " 27  FirstRecordedCreditLine              111542 non-null  object \n",
      " 28  CurrentCreditLines                   104635 non-null  float64\n",
      " 29  OpenCreditLines                      104635 non-null  float64\n",
      " 30  TotalCreditLinespast7years           111542 non-null  float64\n",
      " 31  OpenRevolvingAccounts                112239 non-null  int64  \n",
      " 32  OpenRevolvingMonthlyPayment          112239 non-null  float64\n",
      " 33  InquiriesLast6Months                 111542 non-null  float64\n",
      " 34  TotalInquiries                       111080 non-null  float64\n",
      " 35  CurrentDelinquencies                 111542 non-null  float64\n",
      " 36  AmountDelinquent                     104617 non-null  float64\n",
      " 37  DelinquenciesLast7Years              111249 non-null  float64\n",
      " 38  PublicRecordsLast10Years             111542 non-null  float64\n",
      " 39  PublicRecordsLast12Months            104635 non-null  float64\n",
      " 40  RevolvingCreditBalance               104635 non-null  float64\n",
      " 41  BankcardUtilization                  104635 non-null  float64\n",
      " 42  AvailableBankcardCredit              104695 non-null  float64\n",
      " 43  TotalTrades                          104695 non-null  float64\n",
      " 44  TradesNeverDelinquent (percentage)   104695 non-null  float64\n",
      " 45  TradesOpenedLast6Months              104695 non-null  float64\n",
      " 46  DebtToIncomeRatio                    103846 non-null  float64\n",
      " 47  IncomeRange                          112239 non-null  object \n",
      " 48  IncomeVerifiable                     112239 non-null  bool   \n",
      " 49  StatedMonthlyIncome                  112239 non-null  float64\n",
      " 50  LoanKey                              112239 non-null  object \n",
      " 51  TotalProsperLoans                    21767 non-null   float64\n",
      " 52  TotalProsperPaymentsBilled           21767 non-null   float64\n",
      " 53  OnTimeProsperPayments                21767 non-null   float64\n",
      " 54  ProsperPaymentsLessThanOneMonthLate  21767 non-null   float64\n",
      " 55  ProsperPaymentsOneMonthPlusLate      21767 non-null   float64\n",
      " 56  ProsperPrincipalBorrowed             21767 non-null   float64\n",
      " 57  ProsperPrincipalOutstanding          21767 non-null   float64\n",
      " 58  ScorexChangeAtTimeOfListing          18896 non-null   float64\n",
      " 59  LoanCurrentDaysDelinquent            112239 non-null  int64  \n",
      " 60  LoanFirstDefaultedCycleNumber        16952 non-null   float64\n",
      " 61  LoanMonthsSinceOrigination           112239 non-null  int64  \n",
      " 62  LoanNumber                           112239 non-null  int64  \n",
      " 63  LoanOriginalAmount                   112239 non-null  int64  \n",
      " 64  LoanOriginationDate                  112239 non-null  object \n",
      " 65  LoanOriginationQuarter               112239 non-null  object \n",
      " 66  MemberKey                            112239 non-null  object \n",
      " 67  MonthlyLoanPayment                   112239 non-null  float64\n",
      " 68  LP_CustomerPayments                  112239 non-null  float64\n",
      " 69  LP_CustomerPrincipalPayments         112239 non-null  float64\n",
      " 70  LP_InterestandFees                   112239 non-null  float64\n",
      " 71  LP_ServiceFees                       112239 non-null  float64\n",
      " 72  LP_CollectionFees                    112239 non-null  float64\n",
      " 73  LP_GrossPrincipalLoss                112239 non-null  float64\n",
      " 74  LP_NetPrincipalLoss                  112239 non-null  float64\n",
      " 75  LP_NonPrincipalRecoverypayments      112239 non-null  float64\n",
      " 76  PercentFunded                        112239 non-null  float64\n",
      " 77  Recommendations                      112239 non-null  int64  \n",
      " 78  InvestmentFromFriendsCount           112239 non-null  int64  \n",
      " 79  InvestmentFromFriendsAmount          112239 non-null  float64\n",
      " 80  Investors                            112239 non-null  int64  \n",
      "dtypes: bool(3), float64(50), int64(11), object(17)\n",
      "memory usage: 68.0+ MB\n"
     ]
    }
   ],
   "source": [
    "#Drop the duplicates in 'ListingKey' and then check the row totals\n",
    "df_new.drop_duplicates(subset=['ListingNumber'], keep=False, inplace=True)\n",
    "df_new.info()"
   ]
  },
  {
   "cell_type": "code",
   "execution_count": 8,
   "metadata": {},
   "outputs": [],
   "source": [
    "# import the pandas datetimefunction\n",
    "import datetime\n",
    "# Change the date columns to date time format\n",
    "df_new['DateCreditPulled']=pd.to_datetime(df_new['DateCreditPulled'])\n",
    "df_new['ListingCreationDate']=pd.to_datetime(df_new['ListingCreationDate'])\n",
    "df_new['LoanOriginationDate']=pd.to_datetime(df_new['LoanOriginationDate'])\n",
    "df_new['ClosedDate']=pd.to_datetime(df_new['ClosedDate'])"
   ]
  },
  {
   "cell_type": "code",
   "execution_count": 9,
   "metadata": {},
   "outputs": [
    {
     "data": {
      "text/plain": [
       "(Timestamp('2005-11-09 20:44:28.847000'),\n",
       " Timestamp('2014-03-10 12:20:53.760000'))"
      ]
     },
     "execution_count": 9,
     "metadata": {},
     "output_type": "execute_result"
    }
   ],
   "source": [
    "# Get the start and end dates for the loan listing creation data\n",
    "df_new['ListingCreationDate'].min(),df_new['ListingCreationDate'].max()"
   ]
  },
  {
   "cell_type": "code",
   "execution_count": 10,
   "metadata": {},
   "outputs": [
    {
     "data": {
      "text/plain": [
       "(Timestamp('2005-11-15 00:00:00'), Timestamp('2014-03-12 00:00:00'))"
      ]
     },
     "execution_count": 10,
     "metadata": {},
     "output_type": "execute_result"
    }
   ],
   "source": [
    "# Get the start and end dates for the loan origination data\n",
    "df_new['LoanOriginationDate'].min(),df_new['LoanOriginationDate'].max()"
   ]
  },
  {
   "cell_type": "code",
   "execution_count": 11,
   "metadata": {},
   "outputs": [
    {
     "data": {
      "text/plain": [
       "(Timestamp('2005-11-25 00:00:00'), Timestamp('2014-03-10 00:00:00'))"
      ]
     },
     "execution_count": 11,
     "metadata": {},
     "output_type": "execute_result"
    }
   ],
   "source": [
    "# Get the start and end dates for the loan closed date\n",
    "df_new['ClosedDate'].min(),df_new['ClosedDate'].max()"
   ]
  },
  {
   "cell_type": "code",
   "execution_count": 12,
   "metadata": {},
   "outputs": [
    {
     "data": {
      "text/html": [
       "<div>\n",
       "<style scoped>\n",
       "    .dataframe tbody tr th:only-of-type {\n",
       "        vertical-align: middle;\n",
       "    }\n",
       "\n",
       "    .dataframe tbody tr th {\n",
       "        vertical-align: top;\n",
       "    }\n",
       "\n",
       "    .dataframe thead th {\n",
       "        text-align: right;\n",
       "    }\n",
       "</style>\n",
       "<table border=\"1\" class=\"dataframe\">\n",
       "  <thead>\n",
       "    <tr style=\"text-align: right;\">\n",
       "      <th></th>\n",
       "      <th>BorrowerState</th>\n",
       "      <th>count</th>\n",
       "    </tr>\n",
       "  </thead>\n",
       "  <tbody>\n",
       "    <tr>\n",
       "      <th>4</th>\n",
       "      <td>CA</td>\n",
       "      <td>14717</td>\n",
       "    </tr>\n",
       "    <tr>\n",
       "      <th>43</th>\n",
       "      <td>TX</td>\n",
       "      <td>6842</td>\n",
       "    </tr>\n",
       "    <tr>\n",
       "      <th>34</th>\n",
       "      <td>NY</td>\n",
       "      <td>6729</td>\n",
       "    </tr>\n",
       "    <tr>\n",
       "      <th>9</th>\n",
       "      <td>FL</td>\n",
       "      <td>6720</td>\n",
       "    </tr>\n",
       "    <tr>\n",
       "      <th>14</th>\n",
       "      <td>IL</td>\n",
       "      <td>5921</td>\n",
       "    </tr>\n",
       "    <tr>\n",
       "      <th>10</th>\n",
       "      <td>GA</td>\n",
       "      <td>5008</td>\n",
       "    </tr>\n",
       "    <tr>\n",
       "      <th>35</th>\n",
       "      <td>OH</td>\n",
       "      <td>4197</td>\n",
       "    </tr>\n",
       "    <tr>\n",
       "      <th>22</th>\n",
       "      <td>MI</td>\n",
       "      <td>3593</td>\n",
       "    </tr>\n",
       "    <tr>\n",
       "      <th>45</th>\n",
       "      <td>VA</td>\n",
       "      <td>3278</td>\n",
       "    </tr>\n",
       "    <tr>\n",
       "      <th>31</th>\n",
       "      <td>NJ</td>\n",
       "      <td>3097</td>\n",
       "    </tr>\n",
       "    <tr>\n",
       "      <th>27</th>\n",
       "      <td>NC</td>\n",
       "      <td>3084</td>\n",
       "    </tr>\n",
       "    <tr>\n",
       "      <th>47</th>\n",
       "      <td>WA</td>\n",
       "      <td>3048</td>\n",
       "    </tr>\n",
       "    <tr>\n",
       "      <th>38</th>\n",
       "      <td>PA</td>\n",
       "      <td>2972</td>\n",
       "    </tr>\n",
       "    <tr>\n",
       "      <th>20</th>\n",
       "      <td>MD</td>\n",
       "      <td>2821</td>\n",
       "    </tr>\n",
       "    <tr>\n",
       "      <th>24</th>\n",
       "      <td>MO</td>\n",
       "      <td>2615</td>\n",
       "    </tr>\n",
       "    <tr>\n",
       "      <th>23</th>\n",
       "      <td>MN</td>\n",
       "      <td>2318</td>\n",
       "    </tr>\n",
       "    <tr>\n",
       "      <th>19</th>\n",
       "      <td>MA</td>\n",
       "      <td>2242</td>\n",
       "    </tr>\n",
       "    <tr>\n",
       "      <th>5</th>\n",
       "      <td>CO</td>\n",
       "      <td>2210</td>\n",
       "    </tr>\n",
       "    <tr>\n",
       "      <th>15</th>\n",
       "      <td>IN</td>\n",
       "      <td>2078</td>\n",
       "    </tr>\n",
       "    <tr>\n",
       "      <th>3</th>\n",
       "      <td>AZ</td>\n",
       "      <td>1901</td>\n",
       "    </tr>\n",
       "    <tr>\n",
       "      <th>48</th>\n",
       "      <td>WI</td>\n",
       "      <td>1842</td>\n",
       "    </tr>\n",
       "    <tr>\n",
       "      <th>37</th>\n",
       "      <td>OR</td>\n",
       "      <td>1817</td>\n",
       "    </tr>\n",
       "    <tr>\n",
       "      <th>42</th>\n",
       "      <td>TN</td>\n",
       "      <td>1737</td>\n",
       "    </tr>\n",
       "    <tr>\n",
       "      <th>1</th>\n",
       "      <td>AL</td>\n",
       "      <td>1679</td>\n",
       "    </tr>\n",
       "    <tr>\n",
       "      <th>6</th>\n",
       "      <td>CT</td>\n",
       "      <td>1627</td>\n",
       "    </tr>\n",
       "    <tr>\n",
       "      <th>40</th>\n",
       "      <td>SC</td>\n",
       "      <td>1122</td>\n",
       "    </tr>\n",
       "    <tr>\n",
       "      <th>33</th>\n",
       "      <td>NV</td>\n",
       "      <td>1090</td>\n",
       "    </tr>\n",
       "    <tr>\n",
       "      <th>16</th>\n",
       "      <td>KS</td>\n",
       "      <td>1062</td>\n",
       "    </tr>\n",
       "    <tr>\n",
       "      <th>17</th>\n",
       "      <td>KY</td>\n",
       "      <td>983</td>\n",
       "    </tr>\n",
       "    <tr>\n",
       "      <th>36</th>\n",
       "      <td>OK</td>\n",
       "      <td>971</td>\n",
       "    </tr>\n",
       "    <tr>\n",
       "      <th>18</th>\n",
       "      <td>LA</td>\n",
       "      <td>954</td>\n",
       "    </tr>\n",
       "    <tr>\n",
       "      <th>44</th>\n",
       "      <td>UT</td>\n",
       "      <td>877</td>\n",
       "    </tr>\n",
       "    <tr>\n",
       "      <th>2</th>\n",
       "      <td>AR</td>\n",
       "      <td>855</td>\n",
       "    </tr>\n",
       "    <tr>\n",
       "      <th>25</th>\n",
       "      <td>MS</td>\n",
       "      <td>787</td>\n",
       "    </tr>\n",
       "    <tr>\n",
       "      <th>29</th>\n",
       "      <td>NE</td>\n",
       "      <td>674</td>\n",
       "    </tr>\n",
       "    <tr>\n",
       "      <th>13</th>\n",
       "      <td>ID</td>\n",
       "      <td>599</td>\n",
       "    </tr>\n",
       "    <tr>\n",
       "      <th>30</th>\n",
       "      <td>NH</td>\n",
       "      <td>551</td>\n",
       "    </tr>\n",
       "    <tr>\n",
       "      <th>32</th>\n",
       "      <td>NM</td>\n",
       "      <td>472</td>\n",
       "    </tr>\n",
       "    <tr>\n",
       "      <th>39</th>\n",
       "      <td>RI</td>\n",
       "      <td>435</td>\n",
       "    </tr>\n",
       "    <tr>\n",
       "      <th>11</th>\n",
       "      <td>HI</td>\n",
       "      <td>409</td>\n",
       "    </tr>\n",
       "    <tr>\n",
       "      <th>49</th>\n",
       "      <td>WV</td>\n",
       "      <td>391</td>\n",
       "    </tr>\n",
       "    <tr>\n",
       "      <th>7</th>\n",
       "      <td>DC</td>\n",
       "      <td>382</td>\n",
       "    </tr>\n",
       "    <tr>\n",
       "      <th>26</th>\n",
       "      <td>MT</td>\n",
       "      <td>330</td>\n",
       "    </tr>\n",
       "    <tr>\n",
       "      <th>8</th>\n",
       "      <td>DE</td>\n",
       "      <td>300</td>\n",
       "    </tr>\n",
       "    <tr>\n",
       "      <th>46</th>\n",
       "      <td>VT</td>\n",
       "      <td>207</td>\n",
       "    </tr>\n",
       "    <tr>\n",
       "      <th>0</th>\n",
       "      <td>AK</td>\n",
       "      <td>200</td>\n",
       "    </tr>\n",
       "    <tr>\n",
       "      <th>41</th>\n",
       "      <td>SD</td>\n",
       "      <td>189</td>\n",
       "    </tr>\n",
       "    <tr>\n",
       "      <th>12</th>\n",
       "      <td>IA</td>\n",
       "      <td>186</td>\n",
       "    </tr>\n",
       "    <tr>\n",
       "      <th>50</th>\n",
       "      <td>WY</td>\n",
       "      <td>150</td>\n",
       "    </tr>\n",
       "    <tr>\n",
       "      <th>21</th>\n",
       "      <td>ME</td>\n",
       "      <td>101</td>\n",
       "    </tr>\n",
       "    <tr>\n",
       "      <th>28</th>\n",
       "      <td>ND</td>\n",
       "      <td>52</td>\n",
       "    </tr>\n",
       "  </tbody>\n",
       "</table>\n",
       "</div>"
      ],
      "text/plain": [
       "   BorrowerState  count\n",
       "4             CA  14717\n",
       "43            TX   6842\n",
       "34            NY   6729\n",
       "9             FL   6720\n",
       "14            IL   5921\n",
       "10            GA   5008\n",
       "35            OH   4197\n",
       "22            MI   3593\n",
       "45            VA   3278\n",
       "31            NJ   3097\n",
       "27            NC   3084\n",
       "47            WA   3048\n",
       "38            PA   2972\n",
       "20            MD   2821\n",
       "24            MO   2615\n",
       "23            MN   2318\n",
       "19            MA   2242\n",
       "5             CO   2210\n",
       "15            IN   2078\n",
       "3             AZ   1901\n",
       "48            WI   1842\n",
       "37            OR   1817\n",
       "42            TN   1737\n",
       "1             AL   1679\n",
       "6             CT   1627\n",
       "40            SC   1122\n",
       "33            NV   1090\n",
       "16            KS   1062\n",
       "17            KY    983\n",
       "36            OK    971\n",
       "18            LA    954\n",
       "44            UT    877\n",
       "2             AR    855\n",
       "25            MS    787\n",
       "29            NE    674\n",
       "13            ID    599\n",
       "30            NH    551\n",
       "32            NM    472\n",
       "39            RI    435\n",
       "11            HI    409\n",
       "49            WV    391\n",
       "7             DC    382\n",
       "26            MT    330\n",
       "8             DE    300\n",
       "46            VT    207\n",
       "0             AK    200\n",
       "41            SD    189\n",
       "12            IA    186\n",
       "50            WY    150\n",
       "21            ME    101\n",
       "28            ND     52"
      ]
     },
     "execution_count": 12,
     "metadata": {},
     "output_type": "execute_result"
    }
   ],
   "source": [
    "# I used groupby to look at the loan listings per state\n",
    "state_df = df.groupby(\"BorrowerState\")['ListingKey'].count().reset_index(name='count').sort_values(by=['count'], ascending=False)\n",
    "state_df"
   ]
  },
  {
   "cell_type": "markdown",
   "metadata": {},
   "source": [
    "> The loans by state analysis is sorted in descending order, showing California had the most amount of loans, and North Dakota had the fewest.  States could be divided into regions for analysis."
   ]
  },
  {
   "cell_type": "code",
   "execution_count": 13,
   "metadata": {},
   "outputs": [
    {
     "data": {
      "text/plain": [
       "5515"
      ]
     },
     "execution_count": 13,
     "metadata": {},
     "output_type": "execute_result"
    }
   ],
   "source": [
    "# Looking to see if any loans were missing a state value\n",
    "# As an investor,  I would want to know the state and occupation for the borrower\n",
    "\n",
    "df_new['BorrowerState'].isnull().sum()"
   ]
  },
  {
   "cell_type": "code",
   "execution_count": 14,
   "metadata": {},
   "outputs": [],
   "source": [
    "# Fill null state values with \"NoData\" so rows shows up in analysis, https://stackoverflow.com/questions/38134012/pandas-dataframe-fillna-only-some-columns-in-place\n",
    "df_new.fillna({'BorrowerState':\"NoData\"}, inplace=True)"
   ]
  },
  {
   "cell_type": "code",
   "execution_count": 15,
   "metadata": {},
   "outputs": [
    {
     "data": {
      "text/plain": [
       "112239"
      ]
     },
     "execution_count": 15,
     "metadata": {},
     "output_type": "execute_result"
    }
   ],
   "source": [
    "\n",
    "# Checking to see that all 'ListingKey' values are unique\n",
    "df_new['ListingKey'].nunique()"
   ]
  },
  {
   "cell_type": "code",
   "execution_count": 16,
   "metadata": {},
   "outputs": [
    {
     "data": {
      "text/plain": [
       "112239"
      ]
     },
     "execution_count": 16,
     "metadata": {},
     "output_type": "execute_result"
    }
   ],
   "source": [
    "# New row total for Borrower State\n",
    "df_new['BorrowerState'].count()"
   ]
  },
  {
   "cell_type": "code",
   "execution_count": 17,
   "metadata": {},
   "outputs": [
    {
     "data": {
      "text/plain": [
       "3473"
      ]
     },
     "execution_count": 17,
     "metadata": {},
     "output_type": "execute_result"
    }
   ],
   "source": [
    "# Looking for missing occupations\n",
    "df_new['Occupation'].isnull().sum()"
   ]
  },
  {
   "cell_type": "code",
   "execution_count": 18,
   "metadata": {},
   "outputs": [],
   "source": [
    "# Adding missing occupation data to category zero\n",
    "df_new.fillna({'Occupation':\"NoData\"}, inplace=True)"
   ]
  },
  {
   "cell_type": "code",
   "execution_count": 19,
   "metadata": {},
   "outputs": [
    {
     "data": {
      "text/plain": [
       "112239"
      ]
     },
     "execution_count": 19,
     "metadata": {},
     "output_type": "execute_result"
    }
   ],
   "source": [
    "# Check the new row total for Occupation\n",
    "df_new['Occupation'].count()"
   ]
  },
  {
   "cell_type": "code",
   "execution_count": 20,
   "metadata": {},
   "outputs": [
    {
     "data": {
      "text/plain": [
       "0"
      ]
     },
     "execution_count": 20,
     "metadata": {},
     "output_type": "execute_result"
    }
   ],
   "source": [
    "# Check for missing loan category data\n",
    "df_new['ListingCategory (numeric)'].isnull().sum()"
   ]
  },
  {
   "cell_type": "code",
   "execution_count": 21,
   "metadata": {},
   "outputs": [
    {
     "data": {
      "text/plain": [
       "40.77203111218026"
      ]
     },
     "execution_count": 21,
     "metadata": {},
     "output_type": "execute_result"
    }
   ],
   "source": [
    "# Let's see what the average loan length is\n",
    "df_new['Term'].mean()"
   ]
  },
  {
   "cell_type": "code",
   "execution_count": 22,
   "metadata": {},
   "outputs": [
    {
     "data": {
      "text/plain": [
       "(12, 60)"
      ]
     },
     "execution_count": 22,
     "metadata": {},
     "output_type": "execute_result"
    }
   ],
   "source": [
    "# Let's get the min and max loan lengths\n",
    "df_new['Term'].min(), df_new['Term'].max()"
   ]
  },
  {
   "cell_type": "code",
   "execution_count": 23,
   "metadata": {},
   "outputs": [],
   "source": [
    "# Get rid of the NaN in lower and upper credit scores\n",
    "df_new.fillna({'CreditScoreRangeLower':0}, inplace=True)\n",
    "df_new.fillna({'CreditScoreRangeUpper':0}, inplace=True)"
   ]
  },
  {
   "cell_type": "code",
   "execution_count": 24,
   "metadata": {},
   "outputs": [
    {
     "data": {
      "text/plain": [
       "(0, 0)"
      ]
     },
     "execution_count": 24,
     "metadata": {},
     "output_type": "execute_result"
    }
   ],
   "source": [
    "# Code to check credit scores aren't missing\n",
    "\n",
    "df_new['CreditScoreRangeUpper'].isnull().sum(), df_new['CreditScoreRangeLower'].isnull().sum()"
   ]
  },
  {
   "cell_type": "code",
   "execution_count": 25,
   "metadata": {},
   "outputs": [
    {
     "data": {
      "text/plain": [
       "0"
      ]
     },
     "execution_count": 25,
     "metadata": {},
     "output_type": "execute_result"
    }
   ],
   "source": [
    "# Fill in missing loan status data\n",
    "df_new.fillna({'LoanStatus':\"NoData\"}, inplace=True)\n",
    "df_new['LoanStatus'].isnull().sum()"
   ]
  },
  {
   "cell_type": "code",
   "execution_count": 26,
   "metadata": {},
   "outputs": [],
   "source": [
    "# Add a copy of the new csv file to the project\n",
    "df_new_1 = df_new.copy()"
   ]
  },
  {
   "cell_type": "markdown",
   "metadata": {},
   "source": [
    "## Graph-1"
   ]
  },
  {
   "cell_type": "markdown",
   "metadata": {},
   "source": [
    "[Loans by State Lollipop Chart ](#Introduction) <a Introduction =\"Introduction\"> </a>"
   ]
  },
  {
   "cell_type": "code",
   "execution_count": 27,
   "metadata": {},
   "outputs": [
    {
     "data": {
      "image/png": "[encoded data removed]",
      "text/plain": [
       "<Figure size 1584x288 with 1 Axes>"
      ]
     },
     "metadata": {
      "needs_background": "light"
     },
     "output_type": "display_data"
    }
   ],
   "source": [
    "# I made a lollipop chart to see which states had the most loans and which had the least amount of loans\n",
    "# It took me a few tries to get the x axis to show the states, https://www.data-to-viz.com/graph/lollipop.html\n",
    "# I needed help to size the chart, https://python-graph-gallery.com/180-basic-lollipop-plot/\n",
    "# The data-to-viz.com website said the lollipop chart was a good choice for a categorical variable mized with numbers\n",
    "# I needed help in changing the figure size, https://stackoverflow.com/questions/332289/how-do-you-change-the-size-of-figures-drawn-with-matplotlib\n",
    "\n",
    "figure(figsize=(22,4))\n",
    "x = df_new_1['BorrowerState'].unique()\n",
    "lollipop = df_new_1.BorrowerState.value_counts()\n",
    "\n",
    "\n",
    "plt.stem(x, lollipop)\n",
    "\n",
    "\n",
    "plt.title(\"Number of Loans by State\")\n",
    "\n",
    "\n",
    "plt.xlabel(\"Borrower State\")\n",
    "plt.ylabel(\"Number Loans\")\n",
    "\n",
    "plt.show()\n"
   ]
  },
  {
   "cell_type": "markdown",
   "metadata": {},
   "source": [
    "### State Lollipop Chart\n",
    "  California, Texas, Florida, New York, and Illinois had the most amount of loans.  There are a significant number of loans with \"NoData\" for the state value. I would like to compare the number of loans with 'NoData' for the 'BorrowerState' column for the pre-2009 and post-2009 groups. \n",
    "  The 'BorrowerState' is a nominal, categorical value. The number of loans per state could be analyzed by geographic region instead of state, however, I don't think this is a significant variable at this time."
   ]
  },
  {
   "cell_type": "code",
   "execution_count": 28,
   "metadata": {},
   "outputs": [
    {
     "data": {
      "text/html": [
       "<div>\n",
       "<style scoped>\n",
       "    .dataframe tbody tr th:only-of-type {\n",
       "        vertical-align: middle;\n",
       "    }\n",
       "\n",
       "    .dataframe tbody tr th {\n",
       "        vertical-align: top;\n",
       "    }\n",
       "\n",
       "    .dataframe thead th {\n",
       "        text-align: right;\n",
       "    }\n",
       "</style>\n",
       "<table border=\"1\" class=\"dataframe\">\n",
       "  <thead>\n",
       "    <tr style=\"text-align: right;\">\n",
       "      <th></th>\n",
       "      <th>Occupation</th>\n",
       "      <th>count</th>\n",
       "    </tr>\n",
       "  </thead>\n",
       "  <tbody>\n",
       "    <tr>\n",
       "      <th>36</th>\n",
       "      <td>Other</td>\n",
       "      <td>28242</td>\n",
       "    </tr>\n",
       "    <tr>\n",
       "      <th>42</th>\n",
       "      <td>Professional</td>\n",
       "      <td>13440</td>\n",
       "    </tr>\n",
       "    <tr>\n",
       "      <th>12</th>\n",
       "      <td>Computer Programmer</td>\n",
       "      <td>4407</td>\n",
       "    </tr>\n",
       "    <tr>\n",
       "      <th>19</th>\n",
       "      <td>Executive</td>\n",
       "      <td>4250</td>\n",
       "    </tr>\n",
       "    <tr>\n",
       "      <th>60</th>\n",
       "      <td>Teacher</td>\n",
       "      <td>3699</td>\n",
       "    </tr>\n",
       "    <tr>\n",
       "      <th>1</th>\n",
       "      <td>Administrative Assistant</td>\n",
       "      <td>3666</td>\n",
       "    </tr>\n",
       "    <tr>\n",
       "      <th>2</th>\n",
       "      <td>Analyst</td>\n",
       "      <td>3554</td>\n",
       "    </tr>\n",
       "    <tr>\n",
       "      <th>32</th>\n",
       "      <td>NoData</td>\n",
       "      <td>3473</td>\n",
       "    </tr>\n",
       "    <tr>\n",
       "      <th>48</th>\n",
       "      <td>Sales - Commission</td>\n",
       "      <td>3384</td>\n",
       "    </tr>\n",
       "    <tr>\n",
       "      <th>0</th>\n",
       "      <td>Accountant/CPA</td>\n",
       "      <td>3185</td>\n",
       "    </tr>\n",
       "  </tbody>\n",
       "</table>\n",
       "</div>"
      ],
      "text/plain": [
       "                  Occupation  count\n",
       "36                     Other  28242\n",
       "42              Professional  13440\n",
       "12       Computer Programmer   4407\n",
       "19                 Executive   4250\n",
       "60                   Teacher   3699\n",
       "1   Administrative Assistant   3666\n",
       "2                    Analyst   3554\n",
       "32                    NoData   3473\n",
       "48        Sales - Commission   3384\n",
       "0             Accountant/CPA   3185"
      ]
     },
     "execution_count": 28,
     "metadata": {},
     "output_type": "execute_result"
    }
   ],
   "source": [
    "# The occupations and number of loans associated with each occupation #https://stackoverflow.com/questions/40454030/count-and-sort-with-pandas\n",
    "occupation_df = df_new_1.groupby(\"Occupation\")['ListingKey'].count().reset_index(name='count').sort_values(by=['count'], ascending=False).head(10)\n",
    "occupation_df"
   ]
  },
  {
   "cell_type": "code",
   "execution_count": 29,
   "metadata": {},
   "outputs": [
    {
     "data": {
      "text/plain": [
       "ListingKey                     8508\n",
       "ListingNumber                  8508\n",
       "ListingCreationDate            8508\n",
       "CreditGrade                    1325\n",
       "Term                           8508\n",
       "                               ... \n",
       "PercentFunded                  8508\n",
       "Recommendations                8508\n",
       "InvestmentFromFriendsCount     8508\n",
       "InvestmentFromFriendsAmount    8508\n",
       "Investors                      8508\n",
       "Length: 81, dtype: int64"
      ]
     },
     "execution_count": 29,
     "metadata": {},
     "output_type": "execute_result"
    }
   ],
   "source": [
    "# I noticed there was a column for whether or not the person had verifiable income. \n",
    "# I was surprised to see Prosper gave loans to people who didn't have verifiable income\n",
    "df_new_1.query('IncomeVerifiable == False').count()"
   ]
  },
  {
   "cell_type": "code",
   "execution_count": 30,
   "metadata": {},
   "outputs": [
    {
     "data": {
      "text/plain": [
       "count    112239.000000\n",
       "mean          2.779159\n",
       "std           3.999273\n",
       "min           0.000000\n",
       "25%           1.000000\n",
       "50%           1.000000\n",
       "75%           3.000000\n",
       "max          20.000000\n",
       "Name: ListingCategory (numeric), dtype: float64"
      ]
     },
     "execution_count": 30,
     "metadata": {},
     "output_type": "execute_result"
    }
   ],
   "source": [
    "# Let's look at the Listing Category data\n",
    "df_new_1['ListingCategory (numeric)'].describe()"
   ]
  },
  {
   "cell_type": "code",
   "execution_count": 31,
   "metadata": {},
   "outputs": [],
   "source": [
    "# I'm going to rename this column Listing Category because it uses parentheses\n",
    "df_new_1.rename(columns = {'ListingCategory (numeric)': 'Listing_Category'}, inplace = True)"
   ]
  },
  {
   "cell_type": "code",
   "execution_count": 32,
   "metadata": {},
   "outputs": [
    {
     "name": "stdout",
     "output_type": "stream",
     "text": [
      "<class 'pandas.core.frame.DataFrame'>\n",
      "Int64Index: 112239 entries, 0 to 113936\n",
      "Data columns (total 81 columns):\n",
      " #   Column                               Non-Null Count   Dtype         \n",
      "---  ------                               --------------   -----         \n",
      " 0   ListingKey                           112239 non-null  object        \n",
      " 1   ListingNumber                        112239 non-null  int64         \n",
      " 2   ListingCreationDate                  112239 non-null  datetime64[ns]\n",
      " 3   CreditGrade                          28953 non-null   object        \n",
      " 4   Term                                 112239 non-null  int64         \n",
      " 5   LoanStatus                           112239 non-null  object        \n",
      " 6   ClosedDate                           55063 non-null   datetime64[ns]\n",
      " 7   BorrowerAPR                          112214 non-null  float64       \n",
      " 8   BorrowerRate                         112239 non-null  float64       \n",
      " 9   LenderYield                          112239 non-null  float64       \n",
      " 10  EstimatedEffectiveYield              83155 non-null   float64       \n",
      " 11  EstimatedLoss                        83155 non-null   float64       \n",
      " 12  EstimatedReturn                      83155 non-null   float64       \n",
      " 13  ProsperRating (numeric)              83155 non-null   float64       \n",
      " 14  ProsperRating (Alpha)                83155 non-null   object        \n",
      " 15  ProsperScore                         83155 non-null   float64       \n",
      " 16  Listing_Category                     112239 non-null  int64         \n",
      " 17  BorrowerState                        112239 non-null  object        \n",
      " 18  Occupation                           112239 non-null  object        \n",
      " 19  EmploymentStatus                     109984 non-null  object        \n",
      " 20  EmploymentStatusDuration             104614 non-null  float64       \n",
      " 21  IsBorrowerHomeowner                  112239 non-null  bool          \n",
      " 22  CurrentlyInGroup                     112239 non-null  bool          \n",
      " 23  GroupKey                             13337 non-null   object        \n",
      " 24  DateCreditPulled                     112239 non-null  datetime64[ns]\n",
      " 25  CreditScoreRangeLower                112239 non-null  float64       \n",
      " 26  CreditScoreRangeUpper                112239 non-null  float64       \n",
      " 27  FirstRecordedCreditLine              111542 non-null  object        \n",
      " 28  CurrentCreditLines                   104635 non-null  float64       \n",
      " 29  OpenCreditLines                      104635 non-null  float64       \n",
      " 30  TotalCreditLinespast7years           111542 non-null  float64       \n",
      " 31  OpenRevolvingAccounts                112239 non-null  int64         \n",
      " 32  OpenRevolvingMonthlyPayment          112239 non-null  float64       \n",
      " 33  InquiriesLast6Months                 111542 non-null  float64       \n",
      " 34  TotalInquiries                       111080 non-null  float64       \n",
      " 35  CurrentDelinquencies                 111542 non-null  float64       \n",
      " 36  AmountDelinquent                     104617 non-null  float64       \n",
      " 37  DelinquenciesLast7Years              111249 non-null  float64       \n",
      " 38  PublicRecordsLast10Years             111542 non-null  float64       \n",
      " 39  PublicRecordsLast12Months            104635 non-null  float64       \n",
      " 40  RevolvingCreditBalance               104635 non-null  float64       \n",
      " 41  BankcardUtilization                  104635 non-null  float64       \n",
      " 42  AvailableBankcardCredit              104695 non-null  float64       \n",
      " 43  TotalTrades                          104695 non-null  float64       \n",
      " 44  TradesNeverDelinquent (percentage)   104695 non-null  float64       \n",
      " 45  TradesOpenedLast6Months              104695 non-null  float64       \n",
      " 46  DebtToIncomeRatio                    103846 non-null  float64       \n",
      " 47  IncomeRange                          112239 non-null  object        \n",
      " 48  IncomeVerifiable                     112239 non-null  bool          \n",
      " 49  StatedMonthlyIncome                  112239 non-null  float64       \n",
      " 50  LoanKey                              112239 non-null  object        \n",
      " 51  TotalProsperLoans                    21767 non-null   float64       \n",
      " 52  TotalProsperPaymentsBilled           21767 non-null   float64       \n",
      " 53  OnTimeProsperPayments                21767 non-null   float64       \n",
      " 54  ProsperPaymentsLessThanOneMonthLate  21767 non-null   float64       \n",
      " 55  ProsperPaymentsOneMonthPlusLate      21767 non-null   float64       \n",
      " 56  ProsperPrincipalBorrowed             21767 non-null   float64       \n",
      " 57  ProsperPrincipalOutstanding          21767 non-null   float64       \n",
      " 58  ScorexChangeAtTimeOfListing          18896 non-null   float64       \n",
      " 59  LoanCurrentDaysDelinquent            112239 non-null  int64         \n",
      " 60  LoanFirstDefaultedCycleNumber        16952 non-null   float64       \n",
      " 61  LoanMonthsSinceOrigination           112239 non-null  int64         \n",
      " 62  LoanNumber                           112239 non-null  int64         \n",
      " 63  LoanOriginalAmount                   112239 non-null  int64         \n",
      " 64  LoanOriginationDate                  112239 non-null  datetime64[ns]\n",
      " 65  LoanOriginationQuarter               112239 non-null  object        \n",
      " 66  MemberKey                            112239 non-null  object        \n",
      " 67  MonthlyLoanPayment                   112239 non-null  float64       \n",
      " 68  LP_CustomerPayments                  112239 non-null  float64       \n",
      " 69  LP_CustomerPrincipalPayments         112239 non-null  float64       \n",
      " 70  LP_InterestandFees                   112239 non-null  float64       \n",
      " 71  LP_ServiceFees                       112239 non-null  float64       \n",
      " 72  LP_CollectionFees                    112239 non-null  float64       \n",
      " 73  LP_GrossPrincipalLoss                112239 non-null  float64       \n",
      " 74  LP_NetPrincipalLoss                  112239 non-null  float64       \n",
      " 75  LP_NonPrincipalRecoverypayments      112239 non-null  float64       \n",
      " 76  PercentFunded                        112239 non-null  float64       \n",
      " 77  Recommendations                      112239 non-null  int64         \n",
      " 78  InvestmentFromFriendsCount           112239 non-null  int64         \n",
      " 79  InvestmentFromFriendsAmount          112239 non-null  float64       \n",
      " 80  Investors                            112239 non-null  int64         \n",
      "dtypes: bool(3), datetime64[ns](4), float64(50), int64(11), object(13)\n",
      "memory usage: 68.0+ MB\n"
     ]
    }
   ],
   "source": [
    "# Check the renaming code\n",
    "df_new_1.info()"
   ]
  },
  {
   "cell_type": "code",
   "execution_count": 33,
   "metadata": {},
   "outputs": [
    {
     "data": {
      "text/plain": [
       "1     56977\n",
       "0     16965\n",
       "7     10403\n",
       "2      7345\n",
       "3      7127\n",
       "6      2564\n",
       "4      2395\n",
       "13     1978\n",
       "15     1493\n",
       "18      879\n",
       "14      851\n",
       "19      760\n",
       "5       756\n",
       "20      753\n",
       "16      304\n",
       "11      211\n",
       "8       193\n",
       "10       91\n",
       "9        85\n",
       "12       57\n",
       "17       52\n",
       "Name: Listing_Category, dtype: int64"
      ]
     },
     "execution_count": 33,
     "metadata": {},
     "output_type": "execute_result"
    }
   ],
   "source": [
    "df_new_1['Listing_Category'].value_counts()"
   ]
  },
  {
   "cell_type": "markdown",
   "metadata": {},
   "source": [
    "## Graph-2"
   ]
  },
  {
   "cell_type": "markdown",
   "metadata": {},
   "source": [
    "[Loans by Category Bar Chart](#Introduction) <a Introduction =\"Introduction\"> </a>"
   ]
  },
  {
   "cell_type": "code",
   "execution_count": 34,
   "metadata": {},
   "outputs": [
    {
     "data": {
      "text/plain": [
       "Text(0, 0.5, 'Loans')"
      ]
     },
     "execution_count": 34,
     "metadata": {},
     "output_type": "execute_result"
    },
    {
     "data": {
      "image/png": "[encoded data removed]",
      "text/plain": [
       "<Figure size 864x432 with 1 Axes>"
      ]
     },
     "metadata": {
      "needs_background": "light"
     },
     "output_type": "display_data"
    }
   ],
   "source": [
    "# A bar chart of the loan listing category to see which loan type was most popular\n",
    "df_new_1['Listing_Category'].value_counts().plot(kind='bar',figsize=(12,6));\n",
    "\n",
    "plt.title(\"Loans by Listing Category\")\n",
    "\n",
    "\n",
    "plt.xlabel(\"Listing Category\")\n",
    "plt.ylabel(\"Loans\")"
   ]
  },
  {
   "cell_type": "markdown",
   "metadata": {},
   "source": [
    "### Listing Category Bar Chart\n",
    " The category '1 - Debt Consolidation' was the most common reason a borrower sought a loan. The second most common reason was category '0 - Not Available'. I would like to compare the categories 'Not Available' and 'Debt Consolidation' in the pre-2009 years and the post-2009 years.\n",
    "\n",
    "Listing Category Key: \n",
    " 0 - Not Available, 1 - Debt Consolidation, 2 - Home Improvement, 3 - Business, 4 - Personal Loan, 5 - Student Use, 6 - Auto, 7- Other, 8 - Baby&Adoption, 9 - Boat, 10 - Cosmetic Procedure, 11 - Engagement Ring, 12 - Green Loans, 13 - Household Expenses, 14 - Large Purchases, 15 - Medical/Dental, 16 - Motorcycle, 17 - RV, 18 - Taxes, 19 - Vacation, 20 - Wedding Loans"
   ]
  },
  {
   "cell_type": "code",
   "execution_count": 35,
   "metadata": {},
   "outputs": [
    {
     "data": {
      "text/plain": [
       "Current                   54928\n",
       "Completed                 38048\n",
       "Chargedoff                11992\n",
       "Defaulted                  5018\n",
       "Past Due (1-15 days)        794\n",
       "Past Due (31-60 days)       359\n",
       "Past Due (61-90 days)       309\n",
       "Past Due (91-120 days)      304\n",
       "Past Due (16-30 days)       265\n",
       "FinalPaymentInProgress      201\n",
       "Past Due (>120 days)         16\n",
       "Cancelled                     5\n",
       "Name: LoanStatus, dtype: int64"
      ]
     },
     "execution_count": 35,
     "metadata": {},
     "output_type": "execute_result"
    }
   ],
   "source": [
    "# Let's look at the value counts for the loan status\n",
    "df_new_1['LoanStatus'].value_counts()"
   ]
  },
  {
   "cell_type": "code",
   "execution_count": 36,
   "metadata": {},
   "outputs": [
    {
     "data": {
      "text/plain": [
       "92976"
      ]
     },
     "execution_count": 36,
     "metadata": {},
     "output_type": "execute_result"
    }
   ],
   "source": [
    "# Total completed and current loans\n",
    "df_new_1['ListingKey'][df_new_1['LoanStatus'] == 'Current'].count()+df_new_1['ListingKey'][df_new_1['LoanStatus'] == 'Completed'].count()"
   ]
  },
  {
   "cell_type": "code",
   "execution_count": 37,
   "metadata": {},
   "outputs": [
    {
     "data": {
      "text/plain": [
       "112239"
      ]
     },
     "execution_count": 37,
     "metadata": {},
     "output_type": "execute_result"
    }
   ],
   "source": [
    "# Total amount of non-duplicated loans\n",
    "df_new_1['LoanStatus'].count()"
   ]
  },
  {
   "cell_type": "code",
   "execution_count": 38,
   "metadata": {},
   "outputs": [
    {
     "data": {
      "text/plain": [
       "0.8283751637131478"
      ]
     },
     "execution_count": 38,
     "metadata": {},
     "output_type": "execute_result"
    }
   ],
   "source": [
    "# Percentage of loans complete or current\n",
    "(df_new_1['ListingKey'][df_new_1['LoanStatus'] == 'Current'].count()+df_new_1['ListingKey'][df_new_1['LoanStatus'] == 'Completed'].count())/df_new_1['LoanStatus'].count()"
   ]
  },
  {
   "cell_type": "code",
   "execution_count": 39,
   "metadata": {},
   "outputs": [
    {
     "data": {
      "text/plain": [
       "0.4893842603729541"
      ]
     },
     "execution_count": 39,
     "metadata": {},
     "output_type": "execute_result"
    }
   ],
   "source": [
    "# Percentage of total loans which are current\n",
    "df_new_1['ListingKey'][df_new_1['LoanStatus'] == 'Current'].count()/df_new_1['LoanStatus'].count()"
   ]
  },
  {
   "cell_type": "code",
   "execution_count": 40,
   "metadata": {},
   "outputs": [
    {
     "data": {
      "text/plain": [
       "54928"
      ]
     },
     "execution_count": 40,
     "metadata": {},
     "output_type": "execute_result"
    }
   ],
   "source": [
    "# Number of current loans\n",
    "df_new_1['ListingKey'][df_new_1['LoanStatus'] == 'Current'].count()"
   ]
  },
  {
   "cell_type": "code",
   "execution_count": 41,
   "metadata": {},
   "outputs": [
    {
     "data": {
      "text/plain": [
       "57176"
      ]
     },
     "execution_count": 41,
     "metadata": {},
     "output_type": "execute_result"
    }
   ],
   "source": [
    "# Number of loans still in process\n",
    "active_loans = df_new_1['LoanStatus'].count()-df_new_1['ListingKey'][df_new_1['LoanStatus'] == 'Completed'].count()-df_new_1['ListingKey'][df_new_1['LoanStatus'] == 'Chargedoff'].count()-df_new_1['ListingKey'][df_new_1['LoanStatus'] == 'Defaulted'].count()-df_new_1['ListingKey'][df_new_1['LoanStatus'] == 'Cancelled'].count()\n",
    "active_loans"
   ]
  },
  {
   "cell_type": "code",
   "execution_count": 42,
   "metadata": {},
   "outputs": [
    {
     "data": {
      "text/plain": [
       "17015"
      ]
     },
     "execution_count": 42,
     "metadata": {},
     "output_type": "execute_result"
    }
   ],
   "source": [
    "# Number of loans defaulted, charged-off, or cancelled\n",
    "dead_loans = df_new_1['ListingKey'][df_new_1['LoanStatus'] == 'Chargedoff'].count()+df_new_1['ListingKey'][df_new_1['LoanStatus'] == 'Defaulted'].count()+df_new_1['ListingKey'][df_new_1['LoanStatus'] == 'Cancelled'].count()\n",
    "dead_loans"
   ]
  },
  {
   "cell_type": "code",
   "execution_count": 43,
   "metadata": {},
   "outputs": [
    {
     "data": {
      "text/plain": [
       "0.1515961475066599"
      ]
     },
     "execution_count": 43,
     "metadata": {},
     "output_type": "execute_result"
    }
   ],
   "source": [
    "# Percentage of dead loans compared to the total number of loans\n",
    "dead_loans / df_new_1['LoanStatus'].count()"
   ]
  },
  {
   "cell_type": "markdown",
   "metadata": {},
   "source": [
    "## Graph-3"
   ]
  },
  {
   "cell_type": "markdown",
   "metadata": {},
   "source": [
    "[Loan Status Bar Chart](#Introduction) <a Introduction =\"Introduction\"> </a>"
   ]
  },
  {
   "cell_type": "code",
   "execution_count": 44,
   "metadata": {},
   "outputs": [
    {
     "data": {
      "image/png": "[encoded data removed]",
      "text/plain": [
       "<Figure size 576x432 with 1 Axes>"
      ]
     },
     "metadata": {
      "needs_background": "light"
     },
     "output_type": "display_data"
    }
   ],
   "source": [
    "# Bar chart of the number of loans and their loan status\n",
    "\n",
    "df_new_1['LoanStatus'].value_counts().plot(kind='bar',figsize=(8,6));\n",
    "plt.title(\"Loans by Loan Status\")\n",
    "\n",
    "\n",
    "plt.xlabel(\"Loan Status\")\n",
    "plt.ylabel(\"Loans\")\n",
    "plt.show();"
   ]
  },
  {
   "cell_type": "markdown",
   "metadata": {},
   "source": [
    "### Bar chart of the loan status\n",
    "\n",
    "  The bar chart shows the majority of the total loans were completed or current at the time of this collection of data.  Analysis could be done based on pre-2009 vs post-2009, 'Defaulted', 'Chargedoff','Cancelled', or 'Past Due...' data.  At the time of this data collection by Prosper, there was a potential for 57,176 loans to go into default and about 15% of the total number of loans given by Prosper were either charge-offs, defaulted ot cancelled. Analyzing the default probability of the loans at periodic intervals woud be something I would like to see as an investor."
   ]
  },
  {
   "cell_type": "markdown",
   "metadata": {},
   "source": [
    "## Graph-4"
   ]
  },
  {
   "cell_type": "markdown",
   "metadata": {},
   "source": [
    "[Top 10 Occupations Defaulted Loans Bar Chart](#Introduction) <a Introduction =\"Introduction\"> </a>"
   ]
  },
  {
   "cell_type": "code",
   "execution_count": 45,
   "metadata": {},
   "outputs": [
    {
     "data": {
      "image/png": "[encoded data removed]",
      "text/plain": [
       "<Figure size 1728x432 with 1 Axes>"
      ]
     },
     "metadata": {
      "needs_background": "light"
     },
     "output_type": "display_data"
    }
   ],
   "source": [
    "# Value counts for the Listing Category on defaulted loan\n",
    "df_defaulted = df_new_1.query('LoanStatus == \"Defaulted\"')\n",
    "\n",
    "df_defaulted['Occupation'].value_counts().nlargest(10).plot(kind='bar', figsize=(24,6))\n",
    "\n",
    "plt.title(\"Defaulted Loans by Occupation\")\n",
    "\n",
    "\n",
    "plt.xlabel(\"Occupation\")\n",
    "plt.ylabel(\"Loans\")\n",
    "plt.show();"
   ]
  },
  {
   "cell_type": "markdown",
   "metadata": {},
   "source": [
    "### Most Popular Ocupation Category for Defaulted Loans\n",
    "\n",
    "   The most popular occupation category for defaulted loans was 'Other'.  I would like to compare the nominal, categorical variable occupation in the pre-2009 years and post-2009 years to see if this missing/unqualified data shows a correlation to predicting risk.  The variable shows a risk correlation, but was this variable more present in the pre-2009 or post-2009 data?"
   ]
  },
  {
   "cell_type": "markdown",
   "metadata": {},
   "source": [
    "## Graph-5"
   ]
  },
  {
   "cell_type": "markdown",
   "metadata": {},
   "source": [
    "[Top 10 Loan Categories Defaulted Loans Bar Chart](#Introduction) <a Introduction =\"Introduction\"> </a>"
   ]
  },
  {
   "cell_type": "code",
   "execution_count": 46,
   "metadata": {},
   "outputs": [
    {
     "data": {
      "image/png": "[encoded data removed]",
      "text/plain": [
       "<Figure size 864x432 with 1 Axes>"
      ]
     },
     "metadata": {
      "needs_background": "light"
     },
     "output_type": "display_data"
    }
   ],
   "source": [
    "# A bar chart of the defaulted loan listing category to see which loan type was most popular\n",
    "df_defaulted['Listing_Category'].value_counts().plot(kind='bar',figsize=(12,6));\n",
    "\n",
    "plt.title(\"Defaulted Loans by Listing Category\")\n",
    "\n",
    "\n",
    "plt.xlabel(\"Listing Category\")\n",
    "plt.ylabel(\"Loans\")\n",
    "plt.show();"
   ]
  },
  {
   "cell_type": "markdown",
   "metadata": {},
   "source": [
    " Here you can see  the most common loan category for defaulted loans is 'Not Available'.  Is the loan listing category variable more prevelant in pre-2009 loans, or post-2009 loans?\n",
    "\n",
    "Listing Category Key: \n",
    " 0 - Not Available, 1 - Debt Consolidation, 2 - Home Improvement, 3 - Business, 4 - Personal Loan, 5 - Student Use, 6 - Auto, 7- Other, 8 - Baby&Adoption, 9 - Boat, 10 - Cosmetic Procedure, 11 - Engagement Ring, 12 - Green Loans, 13 - Household Expenses, 14 - Large Purchases, 15 - Medical/Dental, 16 - Motorcycle, 17 - RV, 18 - Taxes, 19 - Vacation, 20 - Wedding Loans"
   ]
  },
  {
   "cell_type": "code",
   "execution_count": 47,
   "metadata": {},
   "outputs": [
    {
     "data": {
      "text/html": [
       "<div>\n",
       "<style scoped>\n",
       "    .dataframe tbody tr th:only-of-type {\n",
       "        vertical-align: middle;\n",
       "    }\n",
       "\n",
       "    .dataframe tbody tr th {\n",
       "        vertical-align: top;\n",
       "    }\n",
       "\n",
       "    .dataframe thead th {\n",
       "        text-align: right;\n",
       "    }\n",
       "</style>\n",
       "<table border=\"1\" class=\"dataframe\">\n",
       "  <thead>\n",
       "    <tr style=\"text-align: right;\">\n",
       "      <th></th>\n",
       "      <th>BorrowerState</th>\n",
       "      <th>count</th>\n",
       "    </tr>\n",
       "  </thead>\n",
       "  <tbody>\n",
       "    <tr>\n",
       "      <th>4</th>\n",
       "      <td>CA</td>\n",
       "      <td>732</td>\n",
       "    </tr>\n",
       "    <tr>\n",
       "      <th>35</th>\n",
       "      <td>NoData</td>\n",
       "      <td>589</td>\n",
       "    </tr>\n",
       "    <tr>\n",
       "      <th>10</th>\n",
       "      <td>GA</td>\n",
       "      <td>343</td>\n",
       "    </tr>\n",
       "    <tr>\n",
       "      <th>44</th>\n",
       "      <td>TX</td>\n",
       "      <td>342</td>\n",
       "    </tr>\n",
       "    <tr>\n",
       "      <th>14</th>\n",
       "      <td>IL</td>\n",
       "      <td>337</td>\n",
       "    </tr>\n",
       "    <tr>\n",
       "      <th>9</th>\n",
       "      <td>FL</td>\n",
       "      <td>222</td>\n",
       "    </tr>\n",
       "    <tr>\n",
       "      <th>22</th>\n",
       "      <td>MI</td>\n",
       "      <td>199</td>\n",
       "    </tr>\n",
       "    <tr>\n",
       "      <th>24</th>\n",
       "      <td>MO</td>\n",
       "      <td>193</td>\n",
       "    </tr>\n",
       "    <tr>\n",
       "      <th>48</th>\n",
       "      <td>WA</td>\n",
       "      <td>158</td>\n",
       "    </tr>\n",
       "    <tr>\n",
       "      <th>36</th>\n",
       "      <td>OH</td>\n",
       "      <td>151</td>\n",
       "    </tr>\n",
       "    <tr>\n",
       "      <th>1</th>\n",
       "      <td>AL</td>\n",
       "      <td>122</td>\n",
       "    </tr>\n",
       "    <tr>\n",
       "      <th>34</th>\n",
       "      <td>NY</td>\n",
       "      <td>121</td>\n",
       "    </tr>\n",
       "    <tr>\n",
       "      <th>23</th>\n",
       "      <td>MN</td>\n",
       "      <td>105</td>\n",
       "    </tr>\n",
       "    <tr>\n",
       "      <th>38</th>\n",
       "      <td>OR</td>\n",
       "      <td>101</td>\n",
       "    </tr>\n",
       "    <tr>\n",
       "      <th>3</th>\n",
       "      <td>AZ</td>\n",
       "      <td>94</td>\n",
       "    </tr>\n",
       "    <tr>\n",
       "      <th>20</th>\n",
       "      <td>MD</td>\n",
       "      <td>91</td>\n",
       "    </tr>\n",
       "    <tr>\n",
       "      <th>27</th>\n",
       "      <td>NC</td>\n",
       "      <td>78</td>\n",
       "    </tr>\n",
       "    <tr>\n",
       "      <th>46</th>\n",
       "      <td>VA</td>\n",
       "      <td>76</td>\n",
       "    </tr>\n",
       "    <tr>\n",
       "      <th>5</th>\n",
       "      <td>CO</td>\n",
       "      <td>73</td>\n",
       "    </tr>\n",
       "    <tr>\n",
       "      <th>31</th>\n",
       "      <td>NJ</td>\n",
       "      <td>72</td>\n",
       "    </tr>\n",
       "    <tr>\n",
       "      <th>15</th>\n",
       "      <td>IN</td>\n",
       "      <td>67</td>\n",
       "    </tr>\n",
       "    <tr>\n",
       "      <th>39</th>\n",
       "      <td>PA</td>\n",
       "      <td>67</td>\n",
       "    </tr>\n",
       "    <tr>\n",
       "      <th>45</th>\n",
       "      <td>UT</td>\n",
       "      <td>66</td>\n",
       "    </tr>\n",
       "    <tr>\n",
       "      <th>49</th>\n",
       "      <td>WI</td>\n",
       "      <td>60</td>\n",
       "    </tr>\n",
       "    <tr>\n",
       "      <th>19</th>\n",
       "      <td>MA</td>\n",
       "      <td>59</td>\n",
       "    </tr>\n",
       "    <tr>\n",
       "      <th>16</th>\n",
       "      <td>KS</td>\n",
       "      <td>49</td>\n",
       "    </tr>\n",
       "    <tr>\n",
       "      <th>43</th>\n",
       "      <td>TN</td>\n",
       "      <td>46</td>\n",
       "    </tr>\n",
       "    <tr>\n",
       "      <th>13</th>\n",
       "      <td>ID</td>\n",
       "      <td>39</td>\n",
       "    </tr>\n",
       "    <tr>\n",
       "      <th>37</th>\n",
       "      <td>OK</td>\n",
       "      <td>33</td>\n",
       "    </tr>\n",
       "    <tr>\n",
       "      <th>32</th>\n",
       "      <td>NM</td>\n",
       "      <td>30</td>\n",
       "    </tr>\n",
       "    <tr>\n",
       "      <th>6</th>\n",
       "      <td>CT</td>\n",
       "      <td>29</td>\n",
       "    </tr>\n",
       "    <tr>\n",
       "      <th>18</th>\n",
       "      <td>LA</td>\n",
       "      <td>25</td>\n",
       "    </tr>\n",
       "    <tr>\n",
       "      <th>12</th>\n",
       "      <td>IA</td>\n",
       "      <td>23</td>\n",
       "    </tr>\n",
       "    <tr>\n",
       "      <th>30</th>\n",
       "      <td>NH</td>\n",
       "      <td>23</td>\n",
       "    </tr>\n",
       "    <tr>\n",
       "      <th>26</th>\n",
       "      <td>MT</td>\n",
       "      <td>22</td>\n",
       "    </tr>\n",
       "    <tr>\n",
       "      <th>25</th>\n",
       "      <td>MS</td>\n",
       "      <td>22</td>\n",
       "    </tr>\n",
       "    <tr>\n",
       "      <th>17</th>\n",
       "      <td>KY</td>\n",
       "      <td>19</td>\n",
       "    </tr>\n",
       "    <tr>\n",
       "      <th>33</th>\n",
       "      <td>NV</td>\n",
       "      <td>18</td>\n",
       "    </tr>\n",
       "    <tr>\n",
       "      <th>40</th>\n",
       "      <td>RI</td>\n",
       "      <td>18</td>\n",
       "    </tr>\n",
       "    <tr>\n",
       "      <th>50</th>\n",
       "      <td>WV</td>\n",
       "      <td>16</td>\n",
       "    </tr>\n",
       "    <tr>\n",
       "      <th>29</th>\n",
       "      <td>NE</td>\n",
       "      <td>15</td>\n",
       "    </tr>\n",
       "    <tr>\n",
       "      <th>2</th>\n",
       "      <td>AR</td>\n",
       "      <td>12</td>\n",
       "    </tr>\n",
       "    <tr>\n",
       "      <th>41</th>\n",
       "      <td>SC</td>\n",
       "      <td>10</td>\n",
       "    </tr>\n",
       "    <tr>\n",
       "      <th>11</th>\n",
       "      <td>HI</td>\n",
       "      <td>8</td>\n",
       "    </tr>\n",
       "    <tr>\n",
       "      <th>28</th>\n",
       "      <td>ND</td>\n",
       "      <td>7</td>\n",
       "    </tr>\n",
       "    <tr>\n",
       "      <th>8</th>\n",
       "      <td>DE</td>\n",
       "      <td>7</td>\n",
       "    </tr>\n",
       "    <tr>\n",
       "      <th>42</th>\n",
       "      <td>SD</td>\n",
       "      <td>6</td>\n",
       "    </tr>\n",
       "    <tr>\n",
       "      <th>7</th>\n",
       "      <td>DC</td>\n",
       "      <td>6</td>\n",
       "    </tr>\n",
       "    <tr>\n",
       "      <th>21</th>\n",
       "      <td>ME</td>\n",
       "      <td>5</td>\n",
       "    </tr>\n",
       "    <tr>\n",
       "      <th>47</th>\n",
       "      <td>VT</td>\n",
       "      <td>5</td>\n",
       "    </tr>\n",
       "    <tr>\n",
       "      <th>51</th>\n",
       "      <td>WY</td>\n",
       "      <td>4</td>\n",
       "    </tr>\n",
       "    <tr>\n",
       "      <th>0</th>\n",
       "      <td>AK</td>\n",
       "      <td>3</td>\n",
       "    </tr>\n",
       "  </tbody>\n",
       "</table>\n",
       "</div>"
      ],
      "text/plain": [
       "   BorrowerState  count\n",
       "4             CA    732\n",
       "35        NoData    589\n",
       "10            GA    343\n",
       "44            TX    342\n",
       "14            IL    337\n",
       "9             FL    222\n",
       "22            MI    199\n",
       "24            MO    193\n",
       "48            WA    158\n",
       "36            OH    151\n",
       "1             AL    122\n",
       "34            NY    121\n",
       "23            MN    105\n",
       "38            OR    101\n",
       "3             AZ     94\n",
       "20            MD     91\n",
       "27            NC     78\n",
       "46            VA     76\n",
       "5             CO     73\n",
       "31            NJ     72\n",
       "15            IN     67\n",
       "39            PA     67\n",
       "45            UT     66\n",
       "49            WI     60\n",
       "19            MA     59\n",
       "16            KS     49\n",
       "43            TN     46\n",
       "13            ID     39\n",
       "37            OK     33\n",
       "32            NM     30\n",
       "6             CT     29\n",
       "18            LA     25\n",
       "12            IA     23\n",
       "30            NH     23\n",
       "26            MT     22\n",
       "25            MS     22\n",
       "17            KY     19\n",
       "33            NV     18\n",
       "40            RI     18\n",
       "50            WV     16\n",
       "29            NE     15\n",
       "2             AR     12\n",
       "41            SC     10\n",
       "11            HI      8\n",
       "28            ND      7\n",
       "8             DE      7\n",
       "42            SD      6\n",
       "7             DC      6\n",
       "21            ME      5\n",
       "47            VT      5\n",
       "51            WY      4\n",
       "0             AK      3"
      ]
     },
     "execution_count": 47,
     "metadata": {},
     "output_type": "execute_result"
    }
   ],
   "source": [
    "# I used groupby to look at the defaulted loan listings per state\n",
    "state_df_defaulted = df_defaulted.groupby(\"BorrowerState\")['ListingKey'].count().reset_index(name='count').sort_values(by=['count'], ascending=False)\n",
    "state_df_defaulted"
   ]
  },
  {
   "cell_type": "code",
   "execution_count": 48,
   "metadata": {},
   "outputs": [
    {
     "data": {
      "text/plain": [
       "36.841769629334394"
      ]
     },
     "execution_count": 48,
     "metadata": {},
     "output_type": "execute_result"
    }
   ],
   "source": [
    "# The max term for the loans are 60 months, or 5 years.  \n",
    "# The term for defaulted loans isn't much less than the average term for all of the loans.\n",
    "\n",
    "df_defaulted['Term'].mean()"
   ]
  },
  {
   "cell_type": "code",
   "execution_count": 49,
   "metadata": {},
   "outputs": [
    {
     "data": {
      "text/plain": [
       "0.0505524861878453"
      ]
     },
     "execution_count": 49,
     "metadata": {},
     "output_type": "execute_result"
    }
   ],
   "source": [
    "# Default rate for California\n",
    "df_defaulted.query('BorrowerState == \"CA\"').BorrowerState.count()/df_new_1.query('BorrowerState == \"CA\"').BorrowerState.count()"
   ]
  },
  {
   "cell_type": "code",
   "execution_count": 50,
   "metadata": {},
   "outputs": [
    {
     "data": {
      "text/plain": [
       "0.044708167392795733"
      ]
     },
     "execution_count": 50,
     "metadata": {},
     "output_type": "execute_result"
    }
   ],
   "source": [
    "# Average default rate for all loans\n",
    "df_new_1.query('LoanStatus == \"Defaulted\"').LoanStatus.count()/df_new_1['LoanStatus'].count()"
   ]
  },
  {
   "cell_type": "code",
   "execution_count": 51,
   "metadata": {},
   "outputs": [
    {
     "data": {
      "text/plain": [
       "0.06936299292214358"
      ]
     },
     "execution_count": 51,
     "metadata": {},
     "output_type": "execute_result"
    }
   ],
   "source": [
    "# Let's look at the default rate for Georgia\n",
    "df_defaulted.query('BorrowerState == \"GA\"').BorrowerState.count()/df_new_1.query('BorrowerState == \"GA\"').BorrowerState.count()"
   ]
  },
  {
   "cell_type": "code",
   "execution_count": 52,
   "metadata": {},
   "outputs": [
    {
     "data": {
      "text/plain": [
       "0.050809686525033426"
      ]
     },
     "execution_count": 52,
     "metadata": {},
     "output_type": "execute_result"
    }
   ],
   "source": [
    "# Let's look at the default rate for Texas\n",
    "df_defaulted.query('BorrowerState == \"TX\"').BorrowerState.count()/df_new_1.query('BorrowerState == \"TX\"').BorrowerState.count()"
   ]
  },
  {
   "cell_type": "code",
   "execution_count": 53,
   "metadata": {},
   "outputs": [
    {
     "data": {
      "text/plain": [
       "0.07477721813250678"
      ]
     },
     "execution_count": 53,
     "metadata": {},
     "output_type": "execute_result"
    }
   ],
   "source": [
    "# Let's look at the default rate for Missouri\n",
    "df_defaulted.query('BorrowerState == \"MO\"').BorrowerState.count()/df_new_1.query('BorrowerState == \"MO\"').BorrowerState.count()"
   ]
  },
  {
   "cell_type": "code",
   "execution_count": 54,
   "metadata": {},
   "outputs": [
    {
     "data": {
      "text/plain": [
       "0.033640552995391704"
      ]
     },
     "execution_count": 54,
     "metadata": {},
     "output_type": "execute_result"
    }
   ],
   "source": [
    "# Let's look at the default rate for Colorado\n",
    "df_defaulted.query('BorrowerState == \"CO\"').BorrowerState.count()/df_new_1.query('BorrowerState == \"CO\"').BorrowerState.count()"
   ]
  },
  {
   "cell_type": "code",
   "execution_count": 55,
   "metadata": {},
   "outputs": [
    {
     "data": {
      "text/plain": [
       "0    2007\n",
       "1    2014\n",
       "2    2007\n",
       "3    2012\n",
       "4    2013\n",
       "Name: Listing_Creation_Year, dtype: int64"
      ]
     },
     "execution_count": 55,
     "metadata": {},
     "output_type": "execute_result"
    }
   ],
   "source": [
    "# This code creates a year column so I can look at the defaulted loans by year\n",
    "df_new_1['Listing_Creation_Year']=df_new_1['ListingCreationDate'].dt.year\n",
    "\n",
    "# Check the new column to see if the years are there\n",
    "df_new_1['Listing_Creation_Year'].head()"
   ]
  },
  {
   "cell_type": "code",
   "execution_count": 56,
   "metadata": {},
   "outputs": [
    {
     "data": {
      "text/plain": [
       "2013    34204\n",
       "2012    19556\n",
       "2007    11557\n",
       "2011    11442\n",
       "2008    11263\n",
       "2014    10245\n",
       "2006     6213\n",
       "2010     5530\n",
       "2009     2206\n",
       "2005       23\n",
       "Name: Listing_Creation_Year, dtype: int64"
      ]
     },
     "execution_count": 56,
     "metadata": {},
     "output_type": "execute_result"
    }
   ],
   "source": [
    "# This codes shows the number of loans created per year\n",
    "df_new_1['Listing_Creation_Year'].value_counts()"
   ]
  },
  {
   "cell_type": "code",
   "execution_count": 57,
   "metadata": {},
   "outputs": [
    {
     "data": {
      "text/html": [
       "<div>\n",
       "<style scoped>\n",
       "    .dataframe tbody tr th:only-of-type {\n",
       "        vertical-align: middle;\n",
       "    }\n",
       "\n",
       "    .dataframe tbody tr th {\n",
       "        vertical-align: top;\n",
       "    }\n",
       "\n",
       "    .dataframe thead th {\n",
       "        text-align: right;\n",
       "    }\n",
       "</style>\n",
       "<table border=\"1\" class=\"dataframe\">\n",
       "  <thead>\n",
       "    <tr style=\"text-align: right;\">\n",
       "      <th></th>\n",
       "      <th>ListingKey</th>\n",
       "      <th>ListingNumber</th>\n",
       "      <th>ListingCreationDate</th>\n",
       "      <th>CreditGrade</th>\n",
       "      <th>Term</th>\n",
       "      <th>LoanStatus</th>\n",
       "      <th>ClosedDate</th>\n",
       "      <th>BorrowerAPR</th>\n",
       "      <th>BorrowerRate</th>\n",
       "      <th>LenderYield</th>\n",
       "      <th>...</th>\n",
       "      <th>LP_CollectionFees</th>\n",
       "      <th>LP_GrossPrincipalLoss</th>\n",
       "      <th>LP_NetPrincipalLoss</th>\n",
       "      <th>LP_NonPrincipalRecoverypayments</th>\n",
       "      <th>PercentFunded</th>\n",
       "      <th>Recommendations</th>\n",
       "      <th>InvestmentFromFriendsCount</th>\n",
       "      <th>InvestmentFromFriendsAmount</th>\n",
       "      <th>Investors</th>\n",
       "      <th>Listing_Creation_Year</th>\n",
       "    </tr>\n",
       "  </thead>\n",
       "  <tbody>\n",
       "    <tr>\n",
       "      <th>0</th>\n",
       "      <td>1021339766868145413AB3B</td>\n",
       "      <td>193129</td>\n",
       "      <td>2007-08-26 19:09:29.263</td>\n",
       "      <td>C</td>\n",
       "      <td>36</td>\n",
       "      <td>Completed</td>\n",
       "      <td>2009-08-14</td>\n",
       "      <td>0.16516</td>\n",
       "      <td>0.1580</td>\n",
       "      <td>0.1380</td>\n",
       "      <td>...</td>\n",
       "      <td>0.0</td>\n",
       "      <td>0.00</td>\n",
       "      <td>0.00</td>\n",
       "      <td>0.0</td>\n",
       "      <td>1.0</td>\n",
       "      <td>0</td>\n",
       "      <td>0</td>\n",
       "      <td>0.0</td>\n",
       "      <td>258</td>\n",
       "      <td>2007</td>\n",
       "    </tr>\n",
       "    <tr>\n",
       "      <th>2</th>\n",
       "      <td>0EE9337825851032864889A</td>\n",
       "      <td>81716</td>\n",
       "      <td>2007-01-05 15:00:47.090</td>\n",
       "      <td>HR</td>\n",
       "      <td>36</td>\n",
       "      <td>Completed</td>\n",
       "      <td>2009-12-17</td>\n",
       "      <td>0.28269</td>\n",
       "      <td>0.2750</td>\n",
       "      <td>0.2400</td>\n",
       "      <td>...</td>\n",
       "      <td>0.0</td>\n",
       "      <td>0.00</td>\n",
       "      <td>0.00</td>\n",
       "      <td>0.0</td>\n",
       "      <td>1.0</td>\n",
       "      <td>0</td>\n",
       "      <td>0</td>\n",
       "      <td>0.0</td>\n",
       "      <td>41</td>\n",
       "      <td>2007</td>\n",
       "    </tr>\n",
       "    <tr>\n",
       "      <th>11</th>\n",
       "      <td>0F1734025150298088A5F2B</td>\n",
       "      <td>213551</td>\n",
       "      <td>2007-10-09 20:28:33.640</td>\n",
       "      <td>C</td>\n",
       "      <td>36</td>\n",
       "      <td>Completed</td>\n",
       "      <td>2008-01-07</td>\n",
       "      <td>0.15033</td>\n",
       "      <td>0.1325</td>\n",
       "      <td>0.1225</td>\n",
       "      <td>...</td>\n",
       "      <td>0.0</td>\n",
       "      <td>0.00</td>\n",
       "      <td>0.00</td>\n",
       "      <td>0.0</td>\n",
       "      <td>1.0</td>\n",
       "      <td>0</td>\n",
       "      <td>0</td>\n",
       "      <td>0.0</td>\n",
       "      <td>53</td>\n",
       "      <td>2007</td>\n",
       "    </tr>\n",
       "    <tr>\n",
       "      <th>21</th>\n",
       "      <td>1017340630713945364DA6B</td>\n",
       "      <td>241498</td>\n",
       "      <td>2007-11-30 20:33:49.227</td>\n",
       "      <td>D</td>\n",
       "      <td>36</td>\n",
       "      <td>Completed</td>\n",
       "      <td>2010-12-12</td>\n",
       "      <td>0.21488</td>\n",
       "      <td>0.2075</td>\n",
       "      <td>0.1975</td>\n",
       "      <td>...</td>\n",
       "      <td>0.0</td>\n",
       "      <td>0.00</td>\n",
       "      <td>0.00</td>\n",
       "      <td>0.0</td>\n",
       "      <td>1.0</td>\n",
       "      <td>0</td>\n",
       "      <td>0</td>\n",
       "      <td>0.0</td>\n",
       "      <td>53</td>\n",
       "      <td>2007</td>\n",
       "    </tr>\n",
       "    <tr>\n",
       "      <th>42</th>\n",
       "      <td>10AD33803102786533722BB</td>\n",
       "      <td>93263</td>\n",
       "      <td>2007-02-04 17:24:27.850</td>\n",
       "      <td>HR</td>\n",
       "      <td>36</td>\n",
       "      <td>Chargedoff</td>\n",
       "      <td>2008-08-08</td>\n",
       "      <td>0.30300</td>\n",
       "      <td>0.2900</td>\n",
       "      <td>0.2850</td>\n",
       "      <td>...</td>\n",
       "      <td>0.0</td>\n",
       "      <td>1096.92</td>\n",
       "      <td>1096.92</td>\n",
       "      <td>0.0</td>\n",
       "      <td>1.0</td>\n",
       "      <td>0</td>\n",
       "      <td>0</td>\n",
       "      <td>0.0</td>\n",
       "      <td>15</td>\n",
       "      <td>2007</td>\n",
       "    </tr>\n",
       "  </tbody>\n",
       "</table>\n",
       "<p>5 rows × 82 columns</p>\n",
       "</div>"
      ],
      "text/plain": [
       "                 ListingKey  ListingNumber     ListingCreationDate  \\\n",
       "0   1021339766868145413AB3B         193129 2007-08-26 19:09:29.263   \n",
       "2   0EE9337825851032864889A          81716 2007-01-05 15:00:47.090   \n",
       "11  0F1734025150298088A5F2B         213551 2007-10-09 20:28:33.640   \n",
       "21  1017340630713945364DA6B         241498 2007-11-30 20:33:49.227   \n",
       "42  10AD33803102786533722BB          93263 2007-02-04 17:24:27.850   \n",
       "\n",
       "   CreditGrade  Term  LoanStatus ClosedDate  BorrowerAPR  BorrowerRate  \\\n",
       "0            C    36   Completed 2009-08-14      0.16516        0.1580   \n",
       "2           HR    36   Completed 2009-12-17      0.28269        0.2750   \n",
       "11           C    36   Completed 2008-01-07      0.15033        0.1325   \n",
       "21           D    36   Completed 2010-12-12      0.21488        0.2075   \n",
       "42          HR    36  Chargedoff 2008-08-08      0.30300        0.2900   \n",
       "\n",
       "    LenderYield  ...  LP_CollectionFees  LP_GrossPrincipalLoss  \\\n",
       "0        0.1380  ...                0.0                   0.00   \n",
       "2        0.2400  ...                0.0                   0.00   \n",
       "11       0.1225  ...                0.0                   0.00   \n",
       "21       0.1975  ...                0.0                   0.00   \n",
       "42       0.2850  ...                0.0                1096.92   \n",
       "\n",
       "    LP_NetPrincipalLoss  LP_NonPrincipalRecoverypayments PercentFunded  \\\n",
       "0                  0.00                              0.0           1.0   \n",
       "2                  0.00                              0.0           1.0   \n",
       "11                 0.00                              0.0           1.0   \n",
       "21                 0.00                              0.0           1.0   \n",
       "42              1096.92                              0.0           1.0   \n",
       "\n",
       "    Recommendations  InvestmentFromFriendsCount InvestmentFromFriendsAmount  \\\n",
       "0                 0                           0                         0.0   \n",
       "2                 0                           0                         0.0   \n",
       "11                0                           0                         0.0   \n",
       "21                0                           0                         0.0   \n",
       "42                0                           0                         0.0   \n",
       "\n",
       "   Investors Listing_Creation_Year  \n",
       "0        258                  2007  \n",
       "2         41                  2007  \n",
       "11        53                  2007  \n",
       "21        53                  2007  \n",
       "42        15                  2007  \n",
       "\n",
       "[5 rows x 82 columns]"
      ]
     },
     "execution_count": 57,
     "metadata": {},
     "output_type": "execute_result"
    }
   ],
   "source": [
    "df_new_1.query('Listing_Creation_Year == \"2007\"').head()"
   ]
  },
  {
   "cell_type": "code",
   "execution_count": 58,
   "metadata": {},
   "outputs": [
    {
     "data": {
      "text/html": [
       "<div>\n",
       "<style scoped>\n",
       "    .dataframe tbody tr th:only-of-type {\n",
       "        vertical-align: middle;\n",
       "    }\n",
       "\n",
       "    .dataframe tbody tr th {\n",
       "        vertical-align: top;\n",
       "    }\n",
       "\n",
       "    .dataframe thead th {\n",
       "        text-align: right;\n",
       "    }\n",
       "</style>\n",
       "<table border=\"1\" class=\"dataframe\">\n",
       "  <thead>\n",
       "    <tr style=\"text-align: right;\">\n",
       "      <th></th>\n",
       "      <th>ListingKey</th>\n",
       "      <th>ListingNumber</th>\n",
       "      <th>ListingCreationDate</th>\n",
       "      <th>CreditGrade</th>\n",
       "      <th>Term</th>\n",
       "      <th>LoanStatus</th>\n",
       "      <th>ClosedDate</th>\n",
       "      <th>BorrowerAPR</th>\n",
       "      <th>BorrowerRate</th>\n",
       "      <th>LenderYield</th>\n",
       "      <th>...</th>\n",
       "      <th>LP_GrossPrincipalLoss</th>\n",
       "      <th>LP_NetPrincipalLoss</th>\n",
       "      <th>LP_NonPrincipalRecoverypayments</th>\n",
       "      <th>PercentFunded</th>\n",
       "      <th>Recommendations</th>\n",
       "      <th>InvestmentFromFriendsCount</th>\n",
       "      <th>InvestmentFromFriendsAmount</th>\n",
       "      <th>Investors</th>\n",
       "      <th>Listing_Creation_Year</th>\n",
       "      <th>pre-2009</th>\n",
       "    </tr>\n",
       "  </thead>\n",
       "  <tbody>\n",
       "    <tr>\n",
       "      <th>0</th>\n",
       "      <td>1021339766868145413AB3B</td>\n",
       "      <td>193129</td>\n",
       "      <td>2007-08-26 19:09:29.263</td>\n",
       "      <td>C</td>\n",
       "      <td>36</td>\n",
       "      <td>Completed</td>\n",
       "      <td>2009-08-14</td>\n",
       "      <td>0.16516</td>\n",
       "      <td>0.1580</td>\n",
       "      <td>0.1380</td>\n",
       "      <td>...</td>\n",
       "      <td>0.0</td>\n",
       "      <td>0.0</td>\n",
       "      <td>0.0</td>\n",
       "      <td>1.0</td>\n",
       "      <td>0</td>\n",
       "      <td>0</td>\n",
       "      <td>0.0</td>\n",
       "      <td>258</td>\n",
       "      <td>2007</td>\n",
       "      <td>True</td>\n",
       "    </tr>\n",
       "    <tr>\n",
       "      <th>1</th>\n",
       "      <td>10273602499503308B223C1</td>\n",
       "      <td>1209647</td>\n",
       "      <td>2014-02-27 08:28:07.900</td>\n",
       "      <td>NaN</td>\n",
       "      <td>36</td>\n",
       "      <td>Current</td>\n",
       "      <td>NaT</td>\n",
       "      <td>0.12016</td>\n",
       "      <td>0.0920</td>\n",
       "      <td>0.0820</td>\n",
       "      <td>...</td>\n",
       "      <td>0.0</td>\n",
       "      <td>0.0</td>\n",
       "      <td>0.0</td>\n",
       "      <td>1.0</td>\n",
       "      <td>0</td>\n",
       "      <td>0</td>\n",
       "      <td>0.0</td>\n",
       "      <td>1</td>\n",
       "      <td>2014</td>\n",
       "      <td>False</td>\n",
       "    </tr>\n",
       "    <tr>\n",
       "      <th>2</th>\n",
       "      <td>0EE9337825851032864889A</td>\n",
       "      <td>81716</td>\n",
       "      <td>2007-01-05 15:00:47.090</td>\n",
       "      <td>HR</td>\n",
       "      <td>36</td>\n",
       "      <td>Completed</td>\n",
       "      <td>2009-12-17</td>\n",
       "      <td>0.28269</td>\n",
       "      <td>0.2750</td>\n",
       "      <td>0.2400</td>\n",
       "      <td>...</td>\n",
       "      <td>0.0</td>\n",
       "      <td>0.0</td>\n",
       "      <td>0.0</td>\n",
       "      <td>1.0</td>\n",
       "      <td>0</td>\n",
       "      <td>0</td>\n",
       "      <td>0.0</td>\n",
       "      <td>41</td>\n",
       "      <td>2007</td>\n",
       "      <td>True</td>\n",
       "    </tr>\n",
       "    <tr>\n",
       "      <th>3</th>\n",
       "      <td>0EF5356002482715299901A</td>\n",
       "      <td>658116</td>\n",
       "      <td>2012-10-22 11:02:35.010</td>\n",
       "      <td>NaN</td>\n",
       "      <td>36</td>\n",
       "      <td>Current</td>\n",
       "      <td>NaT</td>\n",
       "      <td>0.12528</td>\n",
       "      <td>0.0974</td>\n",
       "      <td>0.0874</td>\n",
       "      <td>...</td>\n",
       "      <td>0.0</td>\n",
       "      <td>0.0</td>\n",
       "      <td>0.0</td>\n",
       "      <td>1.0</td>\n",
       "      <td>0</td>\n",
       "      <td>0</td>\n",
       "      <td>0.0</td>\n",
       "      <td>158</td>\n",
       "      <td>2012</td>\n",
       "      <td>False</td>\n",
       "    </tr>\n",
       "    <tr>\n",
       "      <th>4</th>\n",
       "      <td>0F023589499656230C5E3E2</td>\n",
       "      <td>909464</td>\n",
       "      <td>2013-09-14 18:38:39.097</td>\n",
       "      <td>NaN</td>\n",
       "      <td>36</td>\n",
       "      <td>Current</td>\n",
       "      <td>NaT</td>\n",
       "      <td>0.24614</td>\n",
       "      <td>0.2085</td>\n",
       "      <td>0.1985</td>\n",
       "      <td>...</td>\n",
       "      <td>0.0</td>\n",
       "      <td>0.0</td>\n",
       "      <td>0.0</td>\n",
       "      <td>1.0</td>\n",
       "      <td>0</td>\n",
       "      <td>0</td>\n",
       "      <td>0.0</td>\n",
       "      <td>20</td>\n",
       "      <td>2013</td>\n",
       "      <td>False</td>\n",
       "    </tr>\n",
       "  </tbody>\n",
       "</table>\n",
       "<p>5 rows × 83 columns</p>\n",
       "</div>"
      ],
      "text/plain": [
       "                ListingKey  ListingNumber     ListingCreationDate CreditGrade  \\\n",
       "0  1021339766868145413AB3B         193129 2007-08-26 19:09:29.263           C   \n",
       "1  10273602499503308B223C1        1209647 2014-02-27 08:28:07.900         NaN   \n",
       "2  0EE9337825851032864889A          81716 2007-01-05 15:00:47.090          HR   \n",
       "3  0EF5356002482715299901A         658116 2012-10-22 11:02:35.010         NaN   \n",
       "4  0F023589499656230C5E3E2         909464 2013-09-14 18:38:39.097         NaN   \n",
       "\n",
       "   Term LoanStatus ClosedDate  BorrowerAPR  BorrowerRate  LenderYield  ...  \\\n",
       "0    36  Completed 2009-08-14      0.16516        0.1580       0.1380  ...   \n",
       "1    36    Current        NaT      0.12016        0.0920       0.0820  ...   \n",
       "2    36  Completed 2009-12-17      0.28269        0.2750       0.2400  ...   \n",
       "3    36    Current        NaT      0.12528        0.0974       0.0874  ...   \n",
       "4    36    Current        NaT      0.24614        0.2085       0.1985  ...   \n",
       "\n",
       "   LP_GrossPrincipalLoss  LP_NetPrincipalLoss  \\\n",
       "0                    0.0                  0.0   \n",
       "1                    0.0                  0.0   \n",
       "2                    0.0                  0.0   \n",
       "3                    0.0                  0.0   \n",
       "4                    0.0                  0.0   \n",
       "\n",
       "   LP_NonPrincipalRecoverypayments  PercentFunded Recommendations  \\\n",
       "0                              0.0            1.0               0   \n",
       "1                              0.0            1.0               0   \n",
       "2                              0.0            1.0               0   \n",
       "3                              0.0            1.0               0   \n",
       "4                              0.0            1.0               0   \n",
       "\n",
       "   InvestmentFromFriendsCount  InvestmentFromFriendsAmount Investors  \\\n",
       "0                           0                          0.0       258   \n",
       "1                           0                          0.0         1   \n",
       "2                           0                          0.0        41   \n",
       "3                           0                          0.0       158   \n",
       "4                           0                          0.0        20   \n",
       "\n",
       "  Listing_Creation_Year pre-2009  \n",
       "0                  2007     True  \n",
       "1                  2014    False  \n",
       "2                  2007     True  \n",
       "3                  2012    False  \n",
       "4                  2013    False  \n",
       "\n",
       "[5 rows x 83 columns]"
      ]
     },
     "execution_count": 58,
     "metadata": {},
     "output_type": "execute_result"
    }
   ],
   "source": [
    "# Lets create our new column for pre-2009 SEC intervention and post-2009 SEC intervention\n",
    "\n",
    "\n",
    "df_new_1['pre-2009']= np.where(df_new_1['Listing_Creation_Year']< 2009, True, False)\n",
    "\n",
    "df_new_1.head()"
   ]
  },
  {
   "cell_type": "markdown",
   "metadata": {},
   "source": [
    "## Graph-6"
   ]
  },
  {
   "cell_type": "markdown",
   "metadata": {},
   "source": [
    "[Comparing the number of loans missing state data in pre-2009 and post 2009 data](#Introduction) <a Introduction =\"Introduction\"> </a>"
   ]
  },
  {
   "cell_type": "code",
   "execution_count": 59,
   "metadata": {},
   "outputs": [
    {
     "data": {
      "image/png": "[encoded data removed]",
      "text/plain": [
       "<Figure size 864x576 with 1 Axes>"
      ]
     },
     "metadata": {
      "needs_background": "light"
     },
     "output_type": "display_data"
    }
   ],
   "source": [
    "#Let's create the dataframe for this analysis of missing state data in defaulted loans prior to 2009\n",
    "\n",
    "df_defaulted = df_new_1.query('LoanStatus == \"Defaulted\"')\n",
    "df_defaulted_pre_2009 = df_defaulted[df_defaulted['pre-2009']== True]\n",
    "df_defaulted_post_2009 = df_defaulted[df_defaulted['pre-2009']==False]\n",
    "\n",
    "pre_2009_missing_state =df_defaulted_pre_2009[df_defaulted_pre_2009['BorrowerState'] == \"NoData\"].BorrowerState.count()\n",
    "post_2009_missing_state =df_defaulted_post_2009[df_defaulted_post_2009['BorrowerState'] == \"NoData\"].BorrowerState.count()\n",
    "\n",
    "figure(figsize=(12,8))\n",
    "\n",
    "plt.bar([\"pre-2009\",\"post-2009\"],[pre_2009_missing_state, post_2009_missing_state], color='magenta')\n",
    "plt.title(\"Defaulted Loans Missing State Data Created Before 2009 Versus After 2009\")\n",
    "plt.xlabel(\"Year\")\n",
    "plt.ylabel(\"Number of Defaulted Loans Missing State Data\");"
   ]
  },
  {
   "cell_type": "code",
   "execution_count": 60,
   "metadata": {},
   "outputs": [
    {
     "data": {
      "text/plain": [
       "(589, 0)"
      ]
     },
     "execution_count": 60,
     "metadata": {},
     "output_type": "execute_result"
    }
   ],
   "source": [
    "pre_2009_missing_state, post_2009_missing_state"
   ]
  },
  {
   "cell_type": "markdown",
   "metadata": {},
   "source": [
    "We can see that no loans are missing the borrower's state data after 2009.  We could ask, if the borrower's loan is missing the borrower's state data, what is the probability the loan will default?"
   ]
  },
  {
   "cell_type": "markdown",
   "metadata": {},
   "source": [
    "## Graph-7"
   ]
  },
  {
   "cell_type": "markdown",
   "metadata": {},
   "source": [
    "[Comparing the number of defaulted loans in pre-2009 and post 2009 data](#Introduction) <a Introduction =\"Introduction\"> </a>"
   ]
  },
  {
   "cell_type": "code",
   "execution_count": 61,
   "metadata": {},
   "outputs": [
    {
     "data": {
      "image/png": "[encoded data removed]",
      "text/plain": [
       "<Figure size 864x576 with 1 Axes>"
      ]
     },
     "metadata": {
      "needs_background": "light"
     },
     "output_type": "display_data"
    }
   ],
   "source": [
    "#Let's create the dataframe for this analysis of defaulted loans prior to 2009\n",
    "\n",
    "\n",
    "pre_2009_loans = df_defaulted[df_defaulted['pre-2009']== True].LoanStatus.count()\n",
    "post_2009_loans = df_defaulted[df_defaulted['pre-2009']== False].LoanStatus.count()\n",
    "\n",
    "# Let's graph the difference in defaulted loans between the pre-2009 data and the post-2009 data\n",
    "\n",
    "figure(figsize=(12,8))\n",
    "\n",
    "plt.bar([\"pre-2009\",\"post-2009\"],[pre_2009_loans, post_2009_loans], color='cyan')\n",
    "plt.title(\"Defaulted Loans Created Before 2009 Versus After 2009\")\n",
    "plt.xlabel(\"Year\")\n",
    "plt.ylabel(\"Number of Defaulted Loans\");\n",
    "\n"
   ]
  },
  {
   "cell_type": "code",
   "execution_count": 62,
   "metadata": {},
   "outputs": [
    {
     "data": {
      "text/plain": [
       "(4012, 1006)"
      ]
     },
     "execution_count": 62,
     "metadata": {},
     "output_type": "execute_result"
    }
   ],
   "source": [
    "df_defaulted[df_defaulted['pre-2009']== True].LoanStatus.count(),df_defaulted[df_defaulted['pre-2009']== False].LoanStatus.count()"
   ]
  },
  {
   "cell_type": "markdown",
   "metadata": {},
   "source": [
    "The graph shows there were 4012 defaulted loans in the pre-2009 data, and only 1006 defaulted loans in the post-2009 data."
   ]
  },
  {
   "cell_type": "markdown",
   "metadata": {},
   "source": [
    "## Graph-8"
   ]
  },
  {
   "cell_type": "markdown",
   "metadata": {},
   "source": [
    "[Comparing the number of loans missing occupation data in pre-2009 and post 2009 data](#Introduction) <a Introduction =\"Introduction\"> </a>"
   ]
  },
  {
   "cell_type": "code",
   "execution_count": 63,
   "metadata": {},
   "outputs": [
    {
     "data": {
      "image/png": "[encoded data removed]",
      "text/plain": [
       "<Figure size 864x576 with 1 Axes>"
      ]
     },
     "metadata": {
      "needs_background": "light"
     },
     "output_type": "display_data"
    }
   ],
   "source": [
    "#Let's create the dataframe for this analysis of defaulted loans prior to 2009\n",
    "\n",
    "\n",
    "pre_2009_occ_other = df_defaulted_pre_2009[df_defaulted_pre_2009['Occupation']== \"Other\"].Occupation.count()\n",
    "pre_2009_occ_nodata = df_defaulted_pre_2009[df_defaulted_pre_2009['Occupation']== \"NoData\"].Occupation.count()\n",
    "post_2009_occ_other = df_defaulted_post_2009[df_defaulted_post_2009['Occupation']== \"Other\"].Occupation.count()\n",
    "post_2009_occ_nodata = df_defaulted_post_2009[df_defaulted_post_2009['Occupation']== \"NoData\"].Occupation.count()\n",
    "\n",
    "# Let's graph the difference in defaulted loans between the pre-2009 data and the post-2009 data\n",
    "# Hexchrome guide, https://www.w3schools.com/colors/colors_picker.asp\n",
    "\n",
    "figure(figsize=(12,8))\n",
    "\n",
    "plt.bar([\"pre-2009 Other\",\"pre-2009 No Data\", \"post-2009 Other\", \"post-2009 No Data\"],[pre_2009_occ_other, pre_2009_occ_nodata, post_2009_occ_other, post_2009_occ_nodata], color =['#ff0040', '#ff0040', '#00ff80', '#00ff80'])\n",
    "plt.title(\"Defaulted Loans with Occupation Listed as Other - Created Before 2009 Versus After 2009\")\n",
    "plt.xlabel(\"Year\")\n",
    "plt.ylabel(\"Number of Defaulted Loans\");\n"
   ]
  },
  {
   "cell_type": "code",
   "execution_count": 64,
   "metadata": {},
   "outputs": [
    {
     "data": {
      "text/plain": [
       "(985, 522, 296, 0)"
      ]
     },
     "execution_count": 64,
     "metadata": {},
     "output_type": "execute_result"
    }
   ],
   "source": [
    "pre_2009_occ_other, pre_2009_occ_nodata, post_2009_occ_other, post_2009_occ_nodata"
   ]
  },
  {
   "cell_type": "markdown",
   "metadata": {},
   "source": [
    "The graph shows that there were more defaulted loans given to borrowers with the occupation listed as \"Other\" in the pre-2009 data than in the post-2009 data.  There were also 522 defaulted loans in the pre-2009 data which didn't have an occupation listed."
   ]
  },
  {
   "cell_type": "markdown",
   "metadata": {},
   "source": [
    "## Graph-9"
   ]
  },
  {
   "cell_type": "markdown",
   "metadata": {},
   "source": [
    "[Comparing the category -Not Available- as the reason for the loan in pre-2009 and post 2009 defaulted loan data](#Introduction) <a Introduction =\"Introduction\"> </a>"
   ]
  },
  {
   "cell_type": "code",
   "execution_count": 65,
   "metadata": {},
   "outputs": [
    {
     "data": {
      "image/png": "[encoded data removed]",
      "text/plain": [
       "<Figure size 864x576 with 1 Axes>"
      ]
     },
     "metadata": {
      "needs_background": "light"
     },
     "output_type": "display_data"
    }
   ],
   "source": [
    "#Let's create the dataframe for this analysis of loan listing category 0-  \"Not Available\" for defaulted loans prior to 2009\n",
    "\n",
    "\n",
    "df_pre_2009_no_cat = df_defaulted_pre_2009[df_defaulted_pre_2009['Listing_Category']== 0].Occupation.count()\n",
    "df_post_2009_no_cat = df_defaulted_post_2009[df_defaulted_post_2009['Listing_Category']== 0].Occupation.count()\n",
    "\n",
    "# Let's graph the difference in defaulted loans between the pre-2009 data and the post-2009 data\n",
    "\n",
    "figure(figsize=(12,8))\n",
    "\n",
    "plt.bar([\"pre-2009\",\"post-2009\"],[df_pre_2009_no_cat, df_post_2009_no_cat], color='red')\n",
    "plt.title(\"Defaulted Loans with Loan Category Listed as Not Available - Created Before 2009 Versus After 2009\")\n",
    "plt.xlabel(\"Year\")\n",
    "plt.ylabel(\"Number of Defaulted Loans\");"
   ]
  },
  {
   "cell_type": "code",
   "execution_count": 66,
   "metadata": {},
   "outputs": [
    {
     "data": {
      "text/plain": [
       "(2903, 0)"
      ]
     },
     "execution_count": 66,
     "metadata": {},
     "output_type": "execute_result"
    }
   ],
   "source": [
    "df_pre_2009_no_cat, df_post_2009_no_cat"
   ]
  },
  {
   "cell_type": "markdown",
   "metadata": {},
   "source": [
    "The graph show that missing loan listing category data, or the reason a borrower was getting the loan, was only missing in the pre-2009 data.  This data is for defaulted loans."
   ]
  },
  {
   "cell_type": "code",
   "execution_count": 67,
   "metadata": {},
   "outputs": [],
   "source": [
    "# Add a copy of the new csv file to the project\n",
    "df_new_1.to_csv('Prosper-df_new_1.csv')\n"
   ]
  },
  {
   "cell_type": "markdown",
   "metadata": {},
   "source": [
    "### Discuss the distribution(s) of your variable(s) of interest. Were there any unusual points? Did you need to perform any transformations?\n",
    "\n",
    "  There are 5515 loans with \"NoData\" for the state value. All the defaulted loans also missing borrower state data were created prior to 2009. The 'BorrowerState' is a nominal, categorical value. The number of loans per state could be analyzed by geographic region instead of state, however, I don't think this is a significant variable at this time.\n",
    "  \n",
    "  The category '1 - Debt Consolidation' was the most common reason a borrower sought a loan. The second most common reason was category '0 - Not Available'. Defaulted loans created after 2009 aren't missing loan listing category data, so it appears the lender strengthened their borrower requirements where state and reason for obtaining the loan were required to be provided for the borrower.\n",
    "  \n",
    "  \n",
    " \n",
    " The top occupation was 'Other'.  The pre-2009 data had loans given to borrowers where there wasn't any data available for some borrowers' occupations. This surprised me because it seems like information which a lender would naturally have during the income verification process. Also, incomplete or vague data doesn't look good in an investment report. \n",
    "\n",
    "\n",
    "\n",
    " I would like to see which states, occupations or time periods correlated with the losses and see if these variables or other variables like Prosper rating would be useful in predicting future losses.\n",
    "\n",
    "### Of the features you investigated, were there any unusual distributions? Did you perform any operations on the data to tidy, adjust, or change the form of the data? If so, why did you do this?\n",
    "\n",
    " I changed the date columns to a datetime format so I could put the losses in a chart to see if one year between 2005 and 2014 was significant compared to the others in future analysis.  Doing this also allowed me to get a date range.  I also removed duplicated rows of data. \n",
    "\n",
    "I replace NaN values for missing occpation or borrower state data with the term \"NoData\".  \"NoData\" is a category which can be compared in the pre and post 2009 datasets."
   ]
  },
  {
   "cell_type": "markdown",
   "metadata": {},
   "source": [
    "## Bivariate Exploration\n",
    "\n",
    "> The bivariate exploration section below looks at the relationships between state, occupation, and loan category on defaulted loans.  Comparing the variables here will help me see what is going on with the loans in this data set from a humanistic stand point. Some of the variables which interest me include net principal losses whether the borrower had verifiable income or not, and creditscore range. I plan to compare these against the state, occupation, and loan category variables.\n"
   ]
  },
  {
   "cell_type": "markdown",
   "metadata": {},
   "source": [
    "## Graph-10"
   ]
  },
  {
   "cell_type": "markdown",
   "metadata": {},
   "source": [
    "[Comparing the lack of Borrower State information against Net Principal Loss in pre-2009 and post 2009 data](#Introduction) <a Introduction =\"Introduction\"> </a>"
   ]
  },
  {
   "cell_type": "code",
   "execution_count": 68,
   "metadata": {},
   "outputs": [
    {
     "data": {
      "image/png": "[encoded data removed]",
      "text/plain": [
       "<Figure size 1501.25x180 with 1 Axes>"
      ]
     },
     "metadata": {
      "needs_background": "light"
     },
     "output_type": "display_data"
    }
   ],
   "source": [
    "# At this point in the exploration, I am comparing some key variables in the years pre-2009 and post-2009\n",
    "# Let's look at the lack of borrower state information in the pre-2009 and post-2009 data\n",
    "\n",
    "\n",
    "\n",
    "sns.catplot(x=\"BorrowerState\", y=\"LP_NetPrincipalLoss\", hue=\"pre-2009\", kind=\"bar\", data=df_new_1, height = 2.5, aspect = 8)\n",
    "\n",
    "plt.title(\"Net Principal Loss by State in Pre and Post 2009 Loans\")\n",
    "\n",
    "\n",
    "plt.xlabel(\"Borrower State\")\n",
    "plt.ylabel(\"Net Principal Loss\")\n",
    "\n",
    "plt.show()"
   ]
  },
  {
   "cell_type": "markdown",
   "metadata": {},
   "source": [
    "The graph shows that most of the losses occurred in the pre-2009 group of loans.  We can also see that all of the loans created after 2008 had a state attributed to them.  Let's take a closer look at the missing state attribute in the pre-2009 data for defaulted loans.\n",
    "\n",
    "New Hampshire had the highest amount of net principal losses in the pre-2009 data. What was happening in New Hamphsire?  Another possible variable to explore would be loan listing category for New Hampshire. What were borrowers in New Hamphire using the loans for?"
   ]
  },
  {
   "cell_type": "markdown",
   "metadata": {},
   "source": [
    "## Graph-11"
   ]
  },
  {
   "cell_type": "markdown",
   "metadata": {},
   "source": [
    "[Loan Original Amounts per Creation Year Scatter Plot by Income Verifiable](#Introduction) <a Introduction =\"Introduction\"> </a>"
   ]
  },
  {
   "cell_type": "code",
   "execution_count": 69,
   "metadata": {},
   "outputs": [
    {
     "data": {
      "image/png": "[encoded data removed]",
      "text/plain": [
       "<Figure size 864x576 with 1 Axes>"
      ]
     },
     "metadata": {
      "needs_background": "light"
     },
     "output_type": "display_data"
    }
   ],
   "source": [
    "# The box plot below shows the dollar amount of loans per year by loan amount, code provided by a Udacity reviewer\n",
    "\n",
    "figure(figsize=(12,8))\n",
    "\n",
    "ax = sns.boxplot(data = df_new_1, x=\"Listing_Creation_Year\", y=\"LoanOriginalAmount\", hue=\"IncomeVerifiable\", whis=np.inf)\n",
    "plt.title(\"Dollar Amount of Loans by Year between 2005 and 2014\")\n",
    "plt.show()"
   ]
  },
  {
   "cell_type": "markdown",
   "metadata": {},
   "source": [
    " The box plot above is showing loan amounts per year by creation date.  It appears the dollar volume of the loans increased between 2005 and 2014. I'm surprised at the amount of loans without verifiable income in all years.  It looks like 2007 had a significant amount of loans without verifiable income."
   ]
  },
  {
   "cell_type": "markdown",
   "metadata": {},
   "source": [
    "## Graph-12"
   ]
  },
  {
   "cell_type": "markdown",
   "metadata": {},
   "source": [
    "[Defaulted Loans per Year Violin Plot by Verified Income](#Introduction) <a Introduction =\"Introduction\"> </a>"
   ]
  },
  {
   "cell_type": "code",
   "execution_count": 70,
   "metadata": {},
   "outputs": [
    {
     "data": {
      "image/png": "[encoded data removed]",
      "text/plain": [
       "<Figure size 864x576 with 1 Axes>"
      ]
     },
     "metadata": {
      "needs_background": "light"
     },
     "output_type": "display_data"
    }
   ],
   "source": [
    "# This violin plot below shows the number of defaulted loans per year, \n",
    "\n",
    "figure(figsize=(12,8))\n",
    "\n",
    "df_defaulted = df_new_1.query('LoanStatus == \"Defaulted\"')\n",
    "\n",
    "ax = sns.violinplot(data=df_defaulted, x='Listing_Creation_Year', y='LoanStatus', hue='IncomeVerifiable')\n",
    "\n",
    "plt.title(\"Defaulted Loans per Year\");\n"
   ]
  },
  {
   "cell_type": "markdown",
   "metadata": {},
   "source": [
    " The violin plot above shows most of the defaulted loans created were in the years between 2006 and 2008. The two variables being compared here are the years, and the 'defaulted' loan status.  The years are a significant variable because there is an assertion by a class action lawsuit that Prosper knowingly sold unqualified loans.  It would be a good idea to see which variables correlate with defaulted loans, and then the difference between available data for those loans before 2009 and after 2009. It doesn't appear the income verifiable variable is significant."
   ]
  },
  {
   "cell_type": "markdown",
   "metadata": {},
   "source": [
    "## Graph-13"
   ]
  },
  {
   "cell_type": "markdown",
   "metadata": {},
   "source": [
    "[Lower Credit Score Ranges for Occupation Other in pre and post 2009 Loans](#Introduction) <a Introduction =\"Introduction\"> </a>"
   ]
  },
  {
   "cell_type": "code",
   "execution_count": 71,
   "metadata": {},
   "outputs": [
    {
     "data": {
      "image/png": "[encoded data removed]",
      "text/plain": [
       "<Figure size 432x432 with 2 Axes>"
      ]
     },
     "metadata": {
      "needs_background": "light"
     },
     "output_type": "display_data"
    }
   ],
   "source": [
    "# Let's look at the occupation 'Other' and the lower range credit scores variables for pre and post 2009 defaulted loans\n",
    "\n",
    "fig, axes =plt.subplots(1,2, figsize=(6,6))\n",
    "\n",
    "df_defaulted = df_new_1.query('LoanStatus == \"Defaulted\"')\n",
    "df_defaulted_occ_other = df_defaulted[df_defaulted['Occupation']== \"Other\"]\n",
    "df_defaulted_occ_nodata = df_defaulted[df_defaulted['Occupation']== \"NoData\"]\n",
    "\n",
    "sns.barplot(x=\"Occupation\", y=\"CreditScoreRangeLower\", hue=\"pre-2009\", data=df_defaulted_occ_other, orient='v',ax=axes[0]),\n",
    "sns.barplot(x=\"Occupation\", y=\"CreditScoreRangeLower\", hue=\"pre-2009\", data=df_defaulted_occ_nodata, orient='v',ax=axes[1]);"
   ]
  },
  {
   "cell_type": "markdown",
   "metadata": {},
   "source": [
    "There weren't any loans created after 2009 that were missing occupation data.  The loans associated with no occupation data were lower in credit score range.  If occupation is considered a qualifying factor for a loan, it appears loans created before 2009 were more likely to be missing this data."
   ]
  },
  {
   "cell_type": "markdown",
   "metadata": {},
   "source": [
    "### Talk about some of the relationships you observed in this part of the investigation. How did the feature(s) of interest vary with other features in the dataset?\n",
    "\n",
    "Loans missing state data were associated with net principal losses.  Loans created after 2009 weren't missing state data. Verifiable income didn't seem to be a significant factor when compared to loan amounts and defaulted loans. Loans created before 2009 were more likely to default. Loans with missing occupation data seemed more likely to have lower credit scores.\n",
    "\n",
    "### Did you observe any interesting relationships between the other features (not the main feature(s) of interest)?\n",
    "\n",
    "It appears most of the Prosper loans were created in between 2012 and 2014.  The least amount of loans were created in 2009. The histogram above shows most of the defaulted loans created were in the years between 2006 and 2008. \n",
    "\n",
    " The average loan length was 40.77 and the average loan length for defaulted loans was 36.84.  This difference didn't seem significant to me overall, as something which might predict a default on a loan.\n",
    " \n",
    " The fact that verifiable income wasn't a significant variable in loan amounts was interesting.  Is verifiable income related to defaulted loans, or is this variable insignificant in general?"
   ]
  },
  {
   "cell_type": "markdown",
   "metadata": {},
   "source": [
    "## Multivariate Exploration\n",
    "\n"
   ]
  },
  {
   "cell_type": "code",
   "execution_count": 72,
   "metadata": {},
   "outputs": [
    {
     "data": {
      "text/plain": [
       "['ListingKey',\n",
       " 'ListingNumber',\n",
       " 'ListingCreationDate',\n",
       " 'CreditGrade',\n",
       " 'Term',\n",
       " 'LoanStatus',\n",
       " 'ClosedDate',\n",
       " 'BorrowerAPR',\n",
       " 'BorrowerRate',\n",
       " 'LenderYield',\n",
       " 'EstimatedEffectiveYield',\n",
       " 'EstimatedLoss',\n",
       " 'EstimatedReturn',\n",
       " 'ProsperRating (numeric)',\n",
       " 'ProsperRating (Alpha)',\n",
       " 'ProsperScore',\n",
       " 'Listing_Category',\n",
       " 'BorrowerState',\n",
       " 'Occupation',\n",
       " 'EmploymentStatus',\n",
       " 'EmploymentStatusDuration',\n",
       " 'IsBorrowerHomeowner',\n",
       " 'CurrentlyInGroup',\n",
       " 'GroupKey',\n",
       " 'DateCreditPulled',\n",
       " 'CreditScoreRangeLower',\n",
       " 'CreditScoreRangeUpper',\n",
       " 'FirstRecordedCreditLine',\n",
       " 'CurrentCreditLines',\n",
       " 'OpenCreditLines',\n",
       " 'TotalCreditLinespast7years',\n",
       " 'OpenRevolvingAccounts',\n",
       " 'OpenRevolvingMonthlyPayment',\n",
       " 'InquiriesLast6Months',\n",
       " 'TotalInquiries',\n",
       " 'CurrentDelinquencies',\n",
       " 'AmountDelinquent',\n",
       " 'DelinquenciesLast7Years',\n",
       " 'PublicRecordsLast10Years',\n",
       " 'PublicRecordsLast12Months',\n",
       " 'RevolvingCreditBalance',\n",
       " 'BankcardUtilization',\n",
       " 'AvailableBankcardCredit',\n",
       " 'TotalTrades',\n",
       " 'TradesNeverDelinquent (percentage)',\n",
       " 'TradesOpenedLast6Months',\n",
       " 'DebtToIncomeRatio',\n",
       " 'IncomeRange',\n",
       " 'IncomeVerifiable',\n",
       " 'StatedMonthlyIncome',\n",
       " 'LoanKey',\n",
       " 'TotalProsperLoans',\n",
       " 'TotalProsperPaymentsBilled',\n",
       " 'OnTimeProsperPayments',\n",
       " 'ProsperPaymentsLessThanOneMonthLate',\n",
       " 'ProsperPaymentsOneMonthPlusLate',\n",
       " 'ProsperPrincipalBorrowed',\n",
       " 'ProsperPrincipalOutstanding',\n",
       " 'ScorexChangeAtTimeOfListing',\n",
       " 'LoanCurrentDaysDelinquent',\n",
       " 'LoanFirstDefaultedCycleNumber',\n",
       " 'LoanMonthsSinceOrigination',\n",
       " 'LoanNumber',\n",
       " 'LoanOriginalAmount',\n",
       " 'LoanOriginationDate',\n",
       " 'LoanOriginationQuarter',\n",
       " 'MemberKey',\n",
       " 'MonthlyLoanPayment',\n",
       " 'LP_CustomerPayments',\n",
       " 'LP_CustomerPrincipalPayments',\n",
       " 'LP_InterestandFees',\n",
       " 'LP_ServiceFees',\n",
       " 'LP_CollectionFees',\n",
       " 'LP_GrossPrincipalLoss',\n",
       " 'LP_NetPrincipalLoss',\n",
       " 'LP_NonPrincipalRecoverypayments',\n",
       " 'PercentFunded',\n",
       " 'Recommendations',\n",
       " 'InvestmentFromFriendsCount',\n",
       " 'InvestmentFromFriendsAmount',\n",
       " 'Investors',\n",
       " 'Listing_Creation_Year',\n",
       " 'pre-2009']"
      ]
     },
     "execution_count": 72,
     "metadata": {},
     "output_type": "execute_result"
    }
   ],
   "source": [
    "# https://www.kaggle.com/xdurana/multivariate-analysis-and-correlation-matrix\n",
    "# Create a table to run a correlation matrix analysis\n",
    "# Create a list to grab column names\n",
    "list(df_new_1)"
   ]
  },
  {
   "cell_type": "code",
   "execution_count": 73,
   "metadata": {},
   "outputs": [],
   "source": [
    "# Creating a new Dataframe to run the correlation matrix on\n",
    "matrix_df = df_new_1[['ListingNumber',\n",
    " 'Term',\n",
    " 'BorrowerAPR',\n",
    " 'BorrowerRate',\n",
    " 'LenderYield',\n",
    " 'EstimatedEffectiveYield',\n",
    " 'EstimatedLoss',\n",
    " 'EstimatedReturn',\n",
    " 'ProsperRating (numeric)',\n",
    " 'ProsperScore',\n",
    " 'Listing_Category',\n",
    " 'EmploymentStatusDuration',\n",
    " 'CreditScoreRangeLower',\n",
    " 'CreditScoreRangeUpper',\n",
    " 'CurrentCreditLines',\n",
    " 'OpenCreditLines',\n",
    " 'TotalCreditLinespast7years',\n",
    " 'OpenRevolvingAccounts',\n",
    " 'OpenRevolvingMonthlyPayment',\n",
    " 'InquiriesLast6Months',\n",
    " 'TotalInquiries',\n",
    " 'CurrentDelinquencies',\n",
    " 'AmountDelinquent',\n",
    " 'DelinquenciesLast7Years',\n",
    " 'PublicRecordsLast10Years',\n",
    " 'PublicRecordsLast12Months',\n",
    " 'RevolvingCreditBalance',\n",
    " 'BankcardUtilization',\n",
    " 'AvailableBankcardCredit',\n",
    " 'TotalTrades',\n",
    " 'TradesNeverDelinquent (percentage)',\n",
    " 'TradesOpenedLast6Months',\n",
    " 'DebtToIncomeRatio',\n",
    " 'StatedMonthlyIncome',\n",
    " 'TotalProsperLoans',\n",
    " 'TotalProsperPaymentsBilled',\n",
    " 'OnTimeProsperPayments',\n",
    " 'ProsperPaymentsLessThanOneMonthLate',\n",
    " 'ProsperPaymentsOneMonthPlusLate',\n",
    " 'ProsperPrincipalBorrowed',\n",
    " 'ProsperPrincipalOutstanding',\n",
    " 'ScorexChangeAtTimeOfListing',\n",
    " 'LoanCurrentDaysDelinquent',\n",
    " 'LoanFirstDefaultedCycleNumber',\n",
    " 'LoanMonthsSinceOrigination',\n",
    " 'LoanNumber',\n",
    " 'LoanOriginalAmount',\n",
    " 'MemberKey',\n",
    " 'MonthlyLoanPayment',\n",
    " 'LP_CustomerPayments',\n",
    " 'LP_CustomerPrincipalPayments',\n",
    " 'LP_InterestandFees',\n",
    " 'LP_ServiceFees',\n",
    " 'LP_CollectionFees',\n",
    " 'LP_GrossPrincipalLoss',\n",
    " 'LP_NetPrincipalLoss',\n",
    " 'LP_NonPrincipalRecoverypayments',\n",
    " 'PercentFunded',\n",
    " 'Recommendations',\n",
    " 'InvestmentFromFriendsCount',\n",
    " 'InvestmentFromFriendsAmount',\n",
    " 'Investors',\n",
    " 'Listing_Creation_Year']]\n"
   ]
  },
  {
   "cell_type": "code",
   "execution_count": 74,
   "metadata": {},
   "outputs": [
    {
     "name": "stdout",
     "output_type": "stream",
     "text": [
      "<class 'pandas.core.frame.DataFrame'>\n",
      "Int64Index: 112239 entries, 0 to 113936\n",
      "Data columns (total 63 columns):\n",
      " #   Column                               Non-Null Count   Dtype  \n",
      "---  ------                               --------------   -----  \n",
      " 0   ListingNumber                        112239 non-null  int64  \n",
      " 1   Term                                 112239 non-null  int64  \n",
      " 2   BorrowerAPR                          112214 non-null  float64\n",
      " 3   BorrowerRate                         112239 non-null  float64\n",
      " 4   LenderYield                          112239 non-null  float64\n",
      " 5   EstimatedEffectiveYield              83155 non-null   float64\n",
      " 6   EstimatedLoss                        83155 non-null   float64\n",
      " 7   EstimatedReturn                      83155 non-null   float64\n",
      " 8   ProsperRating (numeric)              83155 non-null   float64\n",
      " 9   ProsperScore                         83155 non-null   float64\n",
      " 10  Listing_Category                     112239 non-null  int64  \n",
      " 11  EmploymentStatusDuration             104614 non-null  float64\n",
      " 12  CreditScoreRangeLower                112239 non-null  float64\n",
      " 13  CreditScoreRangeUpper                112239 non-null  float64\n",
      " 14  CurrentCreditLines                   104635 non-null  float64\n",
      " 15  OpenCreditLines                      104635 non-null  float64\n",
      " 16  TotalCreditLinespast7years           111542 non-null  float64\n",
      " 17  OpenRevolvingAccounts                112239 non-null  int64  \n",
      " 18  OpenRevolvingMonthlyPayment          112239 non-null  float64\n",
      " 19  InquiriesLast6Months                 111542 non-null  float64\n",
      " 20  TotalInquiries                       111080 non-null  float64\n",
      " 21  CurrentDelinquencies                 111542 non-null  float64\n",
      " 22  AmountDelinquent                     104617 non-null  float64\n",
      " 23  DelinquenciesLast7Years              111249 non-null  float64\n",
      " 24  PublicRecordsLast10Years             111542 non-null  float64\n",
      " 25  PublicRecordsLast12Months            104635 non-null  float64\n",
      " 26  RevolvingCreditBalance               104635 non-null  float64\n",
      " 27  BankcardUtilization                  104635 non-null  float64\n",
      " 28  AvailableBankcardCredit              104695 non-null  float64\n",
      " 29  TotalTrades                          104695 non-null  float64\n",
      " 30  TradesNeverDelinquent (percentage)   104695 non-null  float64\n",
      " 31  TradesOpenedLast6Months              104695 non-null  float64\n",
      " 32  DebtToIncomeRatio                    103846 non-null  float64\n",
      " 33  StatedMonthlyIncome                  112239 non-null  float64\n",
      " 34  TotalProsperLoans                    21767 non-null   float64\n",
      " 35  TotalProsperPaymentsBilled           21767 non-null   float64\n",
      " 36  OnTimeProsperPayments                21767 non-null   float64\n",
      " 37  ProsperPaymentsLessThanOneMonthLate  21767 non-null   float64\n",
      " 38  ProsperPaymentsOneMonthPlusLate      21767 non-null   float64\n",
      " 39  ProsperPrincipalBorrowed             21767 non-null   float64\n",
      " 40  ProsperPrincipalOutstanding          21767 non-null   float64\n",
      " 41  ScorexChangeAtTimeOfListing          18896 non-null   float64\n",
      " 42  LoanCurrentDaysDelinquent            112239 non-null  int64  \n",
      " 43  LoanFirstDefaultedCycleNumber        16952 non-null   float64\n",
      " 44  LoanMonthsSinceOrigination           112239 non-null  int64  \n",
      " 45  LoanNumber                           112239 non-null  int64  \n",
      " 46  LoanOriginalAmount                   112239 non-null  int64  \n",
      " 47  MemberKey                            112239 non-null  object \n",
      " 48  MonthlyLoanPayment                   112239 non-null  float64\n",
      " 49  LP_CustomerPayments                  112239 non-null  float64\n",
      " 50  LP_CustomerPrincipalPayments         112239 non-null  float64\n",
      " 51  LP_InterestandFees                   112239 non-null  float64\n",
      " 52  LP_ServiceFees                       112239 non-null  float64\n",
      " 53  LP_CollectionFees                    112239 non-null  float64\n",
      " 54  LP_GrossPrincipalLoss                112239 non-null  float64\n",
      " 55  LP_NetPrincipalLoss                  112239 non-null  float64\n",
      " 56  LP_NonPrincipalRecoverypayments      112239 non-null  float64\n",
      " 57  PercentFunded                        112239 non-null  float64\n",
      " 58  Recommendations                      112239 non-null  int64  \n",
      " 59  InvestmentFromFriendsCount           112239 non-null  int64  \n",
      " 60  InvestmentFromFriendsAmount          112239 non-null  float64\n",
      " 61  Investors                            112239 non-null  int64  \n",
      " 62  Listing_Creation_Year                112239 non-null  int64  \n",
      "dtypes: float64(50), int64(12), object(1)\n",
      "memory usage: 59.8+ MB\n"
     ]
    }
   ],
   "source": [
    "# Checking to see if the code was successful\n",
    "matrix_df.info()"
   ]
  },
  {
   "cell_type": "markdown",
   "metadata": {},
   "source": [
    "## Graph-14"
   ]
  },
  {
   "cell_type": "markdown",
   "metadata": {},
   "source": [
    "[Matrix Correlation Heatmap](#Introduction) <a Introduction =\"Introduction\"> </a>"
   ]
  },
  {
   "cell_type": "code",
   "execution_count": 75,
   "metadata": {},
   "outputs": [
    {
     "data": {
      "text/plain": [
       "<seaborn.matrix.ClusterGrid at 0x7abf7d385910>"
      ]
     },
     "execution_count": 75,
     "metadata": {},
     "output_type": "execute_result"
    },
    {
     "data": {
      "image/png": "[encoded data removed]",
      "text/plain": [
       "<Figure size 720x720 with 4 Axes>"
      ]
     },
     "metadata": {
      "needs_background": "light"
     },
     "output_type": "display_data"
    }
   ],
   "source": [
    "# correlation matrix\n",
    "corrmat = matrix_df.corr(method='spearman')\n",
    "cg = sns.clustermap(corrmat, cmap=\"YlGnBu\", linewidths=0.6);\n",
    "plt.setp(cg.ax_heatmap.yaxis.get_majorticklabels(), rotation=0)\n",
    "cg"
   ]
  },
  {
   "cell_type": "markdown",
   "metadata": {},
   "source": [
    "## Graph-15"
   ]
  },
  {
   "cell_type": "markdown",
   "metadata": {},
   "source": [
    "[LP_NetPrincipalLoss Correlation Matrix](#Introduction) <a Introduction =\"Introduction\"> </a>"
   ]
  },
  {
   "cell_type": "code",
   "execution_count": 76,
   "metadata": {},
   "outputs": [
    {
     "data": {
      "text/plain": [
       "<AxesSubplot:>"
      ]
     },
     "execution_count": 76,
     "metadata": {},
     "output_type": "execute_result"
    },
    {
     "data": {
      "image/png": "[encoded data removed]",
      "text/plain": [
       "<Figure size 1440x720 with 2 Axes>"
      ]
     },
     "metadata": {
      "needs_background": "light"
     },
     "output_type": "display_data"
    }
   ],
   "source": [
    "# LP_NetPrincipalLoss Correlation Matrix\n",
    "k = 61 # of variables for heatmap total 62 \n",
    "cols = corrmat.nlargest(k, 'LP_NetPrincipalLoss')['LP_NetPrincipalLoss'].index\n",
    "cm = np.corrcoef(matrix_df[cols].values.T)\n",
    "f, ax=plt.subplots(figsize=(20,10))\n",
    "sns.heatmap(cm, ax=ax, cmap=\"YlGnBu\", linewidths= 0.5, yticklabels=cols.values, xticklabels=cols.values)"
   ]
  },
  {
   "cell_type": "markdown",
   "metadata": {},
   "source": [
    "> Some variables should be removed for this to be an effective visual analysis of LP_NetPrincipalLossCorrelation.\n",
    "\n",
    "> LP_CurrentDaysDelinquent appears to visually correlate with LP_NetPrincipalLoss.\n"
   ]
  },
  {
   "cell_type": "code",
   "execution_count": 77,
   "metadata": {},
   "outputs": [],
   "source": [
    "# Let's graph a characteristics we are looking at and another feature against LP_NetPrincipalLoss: \n",
    "# Listing Category - reason for the loan & Open Revolving Accounts \n",
    "\n",
    "import statsmodels.api as sm\n",
    "from statsmodels.formula.api import ols"
   ]
  },
  {
   "cell_type": "code",
   "execution_count": 78,
   "metadata": {},
   "outputs": [
    {
     "data": {
      "text/plain": [
       "16646"
      ]
     },
     "execution_count": 78,
     "metadata": {},
     "output_type": "execute_result"
    }
   ],
   "source": [
    "# Create a new dataframe for analysis\n",
    "stats_df = df_new_1.query('LP_NetPrincipalLoss > 0')\n",
    "stats_df['LP_NetPrincipalLoss'].count()"
   ]
  },
  {
   "cell_type": "code",
   "execution_count": 79,
   "metadata": {},
   "outputs": [
    {
     "data": {
      "text/plain": [
       "15        3790\n",
       "17        6012\n",
       "23        1882\n",
       "42        1096\n",
       "57        1569\n",
       "          ... \n",
       "113904    6682\n",
       "113905    3325\n",
       "113914    2883\n",
       "113918    2176\n",
       "113926    2536\n",
       "Name: LP_NetPrincipalLoss, Length: 16646, dtype: int64"
      ]
     },
     "execution_count": 79,
     "metadata": {},
     "output_type": "execute_result"
    }
   ],
   "source": [
    "# Change datatypes on columns for multivariate analysis: \n",
    "# 'LP_NetPrincipalLoss',InvestmentFromFriendsAmount','OpenRevolvingAccounts'\n",
    "stats_df.LP_NetPrincipalLoss.astype(int)\n"
   ]
  },
  {
   "cell_type": "code",
   "execution_count": 80,
   "metadata": {},
   "outputs": [
    {
     "data": {
      "text/plain": [
       "15        0\n",
       "17        0\n",
       "23        0\n",
       "42        0\n",
       "57        0\n",
       "         ..\n",
       "113904    0\n",
       "113905    0\n",
       "113914    0\n",
       "113918    0\n",
       "113926    0\n",
       "Name: InvestmentFromFriendsAmount, Length: 16646, dtype: int64"
      ]
     },
     "execution_count": 80,
     "metadata": {},
     "output_type": "execute_result"
    }
   ],
   "source": [
    "stats_df.InvestmentFromFriendsAmount.astype(int)"
   ]
  },
  {
   "cell_type": "code",
   "execution_count": 81,
   "metadata": {},
   "outputs": [
    {
     "data": {
      "text/plain": [
       "15         5\n",
       "17        16\n",
       "23         5\n",
       "42         0\n",
       "57        14\n",
       "          ..\n",
       "113904    10\n",
       "113905    15\n",
       "113914     0\n",
       "113918    17\n",
       "113926     0\n",
       "Name: OpenRevolvingAccounts, Length: 16646, dtype: int64"
      ]
     },
     "execution_count": 81,
     "metadata": {},
     "output_type": "execute_result"
    }
   ],
   "source": [
    "stats_df.OpenRevolvingAccounts.astype(int)"
   ]
  },
  {
   "cell_type": "code",
   "execution_count": 82,
   "metadata": {},
   "outputs": [
    {
     "name": "stdout",
     "output_type": "stream",
     "text": [
      "<class 'pandas.core.frame.DataFrame'>\n",
      "Int64Index: 16646 entries, 15 to 113926\n",
      "Data columns (total 83 columns):\n",
      " #   Column                               Non-Null Count  Dtype         \n",
      "---  ------                               --------------  -----         \n",
      " 0   ListingKey                           16646 non-null  object        \n",
      " 1   ListingNumber                        16646 non-null  int64         \n",
      " 2   ListingCreationDate                  16646 non-null  datetime64[ns]\n",
      " 3   CreditGrade                          10462 non-null  object        \n",
      " 4   Term                                 16646 non-null  int64         \n",
      " 5   LoanStatus                           16646 non-null  object        \n",
      " 6   ClosedDate                           16646 non-null  datetime64[ns]\n",
      " 7   BorrowerAPR                          16646 non-null  float64       \n",
      " 8   BorrowerRate                         16646 non-null  float64       \n",
      " 9   LenderYield                          16646 non-null  float64       \n",
      " 10  EstimatedEffectiveYield              6175 non-null   float64       \n",
      " 11  EstimatedLoss                        6175 non-null   float64       \n",
      " 12  EstimatedReturn                      6175 non-null   float64       \n",
      " 13  ProsperRating (numeric)              6175 non-null   float64       \n",
      " 14  ProsperRating (Alpha)                6175 non-null   object        \n",
      " 15  ProsperScore                         6175 non-null   float64       \n",
      " 16  Listing_Category                     16646 non-null  int64         \n",
      " 17  BorrowerState                        16646 non-null  object        \n",
      " 18  Occupation                           16646 non-null  object        \n",
      " 19  EmploymentStatus                     15840 non-null  object        \n",
      " 20  EmploymentStatusDuration             13597 non-null  float64       \n",
      " 21  IsBorrowerHomeowner                  16646 non-null  bool          \n",
      " 22  CurrentlyInGroup                     16646 non-null  bool          \n",
      " 23  GroupKey                             4834 non-null   object        \n",
      " 24  DateCreditPulled                     16646 non-null  datetime64[ns]\n",
      " 25  CreditScoreRangeLower                16646 non-null  float64       \n",
      " 26  CreditScoreRangeUpper                16646 non-null  float64       \n",
      " 27  FirstRecordedCreditLine              16415 non-null  object        \n",
      " 28  CurrentCreditLines                   13599 non-null  float64       \n",
      " 29  OpenCreditLines                      13599 non-null  float64       \n",
      " 30  TotalCreditLinespast7years           16415 non-null  float64       \n",
      " 31  OpenRevolvingAccounts                16646 non-null  int64         \n",
      " 32  OpenRevolvingMonthlyPayment          16646 non-null  float64       \n",
      " 33  InquiriesLast6Months                 16415 non-null  float64       \n",
      " 34  TotalInquiries                       16281 non-null  float64       \n",
      " 35  CurrentDelinquencies                 16415 non-null  float64       \n",
      " 36  AmountDelinquent                     13597 non-null  float64       \n",
      " 37  DelinquenciesLast7Years              16306 non-null  float64       \n",
      " 38  PublicRecordsLast10Years             16415 non-null  float64       \n",
      " 39  PublicRecordsLast12Months            13599 non-null  float64       \n",
      " 40  RevolvingCreditBalance               13599 non-null  float64       \n",
      " 41  BankcardUtilization                  13599 non-null  float64       \n",
      " 42  AvailableBankcardCredit              13616 non-null  float64       \n",
      " 43  TotalTrades                          13616 non-null  float64       \n",
      " 44  TradesNeverDelinquent (percentage)   13616 non-null  float64       \n",
      " 45  TradesOpenedLast6Months              13616 non-null  float64       \n",
      " 46  DebtToIncomeRatio                    15174 non-null  float64       \n",
      " 47  IncomeRange                          16646 non-null  object        \n",
      " 48  IncomeVerifiable                     16646 non-null  bool          \n",
      " 49  StatedMonthlyIncome                  16646 non-null  float64       \n",
      " 50  LoanKey                              16646 non-null  object        \n",
      " 51  TotalProsperLoans                    2389 non-null   float64       \n",
      " 52  TotalProsperPaymentsBilled           2389 non-null   float64       \n",
      " 53  OnTimeProsperPayments                2389 non-null   float64       \n",
      " 54  ProsperPaymentsLessThanOneMonthLate  2389 non-null   float64       \n",
      " 55  ProsperPaymentsOneMonthPlusLate      2389 non-null   float64       \n",
      " 56  ProsperPrincipalBorrowed             2389 non-null   float64       \n",
      " 57  ProsperPrincipalOutstanding          2389 non-null   float64       \n",
      " 58  ScorexChangeAtTimeOfListing          2388 non-null   float64       \n",
      " 59  LoanCurrentDaysDelinquent            16646 non-null  int64         \n",
      " 60  LoanFirstDefaultedCycleNumber        16633 non-null  float64       \n",
      " 61  LoanMonthsSinceOrigination           16646 non-null  int64         \n",
      " 62  LoanNumber                           16646 non-null  int64         \n",
      " 63  LoanOriginalAmount                   16646 non-null  int64         \n",
      " 64  LoanOriginationDate                  16646 non-null  datetime64[ns]\n",
      " 65  LoanOriginationQuarter               16646 non-null  object        \n",
      " 66  MemberKey                            16646 non-null  object        \n",
      " 67  MonthlyLoanPayment                   16646 non-null  float64       \n",
      " 68  LP_CustomerPayments                  16646 non-null  float64       \n",
      " 69  LP_CustomerPrincipalPayments         16646 non-null  float64       \n",
      " 70  LP_InterestandFees                   16646 non-null  float64       \n",
      " 71  LP_ServiceFees                       16646 non-null  float64       \n",
      " 72  LP_CollectionFees                    16646 non-null  float64       \n",
      " 73  LP_GrossPrincipalLoss                16646 non-null  float64       \n",
      " 74  LP_NetPrincipalLoss                  16646 non-null  float64       \n",
      " 75  LP_NonPrincipalRecoverypayments      16646 non-null  float64       \n",
      " 76  PercentFunded                        16646 non-null  float64       \n",
      " 77  Recommendations                      16646 non-null  int64         \n",
      " 78  InvestmentFromFriendsCount           16646 non-null  int64         \n",
      " 79  InvestmentFromFriendsAmount          16646 non-null  float64       \n",
      " 80  Investors                            16646 non-null  int64         \n",
      " 81  Listing_Creation_Year                16646 non-null  int64         \n",
      " 82  pre-2009                             16646 non-null  bool          \n",
      "dtypes: bool(4), datetime64[ns](4), float64(50), int64(12), object(13)\n",
      "memory usage: 10.2+ MB\n"
     ]
    }
   ],
   "source": [
    "# Check the new stats dataframe\n",
    "stats_df.info()"
   ]
  },
  {
   "cell_type": "markdown",
   "metadata": {},
   "source": [
    "## Graph-16"
   ]
  },
  {
   "cell_type": "markdown",
   "metadata": {},
   "source": [
    "[Seaborn - LP_NetPrincipalLoss](#Introduction) <a Introduction =\"Introduction\"> </a>"
   ]
  },
  {
   "cell_type": "code",
   "execution_count": 83,
   "metadata": {},
   "outputs": [
    {
     "data": {
      "image/png": "[encoded data removed]",
      "text/plain": [
       "<Figure size 1296x576 with 1 Axes>"
      ]
     },
     "metadata": {
      "needs_background": "light"
     },
     "output_type": "display_data"
    }
   ],
   "source": [
    "# Seaborn visualiztion, https://seaborn.pydata.org/tutorial/relational.html#relational-tutorial through Udacity help section\n",
    "figure(figsize=(18,8))\n",
    "sns.barplot(x='Listing_Category', y='LP_NetPrincipalLoss', hue='pre-2009', data=stats_df);\n",
    "plt.title('Net Principal Loss by Loan Category in pre and post 2009 Loans')\n",
    "plt.show()"
   ]
  },
  {
   "cell_type": "markdown",
   "metadata": {},
   "source": [
    " This visualization shows that listing category does have an impact on net losses, but pre-2009 loans had more losses in categories one through seven.\n",
    " \n",
    " 0 - Not Available, 1 - Debt Consolidation, 2 - Home Improvement, 3 - Business, 4 - Personal Loan, 5 - Student Use, 6 - Auto, 7- Other, 8 - Baby&Adoption, 9 - Boat, 10 - Cosmetic Procedure, 11 - Engagement Ring, 12 - Green Loans, 13 - Household Expenses, 14 - Large Purchases, 15 - Medical/Dental, 16 - Motorcycle, 17 - RV, 18 - Taxes, 19 - Vacation, 20 - Wedding Loans"
   ]
  },
  {
   "cell_type": "code",
   "execution_count": 84,
   "metadata": {},
   "outputs": [
    {
     "data": {
      "text/html": [
       "<table class=\"simpletable\">\n",
       "<caption>OLS Regression Results</caption>\n",
       "<tr>\n",
       "  <th>Dep. Variable:</th>    <td>LP_NetPrincipalLoss</td> <th>  R-squared:         </th>  <td>   0.134</td>  \n",
       "</tr>\n",
       "<tr>\n",
       "  <th>Model:</th>                    <td>OLS</td>         <th>  Adj. R-squared:    </th>  <td>   0.134</td>  \n",
       "</tr>\n",
       "<tr>\n",
       "  <th>Method:</th>              <td>Least Squares</td>    <th>  F-statistic:       </th>  <td>   1285.</td>  \n",
       "</tr>\n",
       "<tr>\n",
       "  <th>Date:</th>              <td>Sun, 24 Jan 2021</td>   <th>  Prob (F-statistic):</th>   <td>  0.00</td>   \n",
       "</tr>\n",
       "<tr>\n",
       "  <th>Time:</th>                  <td>11:36:46</td>       <th>  Log-Likelihood:    </th> <td>-1.6211e+05</td>\n",
       "</tr>\n",
       "<tr>\n",
       "  <th>No. Observations:</th>       <td> 16646</td>        <th>  AIC:               </th>  <td>3.242e+05</td> \n",
       "</tr>\n",
       "<tr>\n",
       "  <th>Df Residuals:</th>           <td> 16643</td>        <th>  BIC:               </th>  <td>3.243e+05</td> \n",
       "</tr>\n",
       "<tr>\n",
       "  <th>Df Model:</th>               <td>     2</td>        <th>                     </th>      <td> </td>     \n",
       "</tr>\n",
       "<tr>\n",
       "  <th>Covariance Type:</th>       <td>nonrobust</td>      <th>                     </th>      <td> </td>     \n",
       "</tr>\n",
       "</table>\n",
       "<table class=\"simpletable\">\n",
       "<tr>\n",
       "            <td></td>               <th>coef</th>     <th>std err</th>      <th>t</th>      <th>P>|t|</th>  <th>[0.025</th>    <th>0.975]</th>  \n",
       "</tr>\n",
       "<tr>\n",
       "  <th>const</th>                 <td> 3486.9898</td> <td>  312.105</td> <td>   11.172</td> <td> 0.000</td> <td> 2875.231</td> <td> 4098.749</td>\n",
       "</tr>\n",
       "<tr>\n",
       "  <th>CreditScoreRangeUpper</th> <td> -545.2241</td> <td>   20.426</td> <td>  -26.693</td> <td> 0.000</td> <td> -585.261</td> <td> -505.187</td>\n",
       "</tr>\n",
       "<tr>\n",
       "  <th>CreditScoreRangeLower</th> <td>  563.2536</td> <td>   20.638</td> <td>   27.292</td> <td> 0.000</td> <td>  522.801</td> <td>  603.706</td>\n",
       "</tr>\n",
       "</table>\n",
       "<table class=\"simpletable\">\n",
       "<tr>\n",
       "  <th>Omnibus:</th>       <td>5641.620</td> <th>  Durbin-Watson:     </th> <td>   2.020</td> \n",
       "</tr>\n",
       "<tr>\n",
       "  <th>Prob(Omnibus):</th>  <td> 0.000</td>  <th>  Jarque-Bera (JB):  </th> <td>18013.788</td>\n",
       "</tr>\n",
       "<tr>\n",
       "  <th>Skew:</th>           <td> 1.756</td>  <th>  Prob(JB):          </th> <td>    0.00</td> \n",
       "</tr>\n",
       "<tr>\n",
       "  <th>Kurtosis:</th>       <td> 6.694</td>  <th>  Cond. No.          </th> <td>9.08e+03</td> \n",
       "</tr>\n",
       "</table><br/><br/>Notes:<br/>[1] Standard Errors assume that the covariance matrix of the errors is correctly specified.<br/>[2] The condition number is large, 9.08e+03. This might indicate that there are<br/>strong multicollinearity or other numerical problems."
      ],
      "text/plain": [
       "<class 'statsmodels.iolib.summary.Summary'>\n",
       "\"\"\"\n",
       "                             OLS Regression Results                            \n",
       "===============================================================================\n",
       "Dep. Variable:     LP_NetPrincipalLoss   R-squared:                       0.134\n",
       "Model:                             OLS   Adj. R-squared:                  0.134\n",
       "Method:                  Least Squares   F-statistic:                     1285.\n",
       "Date:                 Sun, 24 Jan 2021   Prob (F-statistic):               0.00\n",
       "Time:                         11:36:46   Log-Likelihood:            -1.6211e+05\n",
       "No. Observations:                16646   AIC:                         3.242e+05\n",
       "Df Residuals:                    16643   BIC:                         3.243e+05\n",
       "Df Model:                            2                                         \n",
       "Covariance Type:             nonrobust                                         \n",
       "=========================================================================================\n",
       "                            coef    std err          t      P>|t|      [0.025      0.975]\n",
       "-----------------------------------------------------------------------------------------\n",
       "const                  3486.9898    312.105     11.172      0.000    2875.231    4098.749\n",
       "CreditScoreRangeUpper  -545.2241     20.426    -26.693      0.000    -585.261    -505.187\n",
       "CreditScoreRangeLower   563.2536     20.638     27.292      0.000     522.801     603.706\n",
       "==============================================================================\n",
       "Omnibus:                     5641.620   Durbin-Watson:                   2.020\n",
       "Prob(Omnibus):                  0.000   Jarque-Bera (JB):            18013.788\n",
       "Skew:                           1.756   Prob(JB):                         0.00\n",
       "Kurtosis:                       6.694   Cond. No.                     9.08e+03\n",
       "==============================================================================\n",
       "\n",
       "Notes:\n",
       "[1] Standard Errors assume that the covariance matrix of the errors is correctly specified.\n",
       "[2] The condition number is large, 9.08e+03. This might indicate that there are\n",
       "strong multicollinearity or other numerical problems.\n",
       "\"\"\""
      ]
     },
     "execution_count": 84,
     "metadata": {},
     "output_type": "execute_result"
    }
   ],
   "source": [
    "# A linear regression model, https://datatofish.com/statsmodels-linear-regression/\n",
    "x = stats_df[['CreditScoreRangeUpper','CreditScoreRangeLower']]\n",
    "y = stats_df['LP_NetPrincipalLoss']\n",
    "\n",
    "x = sm.add_constant(x)\n",
    "\n",
    "model = sm.OLS(y, x).fit()\n",
    "\n",
    "predictions = model.predict(x)\n",
    "\n",
    "print_model = model.summary()\n",
    "\n",
    "print_model\n"
   ]
  },
  {
   "cell_type": "markdown",
   "metadata": {},
   "source": [
    "## Graph-17"
   ]
  },
  {
   "cell_type": "code",
   "execution_count": null,
   "metadata": {},
   "outputs": [],
   "source": [
    "[Seaborn - LP_NetPrincipalLoss in Lower Range Credit Scores](#Introduction) <a Introduction =\"Introduction\"> </a>"
   ]
  },
  {
   "cell_type": "code",
   "execution_count": 85,
   "metadata": {},
   "outputs": [
    {
     "data": {
      "image/png": "[encoded data removed]",
      "text/plain": [
       "<Figure size 1296x576 with 1 Axes>"
      ]
     },
     "metadata": {
      "needs_background": "light"
     },
     "output_type": "display_data"
    }
   ],
   "source": [
    "# Net principal loss in lower range credit scores\n",
    "\n",
    "figure(figsize=(18,8))\n",
    "\n",
    "sns.barplot(x='CreditScoreRangeLower', y='LP_NetPrincipalLoss', hue='pre-2009', data=stats_df);\n",
    "\n",
    "plt.title('Net Principal Loss for Lower Range Credit Scores in pre and post 2009 Loans')\n",
    "\n",
    "plt.show()\n"
   ]
  },
  {
   "cell_type": "markdown",
   "metadata": {},
   "source": [
    "Here we can see the loan credit score requirements increased after 2009.  The Wikipedia article mentioned this.  Let's see if credit scores correlate with loan status."
   ]
  },
  {
   "cell_type": "code",
   "execution_count": 149,
   "metadata": {},
   "outputs": [],
   "source": [
    "# Get dummie variables for loan status for multivariate analysis\n",
    "\n",
    "\n",
    "\n",
    "#df_new_1[['Cancelled','Chargedoff','Completed','Current','Defaulted','FinalPaymentInProgress','NoData', 'Past Due (1-15 days)','Past Due (16-30 days)','Past Due (31-60 days)','Past Due (61-90 days)','Past Due (91-120 days)']] = pd.get_dummies(df_new_1['LoanStatus'])"
   ]
  },
  {
   "cell_type": "markdown",
   "metadata": {},
   "source": []
  },
  {
   "cell_type": "code",
   "execution_count": null,
   "metadata": {},
   "outputs": [],
   "source": [
    "\n"
   ]
  },
  {
   "cell_type": "code",
   "execution_count": null,
   "metadata": {},
   "outputs": [],
   "source": []
  },
  {
   "cell_type": "code",
   "execution_count": 87,
   "metadata": {},
   "outputs": [],
   "source": [
    "# Add a copy of the new csv file to the project\n",
    "df_new_1.to_csv('Final-Prosper-DF.csv')"
   ]
  },
  {
   "cell_type": "markdown",
   "metadata": {},
   "source": [
    "### "
   ]
  },
  {
   "cell_type": "markdown",
   "metadata": {},
   "source": [
    "### Talk about some of the relationships you observed in this part of the investigation. Were there features that strengthened each other in terms of looking at your feature(s) of interest?\n",
    "\n",
    " The loan listing category had a correlation with the loans in terms of contributing to net losses.\n",
    "\n",
    "### Were there any interesting or surprising interactions between features?\n",
    "\n",
    " "
   ]
  },
  {
   "cell_type": "markdown",
   "metadata": {},
   "source": [
    "> At the end of your report, make sure that you export the notebook as an\n",
    "html file from the `File > Download as... > HTML` menu. Make sure you keep\n",
    "track of where the exported file goes, so you can put it in the same folder\n",
    "as this notebook for project submission. Also, make sure you remove all of\n",
    "the quote-formatted guide notes like this one before you finish your report!"
   ]
  },
  {
   "cell_type": "code",
   "execution_count": null,
   "metadata": {},
   "outputs": [],
   "source": []
  }
 ],
 "metadata": {
  "kernelspec": {
   "display_name": "Python 3",
   "language": "python",
   "name": "python3"
  },
  "language_info": {
   "codemirror_mode": {
    "name": "ipython",
    "version": 3
   },
   "file_extension": ".py",
   "mimetype": "text/x-python",
   "name": "python",
   "nbconvert_exporter": "python",
   "pygments_lexer": "ipython3",
   "version": "3.8.3"
  }
 },
 "nbformat": 4,
 "nbformat_minor": 2
}
