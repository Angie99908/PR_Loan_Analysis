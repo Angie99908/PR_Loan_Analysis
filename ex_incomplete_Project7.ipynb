{
 "cells": [
  {
   "cell_type": "markdown",
   "metadata": {},
   "source": [
    "# Prosper Loan Data Exploration\n",
    "## by Angie Koepcke\n",
    "\n",
    "\n",
    "\n",
    "### Preliminary Wrangling\n",
    "\n",
    "> The Prosper Loan data set contains loan data for various types of loans from 2005 to 2014. The data file was provided by Udacity.  The loans ranged in term from 12 to 60 months.\n",
    "\n",
    "> The first step I completed was to upload the 'prosperLoanData.csv' file to my project folder in my jupyter notebook.  This way I could run .head() and .info() on the data and get an idea of what I was looking at.  I opened the Prosper Loan Data variable definitions in Google sheets.\n",
    "\n",
    "> I also check to make sure all the packages I needed for this project were installed.  It turned out I had to install Seaborn, so I did this in Linux. After installing Seaborn, I checked the data using .head() and .info(). \n",
    "\n",
    "> There were 80 columns and 113,937 rows of data in the loan data file.  I had to decide which variables I wanted to explore.  The loan listing category, which classifies what the loan was for, and the state interested me right away.  Beyond that, I decided I needed to do more exploration and make some decisions. \n",
    "\n",
    "> I chose to look at loans by state, occupation, and reason for the loan.  "
   ]
  },
  {
   "cell_type": "markdown",
   "metadata": {},
   "source": [
    "## Table of Contents   \n",
    "\n",
    "### Univariate Exploration\n",
    "    \n",
    "\n",
    "   * [Introduction - Dataset Structures and Features](#Introduction) <a Introduction =\"Introduction\"></a>       \n",
    "   \n",
    "   * [Graph 1 - Loans by State Histogram](#Graph-1) <a Graph-1 =\"Graph-1\"> </a>\n",
    "   \n",
    "   * [Graph 2 - Loans by Category Bar Chart](#Graph-2) <a Graph-2 =\"Graph-2\"> </a>\n",
    "   \n",
    "   * [Graph-3 - Loans by Status Histogram](#Graph-3) <a Graph-3 =\"Graph-3\"> </a>\n",
    "   \n",
    "### Bivariate Exploration\n",
    "   \n",
    "   * [Graph-4 - Loans per Year Histogram](#Graph-4) <a Graph-4 =\"Graph-4\"> </a>\n",
    "   \n",
    "   * [Graph-5 - Defaulted Loans per Year Histogram](#Graph-5) <a Graph-5 =\"Graph-5\"> </a>\n",
    "   \n",
    "   * [Graph-6 -Top 10 Occupations Defaulted Loans Histogram](#Graph-6) <a Graph-6 =\"Graph-6\"> </a>\n",
    "   \n",
    "   * [Graph-7 - Top 10 Loan Categories Defaulted Loans Histogram](#Graph-7) <a Graph-7 =\"Graph-7\"> </a>\n",
    "   \n",
    "   * [Graph-8 - Defaulted Loans by State Histogram](#Graph-8) <a Graph-8 =\"Graph-8\"> </a>\n",
    "   "
   ]
  },
  {
   "cell_type": "code",
   "execution_count": 168,
   "metadata": {},
   "outputs": [],
   "source": [
    "# import all packages and set plots to be embedded inline\n",
    "\n",
    "import numpy as np\n",
    "import pandas as pd\n",
    "import matplotlib.pyplot as plt\n",
    "import seaborn as sns\n",
    "\n",
    "%matplotlib inline"
   ]
  },
  {
   "cell_type": "markdown",
   "metadata": {},
   "source": [
    "> Load in your dataset and describe its properties through the questions below.\n",
    "Try and motivate your exploration goals through this section."
   ]
  },
  {
   "cell_type": "code",
   "execution_count": 169,
   "metadata": {},
   "outputs": [
    {
     "data": {
      "text/html": [
       "<div>\n",
       "<style scoped>\n",
       "    .dataframe tbody tr th:only-of-type {\n",
       "        vertical-align: middle;\n",
       "    }\n",
       "\n",
       "    .dataframe tbody tr th {\n",
       "        vertical-align: top;\n",
       "    }\n",
       "\n",
       "    .dataframe thead th {\n",
       "        text-align: right;\n",
       "    }\n",
       "</style>\n",
       "<table border=\"1\" class=\"dataframe\">\n",
       "  <thead>\n",
       "    <tr style=\"text-align: right;\">\n",
       "      <th></th>\n",
       "      <th>ListingKey</th>\n",
       "      <th>ListingNumber</th>\n",
       "      <th>ListingCreationDate</th>\n",
       "      <th>CreditGrade</th>\n",
       "      <th>Term</th>\n",
       "      <th>LoanStatus</th>\n",
       "      <th>ClosedDate</th>\n",
       "      <th>BorrowerAPR</th>\n",
       "      <th>BorrowerRate</th>\n",
       "      <th>LenderYield</th>\n",
       "      <th>...</th>\n",
       "      <th>LP_ServiceFees</th>\n",
       "      <th>LP_CollectionFees</th>\n",
       "      <th>LP_GrossPrincipalLoss</th>\n",
       "      <th>LP_NetPrincipalLoss</th>\n",
       "      <th>LP_NonPrincipalRecoverypayments</th>\n",
       "      <th>PercentFunded</th>\n",
       "      <th>Recommendations</th>\n",
       "      <th>InvestmentFromFriendsCount</th>\n",
       "      <th>InvestmentFromFriendsAmount</th>\n",
       "      <th>Investors</th>\n",
       "    </tr>\n",
       "  </thead>\n",
       "  <tbody>\n",
       "    <tr>\n",
       "      <th>0</th>\n",
       "      <td>1021339766868145413AB3B</td>\n",
       "      <td>193129</td>\n",
       "      <td>2007-08-26 19:09:29.263000000</td>\n",
       "      <td>C</td>\n",
       "      <td>36</td>\n",
       "      <td>Completed</td>\n",
       "      <td>2009-08-14 00:00:00</td>\n",
       "      <td>0.16516</td>\n",
       "      <td>0.158</td>\n",
       "      <td>0.138</td>\n",
       "      <td>...</td>\n",
       "      <td>-133.18</td>\n",
       "      <td>0.0</td>\n",
       "      <td>0.0</td>\n",
       "      <td>0.0</td>\n",
       "      <td>0.0</td>\n",
       "      <td>1.0</td>\n",
       "      <td>0</td>\n",
       "      <td>0</td>\n",
       "      <td>0.0</td>\n",
       "      <td>258</td>\n",
       "    </tr>\n",
       "    <tr>\n",
       "      <th>1</th>\n",
       "      <td>10273602499503308B223C1</td>\n",
       "      <td>1209647</td>\n",
       "      <td>2014-02-27 08:28:07.900000000</td>\n",
       "      <td>NaN</td>\n",
       "      <td>36</td>\n",
       "      <td>Current</td>\n",
       "      <td>NaN</td>\n",
       "      <td>0.12016</td>\n",
       "      <td>0.092</td>\n",
       "      <td>0.082</td>\n",
       "      <td>...</td>\n",
       "      <td>0.00</td>\n",
       "      <td>0.0</td>\n",
       "      <td>0.0</td>\n",
       "      <td>0.0</td>\n",
       "      <td>0.0</td>\n",
       "      <td>1.0</td>\n",
       "      <td>0</td>\n",
       "      <td>0</td>\n",
       "      <td>0.0</td>\n",
       "      <td>1</td>\n",
       "    </tr>\n",
       "    <tr>\n",
       "      <th>2</th>\n",
       "      <td>0EE9337825851032864889A</td>\n",
       "      <td>81716</td>\n",
       "      <td>2007-01-05 15:00:47.090000000</td>\n",
       "      <td>HR</td>\n",
       "      <td>36</td>\n",
       "      <td>Completed</td>\n",
       "      <td>2009-12-17 00:00:00</td>\n",
       "      <td>0.28269</td>\n",
       "      <td>0.275</td>\n",
       "      <td>0.240</td>\n",
       "      <td>...</td>\n",
       "      <td>-24.20</td>\n",
       "      <td>0.0</td>\n",
       "      <td>0.0</td>\n",
       "      <td>0.0</td>\n",
       "      <td>0.0</td>\n",
       "      <td>1.0</td>\n",
       "      <td>0</td>\n",
       "      <td>0</td>\n",
       "      <td>0.0</td>\n",
       "      <td>41</td>\n",
       "    </tr>\n",
       "  </tbody>\n",
       "</table>\n",
       "<p>3 rows × 81 columns</p>\n",
       "</div>"
      ],
      "text/plain": [
       "                ListingKey  ListingNumber            ListingCreationDate  \\\n",
       "0  1021339766868145413AB3B         193129  2007-08-26 19:09:29.263000000   \n",
       "1  10273602499503308B223C1        1209647  2014-02-27 08:28:07.900000000   \n",
       "2  0EE9337825851032864889A          81716  2007-01-05 15:00:47.090000000   \n",
       "\n",
       "  CreditGrade  Term LoanStatus           ClosedDate  BorrowerAPR  \\\n",
       "0           C    36  Completed  2009-08-14 00:00:00      0.16516   \n",
       "1         NaN    36    Current                  NaN      0.12016   \n",
       "2          HR    36  Completed  2009-12-17 00:00:00      0.28269   \n",
       "\n",
       "   BorrowerRate  LenderYield  ...  LP_ServiceFees  LP_CollectionFees  \\\n",
       "0         0.158        0.138  ...         -133.18                0.0   \n",
       "1         0.092        0.082  ...            0.00                0.0   \n",
       "2         0.275        0.240  ...          -24.20                0.0   \n",
       "\n",
       "   LP_GrossPrincipalLoss  LP_NetPrincipalLoss LP_NonPrincipalRecoverypayments  \\\n",
       "0                    0.0                  0.0                             0.0   \n",
       "1                    0.0                  0.0                             0.0   \n",
       "2                    0.0                  0.0                             0.0   \n",
       "\n",
       "   PercentFunded  Recommendations InvestmentFromFriendsCount  \\\n",
       "0            1.0                0                          0   \n",
       "1            1.0                0                          0   \n",
       "2            1.0                0                          0   \n",
       "\n",
       "  InvestmentFromFriendsAmount Investors  \n",
       "0                         0.0       258  \n",
       "1                         0.0         1  \n",
       "2                         0.0        41  \n",
       "\n",
       "[3 rows x 81 columns]"
      ]
     },
     "execution_count": 169,
     "metadata": {},
     "output_type": "execute_result"
    }
   ],
   "source": [
    "df = pd.read_csv('prosperLoanData.csv')\n",
    "df.head(3)"
   ]
  },
  {
   "cell_type": "code",
   "execution_count": 170,
   "metadata": {},
   "outputs": [
    {
     "name": "stdout",
     "output_type": "stream",
     "text": [
      "<class 'pandas.core.frame.DataFrame'>\n",
      "RangeIndex: 113937 entries, 0 to 113936\n",
      "Data columns (total 81 columns):\n",
      " #   Column                               Non-Null Count   Dtype  \n",
      "---  ------                               --------------   -----  \n",
      " 0   ListingKey                           113937 non-null  object \n",
      " 1   ListingNumber                        113937 non-null  int64  \n",
      " 2   ListingCreationDate                  113937 non-null  object \n",
      " 3   CreditGrade                          28953 non-null   object \n",
      " 4   Term                                 113937 non-null  int64  \n",
      " 5   LoanStatus                           113937 non-null  object \n",
      " 6   ClosedDate                           55089 non-null   object \n",
      " 7   BorrowerAPR                          113912 non-null  float64\n",
      " 8   BorrowerRate                         113937 non-null  float64\n",
      " 9   LenderYield                          113937 non-null  float64\n",
      " 10  EstimatedEffectiveYield              84853 non-null   float64\n",
      " 11  EstimatedLoss                        84853 non-null   float64\n",
      " 12  EstimatedReturn                      84853 non-null   float64\n",
      " 13  ProsperRating (numeric)              84853 non-null   float64\n",
      " 14  ProsperRating (Alpha)                84853 non-null   object \n",
      " 15  ProsperScore                         84853 non-null   float64\n",
      " 16  ListingCategory (numeric)            113937 non-null  int64  \n",
      " 17  BorrowerState                        108422 non-null  object \n",
      " 18  Occupation                           110349 non-null  object \n",
      " 19  EmploymentStatus                     111682 non-null  object \n",
      " 20  EmploymentStatusDuration             106312 non-null  float64\n",
      " 21  IsBorrowerHomeowner                  113937 non-null  bool   \n",
      " 22  CurrentlyInGroup                     113937 non-null  bool   \n",
      " 23  GroupKey                             13341 non-null   object \n",
      " 24  DateCreditPulled                     113937 non-null  object \n",
      " 25  CreditScoreRangeLower                113346 non-null  float64\n",
      " 26  CreditScoreRangeUpper                113346 non-null  float64\n",
      " 27  FirstRecordedCreditLine              113240 non-null  object \n",
      " 28  CurrentCreditLines                   106333 non-null  float64\n",
      " 29  OpenCreditLines                      106333 non-null  float64\n",
      " 30  TotalCreditLinespast7years           113240 non-null  float64\n",
      " 31  OpenRevolvingAccounts                113937 non-null  int64  \n",
      " 32  OpenRevolvingMonthlyPayment          113937 non-null  float64\n",
      " 33  InquiriesLast6Months                 113240 non-null  float64\n",
      " 34  TotalInquiries                       112778 non-null  float64\n",
      " 35  CurrentDelinquencies                 113240 non-null  float64\n",
      " 36  AmountDelinquent                     106315 non-null  float64\n",
      " 37  DelinquenciesLast7Years              112947 non-null  float64\n",
      " 38  PublicRecordsLast10Years             113240 non-null  float64\n",
      " 39  PublicRecordsLast12Months            106333 non-null  float64\n",
      " 40  RevolvingCreditBalance               106333 non-null  float64\n",
      " 41  BankcardUtilization                  106333 non-null  float64\n",
      " 42  AvailableBankcardCredit              106393 non-null  float64\n",
      " 43  TotalTrades                          106393 non-null  float64\n",
      " 44  TradesNeverDelinquent (percentage)   106393 non-null  float64\n",
      " 45  TradesOpenedLast6Months              106393 non-null  float64\n",
      " 46  DebtToIncomeRatio                    105383 non-null  float64\n",
      " 47  IncomeRange                          113937 non-null  object \n",
      " 48  IncomeVerifiable                     113937 non-null  bool   \n",
      " 49  StatedMonthlyIncome                  113937 non-null  float64\n",
      " 50  LoanKey                              113937 non-null  object \n",
      " 51  TotalProsperLoans                    22085 non-null   float64\n",
      " 52  TotalProsperPaymentsBilled           22085 non-null   float64\n",
      " 53  OnTimeProsperPayments                22085 non-null   float64\n",
      " 54  ProsperPaymentsLessThanOneMonthLate  22085 non-null   float64\n",
      " 55  ProsperPaymentsOneMonthPlusLate      22085 non-null   float64\n",
      " 56  ProsperPrincipalBorrowed             22085 non-null   float64\n",
      " 57  ProsperPrincipalOutstanding          22085 non-null   float64\n",
      " 58  ScorexChangeAtTimeOfListing          18928 non-null   float64\n",
      " 59  LoanCurrentDaysDelinquent            113937 non-null  int64  \n",
      " 60  LoanFirstDefaultedCycleNumber        16952 non-null   float64\n",
      " 61  LoanMonthsSinceOrigination           113937 non-null  int64  \n",
      " 62  LoanNumber                           113937 non-null  int64  \n",
      " 63  LoanOriginalAmount                   113937 non-null  int64  \n",
      " 64  LoanOriginationDate                  113937 non-null  object \n",
      " 65  LoanOriginationQuarter               113937 non-null  object \n",
      " 66  MemberKey                            113937 non-null  object \n",
      " 67  MonthlyLoanPayment                   113937 non-null  float64\n",
      " 68  LP_CustomerPayments                  113937 non-null  float64\n",
      " 69  LP_CustomerPrincipalPayments         113937 non-null  float64\n",
      " 70  LP_InterestandFees                   113937 non-null  float64\n",
      " 71  LP_ServiceFees                       113937 non-null  float64\n",
      " 72  LP_CollectionFees                    113937 non-null  float64\n",
      " 73  LP_GrossPrincipalLoss                113937 non-null  float64\n",
      " 74  LP_NetPrincipalLoss                  113937 non-null  float64\n",
      " 75  LP_NonPrincipalRecoverypayments      113937 non-null  float64\n",
      " 76  PercentFunded                        113937 non-null  float64\n",
      " 77  Recommendations                      113937 non-null  int64  \n",
      " 78  InvestmentFromFriendsCount           113937 non-null  int64  \n",
      " 79  InvestmentFromFriendsAmount          113937 non-null  float64\n",
      " 80  Investors                            113937 non-null  int64  \n",
      "dtypes: bool(3), float64(50), int64(11), object(17)\n",
      "memory usage: 68.1+ MB\n"
     ]
    }
   ],
   "source": [
    "df.info()"
   ]
  },
  {
   "cell_type": "markdown",
   "metadata": {},
   "source": [
    "## Introduction"
   ]
  },
  {
   "cell_type": "markdown",
   "metadata": {},
   "source": [
    "\n",
    "\n",
    "### What is the structure of your dataset?\n",
    "\n",
    "> This dataset is a .csv file (comma separated values) with eighty columns and approximately 113,937 rows.  Right away I could see there were columns in formats which might not be ideal for analysis, such as ListingCreationDate. This column is an object in the original data.  I would change it to a datetime format for analysis, as well as all other date / time columns, so I could look at changes across time periods.\n",
    "\n",
    "### What is/are the main feature(s) of interest in your dataset?\n",
    "\n",
    "> There are 80 different columns of variables for this loan data.  Some of the data is related to the borrower such as occupation, employment status and duration, public records, and credit scores.  Some of the data is analysis internally completed by Prosper, such as Prosper ratings, estimated yield, estimates for loss and return.  Some of the data is related to the status of the loan.  The data could be separated into smaller tables containing like information.  A table containing only variables relevant to the analysis plan could be made.  \n",
    "\n",
    "### What features in the dataset do you think will help support your investigation into your feature(s) of interest?\n",
    "\n",
    "> I am interested in what the loans were for, and what states the loans were made in.  Further I'd like to look at occupations and interest rates.  Finally, I'd like to see what happened to loans.  Did certain states or occupations have similar features related to repayment or default?"
   ]
  },
  {
   "cell_type": "markdown",
   "metadata": {},
   "source": [
    "## Univariate Exploration\n",
    "\n",
    "> In this section, investigate distributions of individual variables. If\n",
    "you see unusual points or outliers, take a deeper look to clean things up\n",
    "and prepare yourself to look at relationships between variables."
   ]
  },
  {
   "cell_type": "code",
   "execution_count": 171,
   "metadata": {},
   "outputs": [
    {
     "data": {
      "text/plain": [
       "113066"
      ]
     },
     "execution_count": 171,
     "metadata": {},
     "output_type": "execute_result"
    }
   ],
   "source": [
    "# I want to make sure the loan listings are unique\n",
    "df['ListingKey'].nunique()"
   ]
  },
  {
   "cell_type": "code",
   "execution_count": 172,
   "metadata": {},
   "outputs": [
    {
     "data": {
      "text/plain": [
       "ListingKey                     871\n",
       "ListingNumber                  871\n",
       "ListingCreationDate            871\n",
       "CreditGrade                      0\n",
       "Term                           871\n",
       "                              ... \n",
       "PercentFunded                  871\n",
       "Recommendations                871\n",
       "InvestmentFromFriendsCount     871\n",
       "InvestmentFromFriendsAmount    871\n",
       "Investors                      871\n",
       "Length: 81, dtype: int64"
      ]
     },
     "execution_count": 172,
     "metadata": {},
     "output_type": "execute_result"
    }
   ],
   "source": [
    "# I only want to analyze unique loans, so lets look at the duplicates\n",
    "df_key_dups = df[df['ListingKey'].duplicated()==True]\n",
    "df_key_dups.count()"
   ]
  },
  {
   "cell_type": "code",
   "execution_count": 173,
   "metadata": {},
   "outputs": [],
   "source": [
    "# I'm going to make a copy of the dataframe and drop the duplicates\n",
    "df_new = df.copy()\n",
    "##df_new.info()"
   ]
  },
  {
   "cell_type": "code",
   "execution_count": 174,
   "metadata": {},
   "outputs": [
    {
     "name": "stdout",
     "output_type": "stream",
     "text": [
      "<class 'pandas.core.frame.DataFrame'>\n",
      "Int64Index: 112239 entries, 0 to 113936\n",
      "Data columns (total 81 columns):\n",
      " #   Column                               Non-Null Count   Dtype  \n",
      "---  ------                               --------------   -----  \n",
      " 0   ListingKey                           112239 non-null  object \n",
      " 1   ListingNumber                        112239 non-null  int64  \n",
      " 2   ListingCreationDate                  112239 non-null  object \n",
      " 3   CreditGrade                          28953 non-null   object \n",
      " 4   Term                                 112239 non-null  int64  \n",
      " 5   LoanStatus                           112239 non-null  object \n",
      " 6   ClosedDate                           55063 non-null   object \n",
      " 7   BorrowerAPR                          112214 non-null  float64\n",
      " 8   BorrowerRate                         112239 non-null  float64\n",
      " 9   LenderYield                          112239 non-null  float64\n",
      " 10  EstimatedEffectiveYield              83155 non-null   float64\n",
      " 11  EstimatedLoss                        83155 non-null   float64\n",
      " 12  EstimatedReturn                      83155 non-null   float64\n",
      " 13  ProsperRating (numeric)              83155 non-null   float64\n",
      " 14  ProsperRating (Alpha)                83155 non-null   object \n",
      " 15  ProsperScore                         83155 non-null   float64\n",
      " 16  ListingCategory (numeric)            112239 non-null  int64  \n",
      " 17  BorrowerState                        106724 non-null  object \n",
      " 18  Occupation                           108766 non-null  object \n",
      " 19  EmploymentStatus                     109984 non-null  object \n",
      " 20  EmploymentStatusDuration             104614 non-null  float64\n",
      " 21  IsBorrowerHomeowner                  112239 non-null  bool   \n",
      " 22  CurrentlyInGroup                     112239 non-null  bool   \n",
      " 23  GroupKey                             13337 non-null   object \n",
      " 24  DateCreditPulled                     112239 non-null  object \n",
      " 25  CreditScoreRangeLower                111648 non-null  float64\n",
      " 26  CreditScoreRangeUpper                111648 non-null  float64\n",
      " 27  FirstRecordedCreditLine              111542 non-null  object \n",
      " 28  CurrentCreditLines                   104635 non-null  float64\n",
      " 29  OpenCreditLines                      104635 non-null  float64\n",
      " 30  TotalCreditLinespast7years           111542 non-null  float64\n",
      " 31  OpenRevolvingAccounts                112239 non-null  int64  \n",
      " 32  OpenRevolvingMonthlyPayment          112239 non-null  float64\n",
      " 33  InquiriesLast6Months                 111542 non-null  float64\n",
      " 34  TotalInquiries                       111080 non-null  float64\n",
      " 35  CurrentDelinquencies                 111542 non-null  float64\n",
      " 36  AmountDelinquent                     104617 non-null  float64\n",
      " 37  DelinquenciesLast7Years              111249 non-null  float64\n",
      " 38  PublicRecordsLast10Years             111542 non-null  float64\n",
      " 39  PublicRecordsLast12Months            104635 non-null  float64\n",
      " 40  RevolvingCreditBalance               104635 non-null  float64\n",
      " 41  BankcardUtilization                  104635 non-null  float64\n",
      " 42  AvailableBankcardCredit              104695 non-null  float64\n",
      " 43  TotalTrades                          104695 non-null  float64\n",
      " 44  TradesNeverDelinquent (percentage)   104695 non-null  float64\n",
      " 45  TradesOpenedLast6Months              104695 non-null  float64\n",
      " 46  DebtToIncomeRatio                    103846 non-null  float64\n",
      " 47  IncomeRange                          112239 non-null  object \n",
      " 48  IncomeVerifiable                     112239 non-null  bool   \n",
      " 49  StatedMonthlyIncome                  112239 non-null  float64\n",
      " 50  LoanKey                              112239 non-null  object \n",
      " 51  TotalProsperLoans                    21767 non-null   float64\n",
      " 52  TotalProsperPaymentsBilled           21767 non-null   float64\n",
      " 53  OnTimeProsperPayments                21767 non-null   float64\n",
      " 54  ProsperPaymentsLessThanOneMonthLate  21767 non-null   float64\n",
      " 55  ProsperPaymentsOneMonthPlusLate      21767 non-null   float64\n",
      " 56  ProsperPrincipalBorrowed             21767 non-null   float64\n",
      " 57  ProsperPrincipalOutstanding          21767 non-null   float64\n",
      " 58  ScorexChangeAtTimeOfListing          18896 non-null   float64\n",
      " 59  LoanCurrentDaysDelinquent            112239 non-null  int64  \n",
      " 60  LoanFirstDefaultedCycleNumber        16952 non-null   float64\n",
      " 61  LoanMonthsSinceOrigination           112239 non-null  int64  \n",
      " 62  LoanNumber                           112239 non-null  int64  \n",
      " 63  LoanOriginalAmount                   112239 non-null  int64  \n",
      " 64  LoanOriginationDate                  112239 non-null  object \n",
      " 65  LoanOriginationQuarter               112239 non-null  object \n",
      " 66  MemberKey                            112239 non-null  object \n",
      " 67  MonthlyLoanPayment                   112239 non-null  float64\n",
      " 68  LP_CustomerPayments                  112239 non-null  float64\n",
      " 69  LP_CustomerPrincipalPayments         112239 non-null  float64\n",
      " 70  LP_InterestandFees                   112239 non-null  float64\n",
      " 71  LP_ServiceFees                       112239 non-null  float64\n",
      " 72  LP_CollectionFees                    112239 non-null  float64\n",
      " 73  LP_GrossPrincipalLoss                112239 non-null  float64\n",
      " 74  LP_NetPrincipalLoss                  112239 non-null  float64\n",
      " 75  LP_NonPrincipalRecoverypayments      112239 non-null  float64\n",
      " 76  PercentFunded                        112239 non-null  float64\n",
      " 77  Recommendations                      112239 non-null  int64  \n",
      " 78  InvestmentFromFriendsCount           112239 non-null  int64  \n",
      " 79  InvestmentFromFriendsAmount          112239 non-null  float64\n",
      " 80  Investors                            112239 non-null  int64  \n",
      "dtypes: bool(3), float64(50), int64(11), object(17)\n",
      "memory usage: 68.0+ MB\n"
     ]
    }
   ],
   "source": [
    "#Drop the duplicates in 'ListingKey' and then check the row totals\n",
    "df_new.drop_duplicates(subset=['ListingNumber'], keep=False, inplace=True)\n",
    "df_new.info()"
   ]
  },
  {
   "cell_type": "code",
   "execution_count": 175,
   "metadata": {},
   "outputs": [],
   "source": [
    "# import the pandas datetimefunction\n",
    "import datetime\n",
    "# Change the date columns to date time format\n",
    "df_new['DateCreditPulled']=pd.to_datetime(df_new['DateCreditPulled'])\n",
    "df_new['ListingCreationDate']=pd.to_datetime(df_new['ListingCreationDate'])\n",
    "df_new['LoanOriginationDate']=pd.to_datetime(df_new['LoanOriginationDate'])\n",
    "df_new['ClosedDate']=pd.to_datetime(df_new['ClosedDate'])"
   ]
  },
  {
   "cell_type": "code",
   "execution_count": 176,
   "metadata": {},
   "outputs": [
    {
     "data": {
      "text/plain": [
       "(Timestamp('2005-11-09 20:44:28.847000'),\n",
       " Timestamp('2014-03-10 12:20:53.760000'))"
      ]
     },
     "execution_count": 176,
     "metadata": {},
     "output_type": "execute_result"
    }
   ],
   "source": [
    "# Get the start and end dates for the loan listing creation data\n",
    "df_new['ListingCreationDate'].min(),df_new['ListingCreationDate'].max()"
   ]
  },
  {
   "cell_type": "code",
   "execution_count": 177,
   "metadata": {},
   "outputs": [
    {
     "data": {
      "text/plain": [
       "(Timestamp('2005-11-15 00:00:00'), Timestamp('2014-03-12 00:00:00'))"
      ]
     },
     "execution_count": 177,
     "metadata": {},
     "output_type": "execute_result"
    }
   ],
   "source": [
    "# Get the start and end dates for the loan origination data\n",
    "df_new['LoanOriginationDate'].min(),df_new['LoanOriginationDate'].max()"
   ]
  },
  {
   "cell_type": "code",
   "execution_count": 178,
   "metadata": {},
   "outputs": [
    {
     "data": {
      "text/plain": [
       "(Timestamp('2005-11-25 00:00:00'), Timestamp('2014-03-10 00:00:00'))"
      ]
     },
     "execution_count": 178,
     "metadata": {},
     "output_type": "execute_result"
    }
   ],
   "source": [
    "# Get the start and end dates for the loan closed date\n",
    "df_new['ClosedDate'].min(),df_new['ClosedDate'].max()"
   ]
  },
  {
   "cell_type": "code",
   "execution_count": 179,
   "metadata": {},
   "outputs": [
    {
     "data": {
      "text/html": [
       "<div>\n",
       "<style scoped>\n",
       "    .dataframe tbody tr th:only-of-type {\n",
       "        vertical-align: middle;\n",
       "    }\n",
       "\n",
       "    .dataframe tbody tr th {\n",
       "        vertical-align: top;\n",
       "    }\n",
       "\n",
       "    .dataframe thead th {\n",
       "        text-align: right;\n",
       "    }\n",
       "</style>\n",
       "<table border=\"1\" class=\"dataframe\">\n",
       "  <thead>\n",
       "    <tr style=\"text-align: right;\">\n",
       "      <th></th>\n",
       "      <th>BorrowerState</th>\n",
       "      <th>count</th>\n",
       "    </tr>\n",
       "  </thead>\n",
       "  <tbody>\n",
       "    <tr>\n",
       "      <th>4</th>\n",
       "      <td>CA</td>\n",
       "      <td>14717</td>\n",
       "    </tr>\n",
       "    <tr>\n",
       "      <th>43</th>\n",
       "      <td>TX</td>\n",
       "      <td>6842</td>\n",
       "    </tr>\n",
       "    <tr>\n",
       "      <th>34</th>\n",
       "      <td>NY</td>\n",
       "      <td>6729</td>\n",
       "    </tr>\n",
       "    <tr>\n",
       "      <th>9</th>\n",
       "      <td>FL</td>\n",
       "      <td>6720</td>\n",
       "    </tr>\n",
       "    <tr>\n",
       "      <th>14</th>\n",
       "      <td>IL</td>\n",
       "      <td>5921</td>\n",
       "    </tr>\n",
       "    <tr>\n",
       "      <th>10</th>\n",
       "      <td>GA</td>\n",
       "      <td>5008</td>\n",
       "    </tr>\n",
       "    <tr>\n",
       "      <th>35</th>\n",
       "      <td>OH</td>\n",
       "      <td>4197</td>\n",
       "    </tr>\n",
       "    <tr>\n",
       "      <th>22</th>\n",
       "      <td>MI</td>\n",
       "      <td>3593</td>\n",
       "    </tr>\n",
       "    <tr>\n",
       "      <th>45</th>\n",
       "      <td>VA</td>\n",
       "      <td>3278</td>\n",
       "    </tr>\n",
       "    <tr>\n",
       "      <th>31</th>\n",
       "      <td>NJ</td>\n",
       "      <td>3097</td>\n",
       "    </tr>\n",
       "    <tr>\n",
       "      <th>27</th>\n",
       "      <td>NC</td>\n",
       "      <td>3084</td>\n",
       "    </tr>\n",
       "    <tr>\n",
       "      <th>47</th>\n",
       "      <td>WA</td>\n",
       "      <td>3048</td>\n",
       "    </tr>\n",
       "    <tr>\n",
       "      <th>38</th>\n",
       "      <td>PA</td>\n",
       "      <td>2972</td>\n",
       "    </tr>\n",
       "    <tr>\n",
       "      <th>20</th>\n",
       "      <td>MD</td>\n",
       "      <td>2821</td>\n",
       "    </tr>\n",
       "    <tr>\n",
       "      <th>24</th>\n",
       "      <td>MO</td>\n",
       "      <td>2615</td>\n",
       "    </tr>\n",
       "    <tr>\n",
       "      <th>23</th>\n",
       "      <td>MN</td>\n",
       "      <td>2318</td>\n",
       "    </tr>\n",
       "    <tr>\n",
       "      <th>19</th>\n",
       "      <td>MA</td>\n",
       "      <td>2242</td>\n",
       "    </tr>\n",
       "    <tr>\n",
       "      <th>5</th>\n",
       "      <td>CO</td>\n",
       "      <td>2210</td>\n",
       "    </tr>\n",
       "    <tr>\n",
       "      <th>15</th>\n",
       "      <td>IN</td>\n",
       "      <td>2078</td>\n",
       "    </tr>\n",
       "    <tr>\n",
       "      <th>3</th>\n",
       "      <td>AZ</td>\n",
       "      <td>1901</td>\n",
       "    </tr>\n",
       "    <tr>\n",
       "      <th>48</th>\n",
       "      <td>WI</td>\n",
       "      <td>1842</td>\n",
       "    </tr>\n",
       "    <tr>\n",
       "      <th>37</th>\n",
       "      <td>OR</td>\n",
       "      <td>1817</td>\n",
       "    </tr>\n",
       "    <tr>\n",
       "      <th>42</th>\n",
       "      <td>TN</td>\n",
       "      <td>1737</td>\n",
       "    </tr>\n",
       "    <tr>\n",
       "      <th>1</th>\n",
       "      <td>AL</td>\n",
       "      <td>1679</td>\n",
       "    </tr>\n",
       "    <tr>\n",
       "      <th>6</th>\n",
       "      <td>CT</td>\n",
       "      <td>1627</td>\n",
       "    </tr>\n",
       "    <tr>\n",
       "      <th>40</th>\n",
       "      <td>SC</td>\n",
       "      <td>1122</td>\n",
       "    </tr>\n",
       "    <tr>\n",
       "      <th>33</th>\n",
       "      <td>NV</td>\n",
       "      <td>1090</td>\n",
       "    </tr>\n",
       "    <tr>\n",
       "      <th>16</th>\n",
       "      <td>KS</td>\n",
       "      <td>1062</td>\n",
       "    </tr>\n",
       "    <tr>\n",
       "      <th>17</th>\n",
       "      <td>KY</td>\n",
       "      <td>983</td>\n",
       "    </tr>\n",
       "    <tr>\n",
       "      <th>36</th>\n",
       "      <td>OK</td>\n",
       "      <td>971</td>\n",
       "    </tr>\n",
       "    <tr>\n",
       "      <th>18</th>\n",
       "      <td>LA</td>\n",
       "      <td>954</td>\n",
       "    </tr>\n",
       "    <tr>\n",
       "      <th>44</th>\n",
       "      <td>UT</td>\n",
       "      <td>877</td>\n",
       "    </tr>\n",
       "    <tr>\n",
       "      <th>2</th>\n",
       "      <td>AR</td>\n",
       "      <td>855</td>\n",
       "    </tr>\n",
       "    <tr>\n",
       "      <th>25</th>\n",
       "      <td>MS</td>\n",
       "      <td>787</td>\n",
       "    </tr>\n",
       "    <tr>\n",
       "      <th>29</th>\n",
       "      <td>NE</td>\n",
       "      <td>674</td>\n",
       "    </tr>\n",
       "    <tr>\n",
       "      <th>13</th>\n",
       "      <td>ID</td>\n",
       "      <td>599</td>\n",
       "    </tr>\n",
       "    <tr>\n",
       "      <th>30</th>\n",
       "      <td>NH</td>\n",
       "      <td>551</td>\n",
       "    </tr>\n",
       "    <tr>\n",
       "      <th>32</th>\n",
       "      <td>NM</td>\n",
       "      <td>472</td>\n",
       "    </tr>\n",
       "    <tr>\n",
       "      <th>39</th>\n",
       "      <td>RI</td>\n",
       "      <td>435</td>\n",
       "    </tr>\n",
       "    <tr>\n",
       "      <th>11</th>\n",
       "      <td>HI</td>\n",
       "      <td>409</td>\n",
       "    </tr>\n",
       "    <tr>\n",
       "      <th>49</th>\n",
       "      <td>WV</td>\n",
       "      <td>391</td>\n",
       "    </tr>\n",
       "    <tr>\n",
       "      <th>7</th>\n",
       "      <td>DC</td>\n",
       "      <td>382</td>\n",
       "    </tr>\n",
       "    <tr>\n",
       "      <th>26</th>\n",
       "      <td>MT</td>\n",
       "      <td>330</td>\n",
       "    </tr>\n",
       "    <tr>\n",
       "      <th>8</th>\n",
       "      <td>DE</td>\n",
       "      <td>300</td>\n",
       "    </tr>\n",
       "    <tr>\n",
       "      <th>46</th>\n",
       "      <td>VT</td>\n",
       "      <td>207</td>\n",
       "    </tr>\n",
       "    <tr>\n",
       "      <th>0</th>\n",
       "      <td>AK</td>\n",
       "      <td>200</td>\n",
       "    </tr>\n",
       "    <tr>\n",
       "      <th>41</th>\n",
       "      <td>SD</td>\n",
       "      <td>189</td>\n",
       "    </tr>\n",
       "    <tr>\n",
       "      <th>12</th>\n",
       "      <td>IA</td>\n",
       "      <td>186</td>\n",
       "    </tr>\n",
       "    <tr>\n",
       "      <th>50</th>\n",
       "      <td>WY</td>\n",
       "      <td>150</td>\n",
       "    </tr>\n",
       "    <tr>\n",
       "      <th>21</th>\n",
       "      <td>ME</td>\n",
       "      <td>101</td>\n",
       "    </tr>\n",
       "    <tr>\n",
       "      <th>28</th>\n",
       "      <td>ND</td>\n",
       "      <td>52</td>\n",
       "    </tr>\n",
       "  </tbody>\n",
       "</table>\n",
       "</div>"
      ],
      "text/plain": [
       "   BorrowerState  count\n",
       "4             CA  14717\n",
       "43            TX   6842\n",
       "34            NY   6729\n",
       "9             FL   6720\n",
       "14            IL   5921\n",
       "10            GA   5008\n",
       "35            OH   4197\n",
       "22            MI   3593\n",
       "45            VA   3278\n",
       "31            NJ   3097\n",
       "27            NC   3084\n",
       "47            WA   3048\n",
       "38            PA   2972\n",
       "20            MD   2821\n",
       "24            MO   2615\n",
       "23            MN   2318\n",
       "19            MA   2242\n",
       "5             CO   2210\n",
       "15            IN   2078\n",
       "3             AZ   1901\n",
       "48            WI   1842\n",
       "37            OR   1817\n",
       "42            TN   1737\n",
       "1             AL   1679\n",
       "6             CT   1627\n",
       "40            SC   1122\n",
       "33            NV   1090\n",
       "16            KS   1062\n",
       "17            KY    983\n",
       "36            OK    971\n",
       "18            LA    954\n",
       "44            UT    877\n",
       "2             AR    855\n",
       "25            MS    787\n",
       "29            NE    674\n",
       "13            ID    599\n",
       "30            NH    551\n",
       "32            NM    472\n",
       "39            RI    435\n",
       "11            HI    409\n",
       "49            WV    391\n",
       "7             DC    382\n",
       "26            MT    330\n",
       "8             DE    300\n",
       "46            VT    207\n",
       "0             AK    200\n",
       "41            SD    189\n",
       "12            IA    186\n",
       "50            WY    150\n",
       "21            ME    101\n",
       "28            ND     52"
      ]
     },
     "execution_count": 179,
     "metadata": {},
     "output_type": "execute_result"
    }
   ],
   "source": [
    "# I used groupby to look at the loan listings per state\n",
    "state_df = df.groupby(\"BorrowerState\")['ListingKey'].count().reset_index(name='count').sort_values(by=['count'], ascending=False)\n",
    "state_df"
   ]
  },
  {
   "cell_type": "markdown",
   "metadata": {},
   "source": [
    "> The loans by state analysis is sorted in descending order, showing California had the most amount of loans, and North Dakota had the fewest.  States could be divided into regions for analysis."
   ]
  },
  {
   "cell_type": "code",
   "execution_count": 180,
   "metadata": {},
   "outputs": [
    {
     "data": {
      "text/plain": [
       "112239"
      ]
     },
     "execution_count": 180,
     "metadata": {},
     "output_type": "execute_result"
    }
   ],
   "source": [
    "\n",
    "# Checking to see that all 'ListingKey' values are unique\n",
    "df_new['ListingKey'].nunique()"
   ]
  },
  {
   "cell_type": "code",
   "execution_count": 181,
   "metadata": {},
   "outputs": [
    {
     "data": {
      "text/plain": [
       "40.77203111218026"
      ]
     },
     "execution_count": 181,
     "metadata": {},
     "output_type": "execute_result"
    }
   ],
   "source": [
    "# Let's see what the average loan length is\n",
    "df_new['Term'].mean()"
   ]
  },
  {
   "cell_type": "code",
   "execution_count": 182,
   "metadata": {},
   "outputs": [
    {
     "data": {
      "text/plain": [
       "(12, 60)"
      ]
     },
     "execution_count": 182,
     "metadata": {},
     "output_type": "execute_result"
    }
   ],
   "source": [
    "# Let's get the min and max loan lengths\n",
    "df_new['Term'].min(), df_new['Term'].max()"
   ]
  },
  {
   "cell_type": "code",
   "execution_count": 183,
   "metadata": {},
   "outputs": [],
   "source": [
    "# Add a copy of the new csv file to the project\n",
    "# df_new.to_csv('New-Prospect-DF.csv')"
   ]
  },
  {
   "cell_type": "markdown",
   "metadata": {},
   "source": [
    "## Graph-1"
   ]
  },
  {
   "cell_type": "markdown",
   "metadata": {},
   "source": [
    "[Loans by State Histogram ](#Introduction) <a Introduction =\"Introduction\"> </a>"
   ]
  },
  {
   "cell_type": "code",
   "execution_count": 184,
   "metadata": {},
   "outputs": [
    {
     "data": {
      "text/plain": [
       "<AxesSubplot:>"
      ]
     },
     "execution_count": 184,
     "metadata": {},
     "output_type": "execute_result"
    },
    {
     "data": {
      "image/png": "[encoded data removed]",
      "text/plain": [
       "<Figure size 1296x576 with 1 Axes>"
      ]
     },
     "metadata": {
      "needs_background": "light"
     },
     "output_type": "display_data"
    }
   ],
   "source": [
    "# I made a histogram to see which states had the most loans and which had the least amount of loans\n",
    "df_new['BorrowerState'].hist(figsize=(18,8))"
   ]
  },
  {
   "cell_type": "markdown",
   "metadata": {},
   "source": [
    "### State Histogram\n",
    "> The histogram shows the five states with the most amount of loans are California, Maryland, Alabama, Arizona and Virgina.  The five states with the least amount of loans are Maine, Alaska, Iowa, South Dakota and North Dakota.  The number of loans per state could be analyzed by geographic region instead of state, however, I am interested in occupation so I don't want to analyze by geographic region at this time."
   ]
  },
  {
   "cell_type": "code",
   "execution_count": 185,
   "metadata": {},
   "outputs": [
    {
     "data": {
      "text/html": [
       "<div>\n",
       "<style scoped>\n",
       "    .dataframe tbody tr th:only-of-type {\n",
       "        vertical-align: middle;\n",
       "    }\n",
       "\n",
       "    .dataframe tbody tr th {\n",
       "        vertical-align: top;\n",
       "    }\n",
       "\n",
       "    .dataframe thead th {\n",
       "        text-align: right;\n",
       "    }\n",
       "</style>\n",
       "<table border=\"1\" class=\"dataframe\">\n",
       "  <thead>\n",
       "    <tr style=\"text-align: right;\">\n",
       "      <th></th>\n",
       "      <th>Occupation</th>\n",
       "      <th>count</th>\n",
       "    </tr>\n",
       "  </thead>\n",
       "  <tbody>\n",
       "    <tr>\n",
       "      <th>35</th>\n",
       "      <td>Other</td>\n",
       "      <td>28617</td>\n",
       "    </tr>\n",
       "    <tr>\n",
       "      <th>41</th>\n",
       "      <td>Professional</td>\n",
       "      <td>13628</td>\n",
       "    </tr>\n",
       "    <tr>\n",
       "      <th>12</th>\n",
       "      <td>Computer Programmer</td>\n",
       "      <td>4478</td>\n",
       "    </tr>\n",
       "    <tr>\n",
       "      <th>19</th>\n",
       "      <td>Executive</td>\n",
       "      <td>4311</td>\n",
       "    </tr>\n",
       "    <tr>\n",
       "      <th>59</th>\n",
       "      <td>Teacher</td>\n",
       "      <td>3759</td>\n",
       "    </tr>\n",
       "    <tr>\n",
       "      <th>1</th>\n",
       "      <td>Administrative Assistant</td>\n",
       "      <td>3688</td>\n",
       "    </tr>\n",
       "    <tr>\n",
       "      <th>2</th>\n",
       "      <td>Analyst</td>\n",
       "      <td>3602</td>\n",
       "    </tr>\n",
       "    <tr>\n",
       "      <th>47</th>\n",
       "      <td>Sales - Commission</td>\n",
       "      <td>3446</td>\n",
       "    </tr>\n",
       "    <tr>\n",
       "      <th>0</th>\n",
       "      <td>Accountant/CPA</td>\n",
       "      <td>3233</td>\n",
       "    </tr>\n",
       "    <tr>\n",
       "      <th>11</th>\n",
       "      <td>Clerical</td>\n",
       "      <td>3164</td>\n",
       "    </tr>\n",
       "  </tbody>\n",
       "</table>\n",
       "</div>"
      ],
      "text/plain": [
       "                  Occupation  count\n",
       "35                     Other  28617\n",
       "41              Professional  13628\n",
       "12       Computer Programmer   4478\n",
       "19                 Executive   4311\n",
       "59                   Teacher   3759\n",
       "1   Administrative Assistant   3688\n",
       "2                    Analyst   3602\n",
       "47        Sales - Commission   3446\n",
       "0             Accountant/CPA   3233\n",
       "11                  Clerical   3164"
      ]
     },
     "execution_count": 185,
     "metadata": {},
     "output_type": "execute_result"
    }
   ],
   "source": [
    "# The occupations and number of loans associated with each occupation #https://stackoverflow.com/questions/40454030/count-and-sort-with-pandas\n",
    "occupation_df = df.groupby(\"Occupation\")['ListingKey'].count().reset_index(name='count').sort_values(by=['count'], ascending=False).head(10)\n",
    "occupation_df"
   ]
  },
  {
   "cell_type": "markdown",
   "metadata": {},
   "source": [
    "> Make sure that, after every plot or related series of plots, that you\n",
    "include a Markdown cell with comments about what you observed, and what\n",
    "you plan on investigating next."
   ]
  },
  {
   "cell_type": "code",
   "execution_count": 186,
   "metadata": {},
   "outputs": [
    {
     "data": {
      "text/html": [
       "<div>\n",
       "<style scoped>\n",
       "    .dataframe tbody tr th:only-of-type {\n",
       "        vertical-align: middle;\n",
       "    }\n",
       "\n",
       "    .dataframe tbody tr th {\n",
       "        vertical-align: top;\n",
       "    }\n",
       "\n",
       "    .dataframe thead th {\n",
       "        text-align: right;\n",
       "    }\n",
       "</style>\n",
       "<table border=\"1\" class=\"dataframe\">\n",
       "  <thead>\n",
       "    <tr style=\"text-align: right;\">\n",
       "      <th></th>\n",
       "      <th>BorrowerState</th>\n",
       "      <th>Occupation</th>\n",
       "      <th>AmountDelinquent</th>\n",
       "    </tr>\n",
       "  </thead>\n",
       "  <tbody>\n",
       "    <tr>\n",
       "      <th>297</th>\n",
       "      <td>DE</td>\n",
       "      <td>Nurse (RN)</td>\n",
       "      <td>166266.500000</td>\n",
       "    </tr>\n",
       "    <tr>\n",
       "      <th>1099</th>\n",
       "      <td>NJ</td>\n",
       "      <td>Tradesman - Carpenter</td>\n",
       "      <td>165097.000000</td>\n",
       "    </tr>\n",
       "    <tr>\n",
       "      <th>152</th>\n",
       "      <td>CA</td>\n",
       "      <td>Investor</td>\n",
       "      <td>132306.000000</td>\n",
       "    </tr>\n",
       "    <tr>\n",
       "      <th>1384</th>\n",
       "      <td>RI</td>\n",
       "      <td>Pharmacist</td>\n",
       "      <td>131303.833333</td>\n",
       "    </tr>\n",
       "    <tr>\n",
       "      <th>1065</th>\n",
       "      <td>NJ</td>\n",
       "      <td>Bus Driver</td>\n",
       "      <td>113205.000000</td>\n",
       "    </tr>\n",
       "    <tr>\n",
       "      <th>290</th>\n",
       "      <td>DE</td>\n",
       "      <td>Bus Driver</td>\n",
       "      <td>106156.000000</td>\n",
       "    </tr>\n",
       "    <tr>\n",
       "      <th>1102</th>\n",
       "      <td>NJ</td>\n",
       "      <td>Tradesman - Plumber</td>\n",
       "      <td>103709.000000</td>\n",
       "    </tr>\n",
       "    <tr>\n",
       "      <th>681</th>\n",
       "      <td>MA</td>\n",
       "      <td>Food Service</td>\n",
       "      <td>91984.500000</td>\n",
       "    </tr>\n",
       "    <tr>\n",
       "      <th>23</th>\n",
       "      <td>AL</td>\n",
       "      <td>Doctor</td>\n",
       "      <td>87795.000000</td>\n",
       "    </tr>\n",
       "    <tr>\n",
       "      <th>1054</th>\n",
       "      <td>NH</td>\n",
       "      <td>Professor</td>\n",
       "      <td>84933.000000</td>\n",
       "    </tr>\n",
       "  </tbody>\n",
       "</table>\n",
       "</div>"
      ],
      "text/plain": [
       "     BorrowerState             Occupation  AmountDelinquent\n",
       "297             DE             Nurse (RN)     166266.500000\n",
       "1099            NJ  Tradesman - Carpenter     165097.000000\n",
       "152             CA               Investor     132306.000000\n",
       "1384            RI             Pharmacist     131303.833333\n",
       "1065            NJ             Bus Driver     113205.000000\n",
       "290             DE             Bus Driver     106156.000000\n",
       "1102            NJ    Tradesman - Plumber     103709.000000\n",
       "681             MA           Food Service      91984.500000\n",
       "23              AL                 Doctor      87795.000000\n",
       "1054            NH              Professor      84933.000000"
      ]
     },
     "execution_count": 186,
     "metadata": {},
     "output_type": "execute_result"
    }
   ],
   "source": [
    "# I wanted to see which borrowers states and occupations had the greatest amounts delinquent. I didn't see any obvious correlations here.\n",
    "df_delinquent = df_new[df_new['AmountDelinquent'] >0].groupby(['BorrowerState','Occupation'], as_index=False)['AmountDelinquent'].mean().sort_values(by='AmountDelinquent',ascending=False).head(10)\n",
    "df_delinquent"
   ]
  },
  {
   "cell_type": "code",
   "execution_count": 187,
   "metadata": {},
   "outputs": [
    {
     "data": {
      "text/plain": [
       "ListingKey                     8508\n",
       "ListingNumber                  8508\n",
       "ListingCreationDate            8508\n",
       "CreditGrade                    1325\n",
       "Term                           8508\n",
       "                               ... \n",
       "PercentFunded                  8508\n",
       "Recommendations                8508\n",
       "InvestmentFromFriendsCount     8508\n",
       "InvestmentFromFriendsAmount    8508\n",
       "Investors                      8508\n",
       "Length: 81, dtype: int64"
      ]
     },
     "execution_count": 187,
     "metadata": {},
     "output_type": "execute_result"
    }
   ],
   "source": [
    "# I noticed there was a column for whether or not the person had verifiable income. \n",
    "# I was surprised to see Prosper gave loans to people who didn't have verifiable income\n",
    "df_new.query('IncomeVerifiable == False').count()"
   ]
  },
  {
   "cell_type": "code",
   "execution_count": 188,
   "metadata": {},
   "outputs": [
    {
     "data": {
      "text/plain": [
       "count    112239.000000\n",
       "mean          2.779159\n",
       "std           3.999273\n",
       "min           0.000000\n",
       "25%           1.000000\n",
       "50%           1.000000\n",
       "75%           3.000000\n",
       "max          20.000000\n",
       "Name: ListingCategory (numeric), dtype: float64"
      ]
     },
     "execution_count": 188,
     "metadata": {},
     "output_type": "execute_result"
    }
   ],
   "source": [
    "# Let's look at the Listing Category data\n",
    "df_new['ListingCategory (numeric)'].describe()"
   ]
  },
  {
   "cell_type": "code",
   "execution_count": 189,
   "metadata": {},
   "outputs": [],
   "source": [
    "# I'm going to rename this column Listing Category because it uses parentheses\n",
    "df_new.rename(columns = {'ListingCategory (numeric)': 'Listing_Category'}, inplace = True)"
   ]
  },
  {
   "cell_type": "code",
   "execution_count": 190,
   "metadata": {},
   "outputs": [
    {
     "name": "stdout",
     "output_type": "stream",
     "text": [
      "<class 'pandas.core.frame.DataFrame'>\n",
      "Int64Index: 112239 entries, 0 to 113936\n",
      "Data columns (total 81 columns):\n",
      " #   Column                               Non-Null Count   Dtype         \n",
      "---  ------                               --------------   -----         \n",
      " 0   ListingKey                           112239 non-null  object        \n",
      " 1   ListingNumber                        112239 non-null  int64         \n",
      " 2   ListingCreationDate                  112239 non-null  datetime64[ns]\n",
      " 3   CreditGrade                          28953 non-null   object        \n",
      " 4   Term                                 112239 non-null  int64         \n",
      " 5   LoanStatus                           112239 non-null  object        \n",
      " 6   ClosedDate                           55063 non-null   datetime64[ns]\n",
      " 7   BorrowerAPR                          112214 non-null  float64       \n",
      " 8   BorrowerRate                         112239 non-null  float64       \n",
      " 9   LenderYield                          112239 non-null  float64       \n",
      " 10  EstimatedEffectiveYield              83155 non-null   float64       \n",
      " 11  EstimatedLoss                        83155 non-null   float64       \n",
      " 12  EstimatedReturn                      83155 non-null   float64       \n",
      " 13  ProsperRating (numeric)              83155 non-null   float64       \n",
      " 14  ProsperRating (Alpha)                83155 non-null   object        \n",
      " 15  ProsperScore                         83155 non-null   float64       \n",
      " 16  Listing_Category                     112239 non-null  int64         \n",
      " 17  BorrowerState                        106724 non-null  object        \n",
      " 18  Occupation                           108766 non-null  object        \n",
      " 19  EmploymentStatus                     109984 non-null  object        \n",
      " 20  EmploymentStatusDuration             104614 non-null  float64       \n",
      " 21  IsBorrowerHomeowner                  112239 non-null  bool          \n",
      " 22  CurrentlyInGroup                     112239 non-null  bool          \n",
      " 23  GroupKey                             13337 non-null   object        \n",
      " 24  DateCreditPulled                     112239 non-null  datetime64[ns]\n",
      " 25  CreditScoreRangeLower                111648 non-null  float64       \n",
      " 26  CreditScoreRangeUpper                111648 non-null  float64       \n",
      " 27  FirstRecordedCreditLine              111542 non-null  object        \n",
      " 28  CurrentCreditLines                   104635 non-null  float64       \n",
      " 29  OpenCreditLines                      104635 non-null  float64       \n",
      " 30  TotalCreditLinespast7years           111542 non-null  float64       \n",
      " 31  OpenRevolvingAccounts                112239 non-null  int64         \n",
      " 32  OpenRevolvingMonthlyPayment          112239 non-null  float64       \n",
      " 33  InquiriesLast6Months                 111542 non-null  float64       \n",
      " 34  TotalInquiries                       111080 non-null  float64       \n",
      " 35  CurrentDelinquencies                 111542 non-null  float64       \n",
      " 36  AmountDelinquent                     104617 non-null  float64       \n",
      " 37  DelinquenciesLast7Years              111249 non-null  float64       \n",
      " 38  PublicRecordsLast10Years             111542 non-null  float64       \n",
      " 39  PublicRecordsLast12Months            104635 non-null  float64       \n",
      " 40  RevolvingCreditBalance               104635 non-null  float64       \n",
      " 41  BankcardUtilization                  104635 non-null  float64       \n",
      " 42  AvailableBankcardCredit              104695 non-null  float64       \n",
      " 43  TotalTrades                          104695 non-null  float64       \n",
      " 44  TradesNeverDelinquent (percentage)   104695 non-null  float64       \n",
      " 45  TradesOpenedLast6Months              104695 non-null  float64       \n",
      " 46  DebtToIncomeRatio                    103846 non-null  float64       \n",
      " 47  IncomeRange                          112239 non-null  object        \n",
      " 48  IncomeVerifiable                     112239 non-null  bool          \n",
      " 49  StatedMonthlyIncome                  112239 non-null  float64       \n",
      " 50  LoanKey                              112239 non-null  object        \n",
      " 51  TotalProsperLoans                    21767 non-null   float64       \n",
      " 52  TotalProsperPaymentsBilled           21767 non-null   float64       \n",
      " 53  OnTimeProsperPayments                21767 non-null   float64       \n",
      " 54  ProsperPaymentsLessThanOneMonthLate  21767 non-null   float64       \n",
      " 55  ProsperPaymentsOneMonthPlusLate      21767 non-null   float64       \n",
      " 56  ProsperPrincipalBorrowed             21767 non-null   float64       \n",
      " 57  ProsperPrincipalOutstanding          21767 non-null   float64       \n",
      " 58  ScorexChangeAtTimeOfListing          18896 non-null   float64       \n",
      " 59  LoanCurrentDaysDelinquent            112239 non-null  int64         \n",
      " 60  LoanFirstDefaultedCycleNumber        16952 non-null   float64       \n",
      " 61  LoanMonthsSinceOrigination           112239 non-null  int64         \n",
      " 62  LoanNumber                           112239 non-null  int64         \n",
      " 63  LoanOriginalAmount                   112239 non-null  int64         \n",
      " 64  LoanOriginationDate                  112239 non-null  datetime64[ns]\n",
      " 65  LoanOriginationQuarter               112239 non-null  object        \n",
      " 66  MemberKey                            112239 non-null  object        \n",
      " 67  MonthlyLoanPayment                   112239 non-null  float64       \n",
      " 68  LP_CustomerPayments                  112239 non-null  float64       \n",
      " 69  LP_CustomerPrincipalPayments         112239 non-null  float64       \n",
      " 70  LP_InterestandFees                   112239 non-null  float64       \n",
      " 71  LP_ServiceFees                       112239 non-null  float64       \n",
      " 72  LP_CollectionFees                    112239 non-null  float64       \n",
      " 73  LP_GrossPrincipalLoss                112239 non-null  float64       \n",
      " 74  LP_NetPrincipalLoss                  112239 non-null  float64       \n",
      " 75  LP_NonPrincipalRecoverypayments      112239 non-null  float64       \n",
      " 76  PercentFunded                        112239 non-null  float64       \n",
      " 77  Recommendations                      112239 non-null  int64         \n",
      " 78  InvestmentFromFriendsCount           112239 non-null  int64         \n",
      " 79  InvestmentFromFriendsAmount          112239 non-null  float64       \n",
      " 80  Investors                            112239 non-null  int64         \n",
      "dtypes: bool(3), datetime64[ns](4), float64(50), int64(11), object(13)\n",
      "memory usage: 68.0+ MB\n"
     ]
    }
   ],
   "source": [
    "# Check the renaming code\n",
    "df_new.info()"
   ]
  },
  {
   "cell_type": "code",
   "execution_count": 191,
   "metadata": {},
   "outputs": [
    {
     "data": {
      "text/plain": [
       "1     56977\n",
       "0     16965\n",
       "7     10403\n",
       "2      7345\n",
       "3      7127\n",
       "6      2564\n",
       "4      2395\n",
       "13     1978\n",
       "15     1493\n",
       "18      879\n",
       "14      851\n",
       "19      760\n",
       "5       756\n",
       "20      753\n",
       "16      304\n",
       "11      211\n",
       "8       193\n",
       "10       91\n",
       "9        85\n",
       "12       57\n",
       "17       52\n",
       "Name: Listing_Category, dtype: int64"
      ]
     },
     "execution_count": 191,
     "metadata": {},
     "output_type": "execute_result"
    }
   ],
   "source": [
    "df_new['Listing_Category'].value_counts()"
   ]
  },
  {
   "cell_type": "markdown",
   "metadata": {},
   "source": [
    "## Graph-2"
   ]
  },
  {
   "cell_type": "markdown",
   "metadata": {},
   "source": [
    "[Loans by Category Bar Chart](#Introduction) <a Introduction =\"Introduction\"> </a>"
   ]
  },
  {
   "cell_type": "code",
   "execution_count": 192,
   "metadata": {},
   "outputs": [
    {
     "data": {
      "image/png": "[encoded data removed]",
      "text/plain": [
       "<Figure size 864x432 with 1 Axes>"
      ]
     },
     "metadata": {
      "needs_background": "light"
     },
     "output_type": "display_data"
    }
   ],
   "source": [
    "# A bar chart of the loan listing category to see which loan type was most popular\n",
    "df_new['Listing_Category'].value_counts().plot(kind='bar',figsize=(12,6));"
   ]
  },
  {
   "cell_type": "markdown",
   "metadata": {},
   "source": [
    "### Listing Category Bar Chart\n",
    "> The category '1 - Debt Consolidation' was the most common reason sought a loan.\n",
    "\n",
    ">Listing Category Key: \n",
    "> 0 - Not Available, 1 - Debt Consolidation, 2 - Home Improvement, 3 - Business, 4 - Personal Loan, 5 - Student Use, 6 - Auto, 7- Other, 8 - Baby&Adoption, 9 - Boat, 10 - Cosmetic Procedure, 11 - Engagement Ring, 12 - Green Loans, 13 - Household Expenses, 14 - Large Purchases, 15 - Medical/Dental, 16 - Motorcycle, 17 - RV, 18 - Taxes, 19 - Vacation, 20 - Wedding Loans"
   ]
  },
  {
   "cell_type": "code",
   "execution_count": 193,
   "metadata": {},
   "outputs": [
    {
     "data": {
      "text/plain": [
       "Current                   54928\n",
       "Completed                 38048\n",
       "Chargedoff                11992\n",
       "Defaulted                  5018\n",
       "Past Due (1-15 days)        794\n",
       "Past Due (31-60 days)       359\n",
       "Past Due (61-90 days)       309\n",
       "Past Due (91-120 days)      304\n",
       "Past Due (16-30 days)       265\n",
       "FinalPaymentInProgress      201\n",
       "Past Due (>120 days)         16\n",
       "Cancelled                     5\n",
       "Name: LoanStatus, dtype: int64"
      ]
     },
     "execution_count": 193,
     "metadata": {},
     "output_type": "execute_result"
    }
   ],
   "source": [
    "# Let's look at the value counts for the loan status\n",
    "df_new['LoanStatus'].value_counts()"
   ]
  },
  {
   "cell_type": "code",
   "execution_count": 194,
   "metadata": {},
   "outputs": [
    {
     "data": {
      "text/plain": [
       "92976"
      ]
     },
     "execution_count": 194,
     "metadata": {},
     "output_type": "execute_result"
    }
   ],
   "source": [
    "# Total completed and current loans\n",
    "df_new['ListingKey'][df_new['LoanStatus'] == 'Current'].count()+df_new['ListingKey'][df_new['LoanStatus'] == 'Completed'].count()"
   ]
  },
  {
   "cell_type": "code",
   "execution_count": 195,
   "metadata": {},
   "outputs": [
    {
     "data": {
      "text/plain": [
       "112239"
      ]
     },
     "execution_count": 195,
     "metadata": {},
     "output_type": "execute_result"
    }
   ],
   "source": [
    "# Total amount of non-duplicated loans\n",
    "df_new['LoanStatus'].count()"
   ]
  },
  {
   "cell_type": "code",
   "execution_count": 196,
   "metadata": {},
   "outputs": [
    {
     "data": {
      "text/plain": [
       "0.8283751637131478"
      ]
     },
     "execution_count": 196,
     "metadata": {},
     "output_type": "execute_result"
    }
   ],
   "source": [
    "# Percentage of loans complete or current\n",
    "(df_new['ListingKey'][df_new['LoanStatus'] == 'Current'].count()+df_new['ListingKey'][df_new['LoanStatus'] == 'Completed'].count())/df_new['LoanStatus'].count()"
   ]
  },
  {
   "cell_type": "code",
   "execution_count": 197,
   "metadata": {},
   "outputs": [
    {
     "data": {
      "text/plain": [
       "0.4893842603729541"
      ]
     },
     "execution_count": 197,
     "metadata": {},
     "output_type": "execute_result"
    }
   ],
   "source": [
    "# Percentage of total loans which are current\n",
    "df_new['ListingKey'][df_new['LoanStatus'] == 'Current'].count()/df_new['LoanStatus'].count()"
   ]
  },
  {
   "cell_type": "code",
   "execution_count": 198,
   "metadata": {},
   "outputs": [
    {
     "data": {
      "text/plain": [
       "54928"
      ]
     },
     "execution_count": 198,
     "metadata": {},
     "output_type": "execute_result"
    }
   ],
   "source": [
    "# Number of current loans\n",
    "df_new['ListingKey'][df_new['LoanStatus'] == 'Current'].count()"
   ]
  },
  {
   "cell_type": "code",
   "execution_count": 199,
   "metadata": {},
   "outputs": [
    {
     "data": {
      "text/plain": [
       "57176"
      ]
     },
     "execution_count": 199,
     "metadata": {},
     "output_type": "execute_result"
    }
   ],
   "source": [
    "# Number of loans still in process\n",
    "active_loans = df_new['LoanStatus'].count()-df_new['ListingKey'][df_new['LoanStatus'] == 'Completed'].count()-df_new['ListingKey'][df_new['LoanStatus'] == 'Chargedoff'].count()-df_new['ListingKey'][df_new['LoanStatus'] == 'Defaulted'].count()-df_new['ListingKey'][df_new['LoanStatus'] == 'Cancelled'].count()\n",
    "active_loans"
   ]
  },
  {
   "cell_type": "code",
   "execution_count": 200,
   "metadata": {},
   "outputs": [
    {
     "data": {
      "text/plain": [
       "17015"
      ]
     },
     "execution_count": 200,
     "metadata": {},
     "output_type": "execute_result"
    }
   ],
   "source": [
    "# Number of loans defaulted, charged-off, or cancelled\n",
    "dead_loans = df_new['ListingKey'][df_new['LoanStatus'] == 'Chargedoff'].count()+df_new['ListingKey'][df_new['LoanStatus'] == 'Defaulted'].count()+df_new['ListingKey'][df_new['LoanStatus'] == 'Cancelled'].count()\n",
    "dead_loans"
   ]
  },
  {
   "cell_type": "code",
   "execution_count": 201,
   "metadata": {},
   "outputs": [
    {
     "data": {
      "text/plain": [
       "0.1515961475066599"
      ]
     },
     "execution_count": 201,
     "metadata": {},
     "output_type": "execute_result"
    }
   ],
   "source": [
    "# Percentage of dead loans compared to the total number of loans\n",
    "dead_loans / df_new['LoanStatus'].count()"
   ]
  },
  {
   "cell_type": "markdown",
   "metadata": {},
   "source": [
    "## Graph-3"
   ]
  },
  {
   "cell_type": "markdown",
   "metadata": {},
   "source": [
    "[Loan Status Histogram](#Introduction) <a Introduction =\"Introduction\"> </a>"
   ]
  },
  {
   "cell_type": "code",
   "execution_count": 202,
   "metadata": {},
   "outputs": [
    {
     "data": {
      "text/plain": [
       "<AxesSubplot:>"
      ]
     },
     "execution_count": 202,
     "metadata": {},
     "output_type": "execute_result"
    },
    {
     "data": {
      "image/png": "[encoded data removed]",
      "text/plain": [
       "<Figure size 1728x576 with 1 Axes>"
      ]
     },
     "metadata": {
      "needs_background": "light"
     },
     "output_type": "display_data"
    }
   ],
   "source": [
    "\n",
    "# Histogram of the loan status\n",
    "df_new['LoanStatus'].hist(figsize=(24,8))"
   ]
  },
  {
   "cell_type": "markdown",
   "metadata": {},
   "source": [
    "### Histogram of the loan status\n",
    "\n",
    "> The histogram shows the majority of the total loans were completed or current.  Analysis could be done based on past, 'Defaulted', 'Chargedoff','Cancelled', or 'Past Due...' data to predict the probability of default for current loans.  At the time of this data collection by Prosper, there was a potential for 57,176 loans to go into default and about 15% of the total number of loans given by Prosper were either charge-offs, defaulted ot cancelled. Analyzing the default probability of the loans at periodic intervals woud be something I would like to see as an investor."
   ]
  },
  {
   "cell_type": "markdown",
   "metadata": {},
   "source": [
    "### Discuss the distribution(s) of your variable(s) of interest. Were there any unusual points? Did you need to perform any transformations?\n",
    "\n",
    "> The top occupation was 'Other', and the second highest value for the reason for obtaining the loan was 'Not Available'.  I would like to see if these features correlate with any losses. Also, incomplete or vague data doesn't look good in an investment report. \n",
    "\n",
    "> Prosper gave loans to people without verifiable income.  This surprised me. \n",
    "\n",
    "> I would like to see which states, occupations or time periods correlated with the losses and see if these variables or other variables like Prosper rating would be useful in predicting future losses.\n",
    "\n",
    "### Of the features you investigated, were there any unusual distributions? Did you perform any operations on the data to tidy, adjust, or change the form of the data? If so, why did you do this?\n",
    "\n",
    "> I changed the date columns to a datetime format so I could put the losses in a chart to see if one year between 2005 and 2014 was significant compared to the others in future analysis.  Doing this also allowed me to get a date range.  I also removed duplicated rows of data. "
   ]
  },
  {
   "cell_type": "markdown",
   "metadata": {},
   "source": [
    "## Bivariate Exploration\n",
    "\n",
    "> The bivariate exploration section below looks at the relationships between state, occupation, and loan category on defaulted loans.  Comparing the variables here will help me see what is going on with the loans in this data set from a humanistic stand point.  I could make histograms of all the numeric columns but sometimes a humanistic view of the data is helpful in finding underlying patterns which might not be obvious in the numeric columns.\n",
    "\n",
    "> I am adding a 'Listing_Creation_Year' column to look at variables across years. Are the default rates proportionate across states? Occupations? Years?"
   ]
  },
  {
   "cell_type": "code",
   "execution_count": 203,
   "metadata": {},
   "outputs": [
    {
     "data": {
      "text/plain": [
       "0    2007\n",
       "1    2014\n",
       "2    2007\n",
       "3    2012\n",
       "4    2013\n",
       "Name: Listing_Creation_Year, dtype: int64"
      ]
     },
     "execution_count": 203,
     "metadata": {},
     "output_type": "execute_result"
    }
   ],
   "source": [
    "# This code creates a year column so I can look at the defaulted loans by year\n",
    "df_new['Listing_Creation_Year']=df_new['ListingCreationDate'].dt.year\n",
    "\n",
    "# Check the new column to see if the years are there\n",
    "df_new['Listing_Creation_Year'].head()"
   ]
  },
  {
   "cell_type": "code",
   "execution_count": 204,
   "metadata": {},
   "outputs": [
    {
     "data": {
      "text/plain": [
       "2013    34204\n",
       "2012    19556\n",
       "2007    11557\n",
       "2011    11442\n",
       "2008    11263\n",
       "2014    10245\n",
       "2006     6213\n",
       "2010     5530\n",
       "2009     2206\n",
       "2005       23\n",
       "Name: Listing_Creation_Year, dtype: int64"
      ]
     },
     "execution_count": 204,
     "metadata": {},
     "output_type": "execute_result"
    }
   ],
   "source": [
    "# This codes shows the number of loans created per year\n",
    "df_new['Listing_Creation_Year'].value_counts()"
   ]
  },
  {
   "cell_type": "markdown",
   "metadata": {},
   "source": [
    "## Graph-4"
   ]
  },
  {
   "cell_type": "markdown",
   "metadata": {},
   "source": [
    "[Loans per Year Histogram](#Introduction) <a Introduction =\"Introduction\"> </a>"
   ]
  },
  {
   "cell_type": "code",
   "execution_count": 205,
   "metadata": {},
   "outputs": [
    {
     "data": {
      "text/plain": [
       "<AxesSubplot:>"
      ]
     },
     "execution_count": 205,
     "metadata": {},
     "output_type": "execute_result"
    },
    {
     "data": {
      "image/png": "[encoded data removed]",
      "text/plain": [
       "<Figure size 432x288 with 1 Axes>"
      ]
     },
     "metadata": {
      "needs_background": "light"
     },
     "output_type": "display_data"
    }
   ],
   "source": [
    "# The histogram below shows the number of loans per year\n",
    "df_new['Listing_Creation_Year'].hist()"
   ]
  },
  {
   "cell_type": "markdown",
   "metadata": {},
   "source": [
    "> The histogram above is showing loans per year by creation date.  It appears most of the Prosper loans were created in between 2012 and 2014.  The least amount of loans were created in 2009."
   ]
  },
  {
   "cell_type": "markdown",
   "metadata": {},
   "source": [
    "## Graph-5"
   ]
  },
  {
   "cell_type": "markdown",
   "metadata": {},
   "source": [
    "[Defaulted Loans per Year Histogram](#Introduction) <a Introduction =\"Introduction\"> </a>"
   ]
  },
  {
   "cell_type": "code",
   "execution_count": 206,
   "metadata": {},
   "outputs": [
    {
     "data": {
      "text/plain": [
       "<AxesSubplot:>"
      ]
     },
     "execution_count": 206,
     "metadata": {},
     "output_type": "execute_result"
    },
    {
     "data": {
      "image/png": "[encoded data removed]",
      "text/plain": [
       "<Figure size 432x288 with 1 Axes>"
      ]
     },
     "metadata": {
      "needs_background": "light"
     },
     "output_type": "display_data"
    }
   ],
   "source": [
    "# This histogram below shows the number of defaulted loans per year, \n",
    "df_defaulted = df_new.query('LoanStatus == \"Defaulted\"')\n",
    "df_defaulted['Listing_Creation_Year'].hist() \n"
   ]
  },
  {
   "cell_type": "markdown",
   "metadata": {},
   "source": [
    "> The histogram above shows most of the defaulted loans created were in the years between 2006 and 2008. "
   ]
  },
  {
   "cell_type": "markdown",
   "metadata": {},
   "source": [
    "## Graph-6"
   ]
  },
  {
   "cell_type": "markdown",
   "metadata": {},
   "source": [
    "[Top 10 Occupations Defaulted Loans Histogram](#Introduction) <a Introduction =\"Introduction\"> </a>"
   ]
  },
  {
   "cell_type": "code",
   "execution_count": 207,
   "metadata": {},
   "outputs": [
    {
     "data": {
      "text/plain": [
       "<AxesSubplot:>"
      ]
     },
     "execution_count": 207,
     "metadata": {},
     "output_type": "execute_result"
    },
    {
     "data": {
      "image/png": "[encoded data removed]",
      "text/plain": [
       "<Figure size 1728x432 with 1 Axes>"
      ]
     },
     "metadata": {
      "needs_background": "light"
     },
     "output_type": "display_data"
    }
   ],
   "source": [
    "# Value counts for the Listing Category on defaulted loan\n",
    "df_defaulted['Occupation'].value_counts().nlargest(10).plot(kind='bar', figsize=(24,6))\n",
    "\n"
   ]
  },
  {
   "cell_type": "markdown",
   "metadata": {},
   "source": [
    "> The 'Other' category is the most popular occupation for defaulted loans. "
   ]
  },
  {
   "cell_type": "markdown",
   "metadata": {},
   "source": [
    "## Graph-7"
   ]
  },
  {
   "cell_type": "markdown",
   "metadata": {},
   "source": [
    "[Top 10 Loan Categories Defaulted Loans Histogram](#Introduction) <a Introduction =\"Introduction\"> </a>"
   ]
  },
  {
   "cell_type": "code",
   "execution_count": 208,
   "metadata": {},
   "outputs": [
    {
     "data": {
      "image/png": "[encoded data removed]",
      "text/plain": [
       "<Figure size 864x432 with 1 Axes>"
      ]
     },
     "metadata": {
      "needs_background": "light"
     },
     "output_type": "display_data"
    }
   ],
   "source": [
    "# A bar chart of the defaulted loan listing category to see which loan type was most popular\n",
    "df_defaulted['Listing_Category'].value_counts().plot(kind='bar',figsize=(12,6));"
   ]
  },
  {
   "cell_type": "markdown",
   "metadata": {},
   "source": [
    "> Here you can see  the most common loan category for defaulted loans is \"Not Available\".\n",
    "\n",
    ">Listing Category Key: \n",
    "> 0 - Not Available, 1 - Debt Consolidation, 2 - Home Improvement, 3 - Business, 4 - Personal Loan, 5 - Student Use, 6 - Auto, 7- Other, 8 - Baby&Adoption, 9 - Boat, 10 - Cosmetic Procedure, 11 - Engagement Ring, 12 - Green Loans, 13 - Household Expenses, 14 - Large Purchases, 15 - Medical/Dental, 16 - Motorcycle, 17 - RV, 18 - Taxes, 19 - Vacation, 20 - Wedding Loans"
   ]
  },
  {
   "cell_type": "code",
   "execution_count": 209,
   "metadata": {},
   "outputs": [
    {
     "data": {
      "text/html": [
       "<div>\n",
       "<style scoped>\n",
       "    .dataframe tbody tr th:only-of-type {\n",
       "        vertical-align: middle;\n",
       "    }\n",
       "\n",
       "    .dataframe tbody tr th {\n",
       "        vertical-align: top;\n",
       "    }\n",
       "\n",
       "    .dataframe thead th {\n",
       "        text-align: right;\n",
       "    }\n",
       "</style>\n",
       "<table border=\"1\" class=\"dataframe\">\n",
       "  <thead>\n",
       "    <tr style=\"text-align: right;\">\n",
       "      <th></th>\n",
       "      <th>BorrowerState</th>\n",
       "      <th>count</th>\n",
       "    </tr>\n",
       "  </thead>\n",
       "  <tbody>\n",
       "    <tr>\n",
       "      <th>4</th>\n",
       "      <td>CA</td>\n",
       "      <td>732</td>\n",
       "    </tr>\n",
       "    <tr>\n",
       "      <th>10</th>\n",
       "      <td>GA</td>\n",
       "      <td>343</td>\n",
       "    </tr>\n",
       "    <tr>\n",
       "      <th>43</th>\n",
       "      <td>TX</td>\n",
       "      <td>342</td>\n",
       "    </tr>\n",
       "    <tr>\n",
       "      <th>14</th>\n",
       "      <td>IL</td>\n",
       "      <td>337</td>\n",
       "    </tr>\n",
       "    <tr>\n",
       "      <th>9</th>\n",
       "      <td>FL</td>\n",
       "      <td>222</td>\n",
       "    </tr>\n",
       "    <tr>\n",
       "      <th>22</th>\n",
       "      <td>MI</td>\n",
       "      <td>199</td>\n",
       "    </tr>\n",
       "    <tr>\n",
       "      <th>24</th>\n",
       "      <td>MO</td>\n",
       "      <td>193</td>\n",
       "    </tr>\n",
       "    <tr>\n",
       "      <th>47</th>\n",
       "      <td>WA</td>\n",
       "      <td>158</td>\n",
       "    </tr>\n",
       "    <tr>\n",
       "      <th>35</th>\n",
       "      <td>OH</td>\n",
       "      <td>151</td>\n",
       "    </tr>\n",
       "    <tr>\n",
       "      <th>1</th>\n",
       "      <td>AL</td>\n",
       "      <td>122</td>\n",
       "    </tr>\n",
       "    <tr>\n",
       "      <th>34</th>\n",
       "      <td>NY</td>\n",
       "      <td>121</td>\n",
       "    </tr>\n",
       "    <tr>\n",
       "      <th>23</th>\n",
       "      <td>MN</td>\n",
       "      <td>105</td>\n",
       "    </tr>\n",
       "    <tr>\n",
       "      <th>37</th>\n",
       "      <td>OR</td>\n",
       "      <td>101</td>\n",
       "    </tr>\n",
       "    <tr>\n",
       "      <th>3</th>\n",
       "      <td>AZ</td>\n",
       "      <td>94</td>\n",
       "    </tr>\n",
       "    <tr>\n",
       "      <th>20</th>\n",
       "      <td>MD</td>\n",
       "      <td>91</td>\n",
       "    </tr>\n",
       "    <tr>\n",
       "      <th>27</th>\n",
       "      <td>NC</td>\n",
       "      <td>78</td>\n",
       "    </tr>\n",
       "    <tr>\n",
       "      <th>45</th>\n",
       "      <td>VA</td>\n",
       "      <td>76</td>\n",
       "    </tr>\n",
       "    <tr>\n",
       "      <th>5</th>\n",
       "      <td>CO</td>\n",
       "      <td>73</td>\n",
       "    </tr>\n",
       "    <tr>\n",
       "      <th>31</th>\n",
       "      <td>NJ</td>\n",
       "      <td>72</td>\n",
       "    </tr>\n",
       "    <tr>\n",
       "      <th>15</th>\n",
       "      <td>IN</td>\n",
       "      <td>67</td>\n",
       "    </tr>\n",
       "    <tr>\n",
       "      <th>38</th>\n",
       "      <td>PA</td>\n",
       "      <td>67</td>\n",
       "    </tr>\n",
       "    <tr>\n",
       "      <th>44</th>\n",
       "      <td>UT</td>\n",
       "      <td>66</td>\n",
       "    </tr>\n",
       "    <tr>\n",
       "      <th>48</th>\n",
       "      <td>WI</td>\n",
       "      <td>60</td>\n",
       "    </tr>\n",
       "    <tr>\n",
       "      <th>19</th>\n",
       "      <td>MA</td>\n",
       "      <td>59</td>\n",
       "    </tr>\n",
       "    <tr>\n",
       "      <th>16</th>\n",
       "      <td>KS</td>\n",
       "      <td>49</td>\n",
       "    </tr>\n",
       "    <tr>\n",
       "      <th>42</th>\n",
       "      <td>TN</td>\n",
       "      <td>46</td>\n",
       "    </tr>\n",
       "    <tr>\n",
       "      <th>13</th>\n",
       "      <td>ID</td>\n",
       "      <td>39</td>\n",
       "    </tr>\n",
       "    <tr>\n",
       "      <th>36</th>\n",
       "      <td>OK</td>\n",
       "      <td>33</td>\n",
       "    </tr>\n",
       "    <tr>\n",
       "      <th>32</th>\n",
       "      <td>NM</td>\n",
       "      <td>30</td>\n",
       "    </tr>\n",
       "    <tr>\n",
       "      <th>6</th>\n",
       "      <td>CT</td>\n",
       "      <td>29</td>\n",
       "    </tr>\n",
       "    <tr>\n",
       "      <th>18</th>\n",
       "      <td>LA</td>\n",
       "      <td>25</td>\n",
       "    </tr>\n",
       "    <tr>\n",
       "      <th>12</th>\n",
       "      <td>IA</td>\n",
       "      <td>23</td>\n",
       "    </tr>\n",
       "    <tr>\n",
       "      <th>30</th>\n",
       "      <td>NH</td>\n",
       "      <td>23</td>\n",
       "    </tr>\n",
       "    <tr>\n",
       "      <th>25</th>\n",
       "      <td>MS</td>\n",
       "      <td>22</td>\n",
       "    </tr>\n",
       "    <tr>\n",
       "      <th>26</th>\n",
       "      <td>MT</td>\n",
       "      <td>22</td>\n",
       "    </tr>\n",
       "    <tr>\n",
       "      <th>17</th>\n",
       "      <td>KY</td>\n",
       "      <td>19</td>\n",
       "    </tr>\n",
       "    <tr>\n",
       "      <th>33</th>\n",
       "      <td>NV</td>\n",
       "      <td>18</td>\n",
       "    </tr>\n",
       "    <tr>\n",
       "      <th>39</th>\n",
       "      <td>RI</td>\n",
       "      <td>18</td>\n",
       "    </tr>\n",
       "    <tr>\n",
       "      <th>49</th>\n",
       "      <td>WV</td>\n",
       "      <td>16</td>\n",
       "    </tr>\n",
       "    <tr>\n",
       "      <th>29</th>\n",
       "      <td>NE</td>\n",
       "      <td>15</td>\n",
       "    </tr>\n",
       "    <tr>\n",
       "      <th>2</th>\n",
       "      <td>AR</td>\n",
       "      <td>12</td>\n",
       "    </tr>\n",
       "    <tr>\n",
       "      <th>40</th>\n",
       "      <td>SC</td>\n",
       "      <td>10</td>\n",
       "    </tr>\n",
       "    <tr>\n",
       "      <th>11</th>\n",
       "      <td>HI</td>\n",
       "      <td>8</td>\n",
       "    </tr>\n",
       "    <tr>\n",
       "      <th>28</th>\n",
       "      <td>ND</td>\n",
       "      <td>7</td>\n",
       "    </tr>\n",
       "    <tr>\n",
       "      <th>8</th>\n",
       "      <td>DE</td>\n",
       "      <td>7</td>\n",
       "    </tr>\n",
       "    <tr>\n",
       "      <th>41</th>\n",
       "      <td>SD</td>\n",
       "      <td>6</td>\n",
       "    </tr>\n",
       "    <tr>\n",
       "      <th>7</th>\n",
       "      <td>DC</td>\n",
       "      <td>6</td>\n",
       "    </tr>\n",
       "    <tr>\n",
       "      <th>46</th>\n",
       "      <td>VT</td>\n",
       "      <td>5</td>\n",
       "    </tr>\n",
       "    <tr>\n",
       "      <th>21</th>\n",
       "      <td>ME</td>\n",
       "      <td>5</td>\n",
       "    </tr>\n",
       "    <tr>\n",
       "      <th>50</th>\n",
       "      <td>WY</td>\n",
       "      <td>4</td>\n",
       "    </tr>\n",
       "    <tr>\n",
       "      <th>0</th>\n",
       "      <td>AK</td>\n",
       "      <td>3</td>\n",
       "    </tr>\n",
       "  </tbody>\n",
       "</table>\n",
       "</div>"
      ],
      "text/plain": [
       "   BorrowerState  count\n",
       "4             CA    732\n",
       "10            GA    343\n",
       "43            TX    342\n",
       "14            IL    337\n",
       "9             FL    222\n",
       "22            MI    199\n",
       "24            MO    193\n",
       "47            WA    158\n",
       "35            OH    151\n",
       "1             AL    122\n",
       "34            NY    121\n",
       "23            MN    105\n",
       "37            OR    101\n",
       "3             AZ     94\n",
       "20            MD     91\n",
       "27            NC     78\n",
       "45            VA     76\n",
       "5             CO     73\n",
       "31            NJ     72\n",
       "15            IN     67\n",
       "38            PA     67\n",
       "44            UT     66\n",
       "48            WI     60\n",
       "19            MA     59\n",
       "16            KS     49\n",
       "42            TN     46\n",
       "13            ID     39\n",
       "36            OK     33\n",
       "32            NM     30\n",
       "6             CT     29\n",
       "18            LA     25\n",
       "12            IA     23\n",
       "30            NH     23\n",
       "25            MS     22\n",
       "26            MT     22\n",
       "17            KY     19\n",
       "33            NV     18\n",
       "39            RI     18\n",
       "49            WV     16\n",
       "29            NE     15\n",
       "2             AR     12\n",
       "40            SC     10\n",
       "11            HI      8\n",
       "28            ND      7\n",
       "8             DE      7\n",
       "41            SD      6\n",
       "7             DC      6\n",
       "46            VT      5\n",
       "21            ME      5\n",
       "50            WY      4\n",
       "0             AK      3"
      ]
     },
     "execution_count": 209,
     "metadata": {},
     "output_type": "execute_result"
    }
   ],
   "source": [
    "# I used groupby to look at the defaulted loan listings per state\n",
    "state_df_defaulted = df_defaulted.groupby(\"BorrowerState\")['ListingKey'].count().reset_index(name='count').sort_values(by=['count'], ascending=False)\n",
    "state_df_defaulted"
   ]
  },
  {
   "cell_type": "markdown",
   "metadata": {},
   "source": [
    "## Graph-8"
   ]
  },
  {
   "cell_type": "markdown",
   "metadata": {},
   "source": [
    "[Defaulted Loans by State Histogram](#Introduction) <a Introduction =\"Introduction\"> </a>"
   ]
  },
  {
   "cell_type": "code",
   "execution_count": 210,
   "metadata": {},
   "outputs": [
    {
     "data": {
      "text/plain": [
       "<AxesSubplot:>"
      ]
     },
     "execution_count": 210,
     "metadata": {},
     "output_type": "execute_result"
    },
    {
     "data": {
      "image/png": "[encoded data removed]",
      "text/plain": [
       "<Figure size 1728x432 with 1 Axes>"
      ]
     },
     "metadata": {
      "needs_background": "light"
     },
     "output_type": "display_data"
    }
   ],
   "source": [
    "df_defaulted['BorrowerState'].hist(figsize=(24,6))"
   ]
  },
  {
   "cell_type": "markdown",
   "metadata": {},
   "source": [
    "> The histogram above shows me that I could look at the default rates by state to see which states had higher default rates.  At a glance, Missouri and Georgia seem to have higher default rates than some other states. We could definitely explore this aspect in more depth."
   ]
  },
  {
   "cell_type": "code",
   "execution_count": 211,
   "metadata": {},
   "outputs": [
    {
     "data": {
      "text/plain": [
       "36.841769629334394"
      ]
     },
     "execution_count": 211,
     "metadata": {},
     "output_type": "execute_result"
    }
   ],
   "source": [
    "# The max term for the loans are 60 months, or 5 years.  \n",
    "# The term for defaulted loans isn't much less than the average term for all of the loans.\n",
    "\n",
    "df_defaulted['Term'].mean()"
   ]
  },
  {
   "cell_type": "code",
   "execution_count": 212,
   "metadata": {},
   "outputs": [
    {
     "data": {
      "text/plain": [
       "0.0505524861878453"
      ]
     },
     "execution_count": 212,
     "metadata": {},
     "output_type": "execute_result"
    }
   ],
   "source": [
    "# Default rate for California\n",
    "df_defaulted.query('BorrowerState == \"CA\"').BorrowerState.count()/df_new.query('BorrowerState == \"CA\"').BorrowerState.count()"
   ]
  },
  {
   "cell_type": "code",
   "execution_count": 213,
   "metadata": {},
   "outputs": [
    {
     "data": {
      "text/plain": [
       "0.044708167392795733"
      ]
     },
     "execution_count": 213,
     "metadata": {},
     "output_type": "execute_result"
    }
   ],
   "source": [
    "# Average default rate for all loans\n",
    "df_new.query('LoanStatus == \"Defaulted\"').LoanStatus.count()/df_new['LoanStatus'].count()"
   ]
  },
  {
   "cell_type": "code",
   "execution_count": 214,
   "metadata": {},
   "outputs": [
    {
     "data": {
      "text/plain": [
       "0.06936299292214358"
      ]
     },
     "execution_count": 214,
     "metadata": {},
     "output_type": "execute_result"
    }
   ],
   "source": [
    "# Let's look at the default rate for Georgia\n",
    "df_defaulted.query('BorrowerState == \"GA\"').BorrowerState.count()/df_new.query('BorrowerState == \"GA\"').BorrowerState.count()"
   ]
  },
  {
   "cell_type": "code",
   "execution_count": 215,
   "metadata": {},
   "outputs": [
    {
     "data": {
      "text/plain": [
       "0.050809686525033426"
      ]
     },
     "execution_count": 215,
     "metadata": {},
     "output_type": "execute_result"
    }
   ],
   "source": [
    "# Let's look at the default rate for Texas\n",
    "df_defaulted.query('BorrowerState == \"TX\"').BorrowerState.count()/df_new.query('BorrowerState == \"TX\"').BorrowerState.count()"
   ]
  },
  {
   "cell_type": "code",
   "execution_count": 216,
   "metadata": {},
   "outputs": [
    {
     "data": {
      "text/plain": [
       "0.07477721813250678"
      ]
     },
     "execution_count": 216,
     "metadata": {},
     "output_type": "execute_result"
    }
   ],
   "source": [
    "# Let's look at the default rate for Missouri\n",
    "df_defaulted.query('BorrowerState == \"MO\"').BorrowerState.count()/df_new.query('BorrowerState == \"MO\"').BorrowerState.count()"
   ]
  },
  {
   "cell_type": "code",
   "execution_count": 217,
   "metadata": {},
   "outputs": [
    {
     "data": {
      "text/plain": [
       "0.033640552995391704"
      ]
     },
     "execution_count": 217,
     "metadata": {},
     "output_type": "execute_result"
    }
   ],
   "source": [
    "# Let's look at the default rate for Colorado\n",
    "df_defaulted.query('BorrowerState == \"CO\"').BorrowerState.count()/df_new.query('BorrowerState == \"CO\"').BorrowerState.count()"
   ]
  },
  {
   "cell_type": "markdown",
   "metadata": {},
   "source": [
    "### Talk about some of the relationships you observed in this part of the investigation. How did the feature(s) of interest vary with other features in the dataset?\n",
    "\n",
    "> The occupations listed as 'Other' and loans in the category of 'Not Available' had higher rates of default. \n",
    "\n",
    "> Missouri and Georgia seemed to have higher default rates than other states.  Where was this company located?  It looks like there were a lack of standards in some of the loan requirements contributing to higher default rates. \n",
    "\n",
    "### Did you observe any interesting relationships between the other features (not the main feature(s) of interest)?\n",
    "\n",
    "> It appears most of the Prosper loans were created in between 2012 and 2014.  The least amount of loans were created in 2009. The histogram above shows most of the defaulted loans created were in the years between 2006 and 2008. \n",
    "\n",
    "> The average loan length was 40.77 and the average loan length for defaulted loans was 36.84.  This difference didn't seem significant to me overall, as something which might predict a default on a loan."
   ]
  },
  {
   "cell_type": "markdown",
   "metadata": {},
   "source": [
    "## Multivariate Exploration\n",
    "\n",
    "> Create plots of three or more variables to investigate your data even\n",
    "further. Make sure that your investigations are justified, and follow from\n",
    "your work in the previous sections.\n",
    "\n",
    "> "
   ]
  },
  {
   "cell_type": "code",
   "execution_count": 218,
   "metadata": {},
   "outputs": [
    {
     "data": {
      "text/plain": [
       "['ListingKey',\n",
       " 'ListingNumber',\n",
       " 'ListingCreationDate',\n",
       " 'CreditGrade',\n",
       " 'Term',\n",
       " 'LoanStatus',\n",
       " 'ClosedDate',\n",
       " 'BorrowerAPR',\n",
       " 'BorrowerRate',\n",
       " 'LenderYield',\n",
       " 'EstimatedEffectiveYield',\n",
       " 'EstimatedLoss',\n",
       " 'EstimatedReturn',\n",
       " 'ProsperRating (numeric)',\n",
       " 'ProsperRating (Alpha)',\n",
       " 'ProsperScore',\n",
       " 'Listing_Category',\n",
       " 'BorrowerState',\n",
       " 'Occupation',\n",
       " 'EmploymentStatus',\n",
       " 'EmploymentStatusDuration',\n",
       " 'IsBorrowerHomeowner',\n",
       " 'CurrentlyInGroup',\n",
       " 'GroupKey',\n",
       " 'DateCreditPulled',\n",
       " 'CreditScoreRangeLower',\n",
       " 'CreditScoreRangeUpper',\n",
       " 'FirstRecordedCreditLine',\n",
       " 'CurrentCreditLines',\n",
       " 'OpenCreditLines',\n",
       " 'TotalCreditLinespast7years',\n",
       " 'OpenRevolvingAccounts',\n",
       " 'OpenRevolvingMonthlyPayment',\n",
       " 'InquiriesLast6Months',\n",
       " 'TotalInquiries',\n",
       " 'CurrentDelinquencies',\n",
       " 'AmountDelinquent',\n",
       " 'DelinquenciesLast7Years',\n",
       " 'PublicRecordsLast10Years',\n",
       " 'PublicRecordsLast12Months',\n",
       " 'RevolvingCreditBalance',\n",
       " 'BankcardUtilization',\n",
       " 'AvailableBankcardCredit',\n",
       " 'TotalTrades',\n",
       " 'TradesNeverDelinquent (percentage)',\n",
       " 'TradesOpenedLast6Months',\n",
       " 'DebtToIncomeRatio',\n",
       " 'IncomeRange',\n",
       " 'IncomeVerifiable',\n",
       " 'StatedMonthlyIncome',\n",
       " 'LoanKey',\n",
       " 'TotalProsperLoans',\n",
       " 'TotalProsperPaymentsBilled',\n",
       " 'OnTimeProsperPayments',\n",
       " 'ProsperPaymentsLessThanOneMonthLate',\n",
       " 'ProsperPaymentsOneMonthPlusLate',\n",
       " 'ProsperPrincipalBorrowed',\n",
       " 'ProsperPrincipalOutstanding',\n",
       " 'ScorexChangeAtTimeOfListing',\n",
       " 'LoanCurrentDaysDelinquent',\n",
       " 'LoanFirstDefaultedCycleNumber',\n",
       " 'LoanMonthsSinceOrigination',\n",
       " 'LoanNumber',\n",
       " 'LoanOriginalAmount',\n",
       " 'LoanOriginationDate',\n",
       " 'LoanOriginationQuarter',\n",
       " 'MemberKey',\n",
       " 'MonthlyLoanPayment',\n",
       " 'LP_CustomerPayments',\n",
       " 'LP_CustomerPrincipalPayments',\n",
       " 'LP_InterestandFees',\n",
       " 'LP_ServiceFees',\n",
       " 'LP_CollectionFees',\n",
       " 'LP_GrossPrincipalLoss',\n",
       " 'LP_NetPrincipalLoss',\n",
       " 'LP_NonPrincipalRecoverypayments',\n",
       " 'PercentFunded',\n",
       " 'Recommendations',\n",
       " 'InvestmentFromFriendsCount',\n",
       " 'InvestmentFromFriendsAmount',\n",
       " 'Investors',\n",
       " 'Listing_Creation_Year']"
      ]
     },
     "execution_count": 218,
     "metadata": {},
     "output_type": "execute_result"
    }
   ],
   "source": [
    "# https://www.kaggle.com/xdurana/multivariate-analysis-and-correlation-matrix\n",
    "# Create a table to run a correlation matrix analysis\n",
    "# Create a list to grab column names\n",
    "list(df_new)"
   ]
  },
  {
   "cell_type": "code",
   "execution_count": 219,
   "metadata": {},
   "outputs": [],
   "source": [
    "# Creating a new Dataframe to run the correlation matrix on\n",
    "matrix_df = df_new[['ListingNumber',\n",
    " 'Term',\n",
    " 'BorrowerAPR',\n",
    " 'BorrowerRate',\n",
    " 'LenderYield',\n",
    " 'EstimatedEffectiveYield',\n",
    " 'EstimatedLoss',\n",
    " 'EstimatedReturn',\n",
    " 'ProsperRating (numeric)',\n",
    " 'ProsperScore',\n",
    " 'Listing_Category',\n",
    " 'EmploymentStatusDuration',\n",
    " 'CreditScoreRangeLower',\n",
    " 'CreditScoreRangeUpper',\n",
    " 'CurrentCreditLines',\n",
    " 'OpenCreditLines',\n",
    " 'TotalCreditLinespast7years',\n",
    " 'OpenRevolvingAccounts',\n",
    " 'OpenRevolvingMonthlyPayment',\n",
    " 'InquiriesLast6Months',\n",
    " 'TotalInquiries',\n",
    " 'CurrentDelinquencies',\n",
    " 'AmountDelinquent',\n",
    " 'DelinquenciesLast7Years',\n",
    " 'PublicRecordsLast10Years',\n",
    " 'PublicRecordsLast12Months',\n",
    " 'RevolvingCreditBalance',\n",
    " 'BankcardUtilization',\n",
    " 'AvailableBankcardCredit',\n",
    " 'TotalTrades',\n",
    " 'TradesNeverDelinquent (percentage)',\n",
    " 'TradesOpenedLast6Months',\n",
    " 'DebtToIncomeRatio',\n",
    " 'StatedMonthlyIncome',\n",
    " 'TotalProsperLoans',\n",
    " 'TotalProsperPaymentsBilled',\n",
    " 'OnTimeProsperPayments',\n",
    " 'ProsperPaymentsLessThanOneMonthLate',\n",
    " 'ProsperPaymentsOneMonthPlusLate',\n",
    " 'ProsperPrincipalBorrowed',\n",
    " 'ProsperPrincipalOutstanding',\n",
    " 'ScorexChangeAtTimeOfListing',\n",
    " 'LoanCurrentDaysDelinquent',\n",
    " 'LoanFirstDefaultedCycleNumber',\n",
    " 'LoanMonthsSinceOrigination',\n",
    " 'LoanNumber',\n",
    " 'LoanOriginalAmount',\n",
    " 'MemberKey',\n",
    " 'MonthlyLoanPayment',\n",
    " 'LP_CustomerPayments',\n",
    " 'LP_CustomerPrincipalPayments',\n",
    " 'LP_InterestandFees',\n",
    " 'LP_ServiceFees',\n",
    " 'LP_CollectionFees',\n",
    " 'LP_GrossPrincipalLoss',\n",
    " 'LP_NetPrincipalLoss',\n",
    " 'LP_NonPrincipalRecoverypayments',\n",
    " 'PercentFunded',\n",
    " 'Recommendations',\n",
    " 'InvestmentFromFriendsCount',\n",
    " 'InvestmentFromFriendsAmount',\n",
    " 'Investors',\n",
    " 'Listing_Creation_Year']]\n"
   ]
  },
  {
   "cell_type": "code",
   "execution_count": 220,
   "metadata": {},
   "outputs": [
    {
     "name": "stdout",
     "output_type": "stream",
     "text": [
      "<class 'pandas.core.frame.DataFrame'>\n",
      "Int64Index: 112239 entries, 0 to 113936\n",
      "Data columns (total 63 columns):\n",
      " #   Column                               Non-Null Count   Dtype  \n",
      "---  ------                               --------------   -----  \n",
      " 0   ListingNumber                        112239 non-null  int64  \n",
      " 1   Term                                 112239 non-null  int64  \n",
      " 2   BorrowerAPR                          112214 non-null  float64\n",
      " 3   BorrowerRate                         112239 non-null  float64\n",
      " 4   LenderYield                          112239 non-null  float64\n",
      " 5   EstimatedEffectiveYield              83155 non-null   float64\n",
      " 6   EstimatedLoss                        83155 non-null   float64\n",
      " 7   EstimatedReturn                      83155 non-null   float64\n",
      " 8   ProsperRating (numeric)              83155 non-null   float64\n",
      " 9   ProsperScore                         83155 non-null   float64\n",
      " 10  Listing_Category                     112239 non-null  int64  \n",
      " 11  EmploymentStatusDuration             104614 non-null  float64\n",
      " 12  CreditScoreRangeLower                111648 non-null  float64\n",
      " 13  CreditScoreRangeUpper                111648 non-null  float64\n",
      " 14  CurrentCreditLines                   104635 non-null  float64\n",
      " 15  OpenCreditLines                      104635 non-null  float64\n",
      " 16  TotalCreditLinespast7years           111542 non-null  float64\n",
      " 17  OpenRevolvingAccounts                112239 non-null  int64  \n",
      " 18  OpenRevolvingMonthlyPayment          112239 non-null  float64\n",
      " 19  InquiriesLast6Months                 111542 non-null  float64\n",
      " 20  TotalInquiries                       111080 non-null  float64\n",
      " 21  CurrentDelinquencies                 111542 non-null  float64\n",
      " 22  AmountDelinquent                     104617 non-null  float64\n",
      " 23  DelinquenciesLast7Years              111249 non-null  float64\n",
      " 24  PublicRecordsLast10Years             111542 non-null  float64\n",
      " 25  PublicRecordsLast12Months            104635 non-null  float64\n",
      " 26  RevolvingCreditBalance               104635 non-null  float64\n",
      " 27  BankcardUtilization                  104635 non-null  float64\n",
      " 28  AvailableBankcardCredit              104695 non-null  float64\n",
      " 29  TotalTrades                          104695 non-null  float64\n",
      " 30  TradesNeverDelinquent (percentage)   104695 non-null  float64\n",
      " 31  TradesOpenedLast6Months              104695 non-null  float64\n",
      " 32  DebtToIncomeRatio                    103846 non-null  float64\n",
      " 33  StatedMonthlyIncome                  112239 non-null  float64\n",
      " 34  TotalProsperLoans                    21767 non-null   float64\n",
      " 35  TotalProsperPaymentsBilled           21767 non-null   float64\n",
      " 36  OnTimeProsperPayments                21767 non-null   float64\n",
      " 37  ProsperPaymentsLessThanOneMonthLate  21767 non-null   float64\n",
      " 38  ProsperPaymentsOneMonthPlusLate      21767 non-null   float64\n",
      " 39  ProsperPrincipalBorrowed             21767 non-null   float64\n",
      " 40  ProsperPrincipalOutstanding          21767 non-null   float64\n",
      " 41  ScorexChangeAtTimeOfListing          18896 non-null   float64\n",
      " 42  LoanCurrentDaysDelinquent            112239 non-null  int64  \n",
      " 43  LoanFirstDefaultedCycleNumber        16952 non-null   float64\n",
      " 44  LoanMonthsSinceOrigination           112239 non-null  int64  \n",
      " 45  LoanNumber                           112239 non-null  int64  \n",
      " 46  LoanOriginalAmount                   112239 non-null  int64  \n",
      " 47  MemberKey                            112239 non-null  object \n",
      " 48  MonthlyLoanPayment                   112239 non-null  float64\n",
      " 49  LP_CustomerPayments                  112239 non-null  float64\n",
      " 50  LP_CustomerPrincipalPayments         112239 non-null  float64\n",
      " 51  LP_InterestandFees                   112239 non-null  float64\n",
      " 52  LP_ServiceFees                       112239 non-null  float64\n",
      " 53  LP_CollectionFees                    112239 non-null  float64\n",
      " 54  LP_GrossPrincipalLoss                112239 non-null  float64\n",
      " 55  LP_NetPrincipalLoss                  112239 non-null  float64\n",
      " 56  LP_NonPrincipalRecoverypayments      112239 non-null  float64\n",
      " 57  PercentFunded                        112239 non-null  float64\n",
      " 58  Recommendations                      112239 non-null  int64  \n",
      " 59  InvestmentFromFriendsCount           112239 non-null  int64  \n",
      " 60  InvestmentFromFriendsAmount          112239 non-null  float64\n",
      " 61  Investors                            112239 non-null  int64  \n",
      " 62  Listing_Creation_Year                112239 non-null  int64  \n",
      "dtypes: float64(50), int64(12), object(1)\n",
      "memory usage: 54.8+ MB\n"
     ]
    }
   ],
   "source": [
    "# Checking to see if the code was successful\n",
    "matrix_df.info()"
   ]
  },
  {
   "cell_type": "code",
   "execution_count": 226,
   "metadata": {},
   "outputs": [
    {
     "data": {
      "text/plain": [
       "<seaborn.matrix.ClusterGrid at 0x788b489c3ee0>"
      ]
     },
     "execution_count": 226,
     "metadata": {},
     "output_type": "execute_result"
    },
    {
     "data": {
      "image/png": "[encoded data removed]",
      "text/plain": [
       "<Figure size 720x720 with 4 Axes>"
      ]
     },
     "metadata": {
      "needs_background": "light"
     },
     "output_type": "display_data"
    }
   ],
   "source": [
    "# correlation matrix\n",
    "corrmat = matrix_df.corr(method='spearman')\n",
    "cg = sns.clustermap(corrmat, cmap=\"YlGnBu\", linewidths=0.2);\n",
    "plt.setp(cg.ax_heatmap.yaxis.get_majorticklabels(), rotation=0)\n",
    "cg"
   ]
  },
  {
   "cell_type": "code",
   "execution_count": 225,
   "metadata": {},
   "outputs": [
    {
     "ename": "AttributeError",
     "evalue": "'QuadMesh' object has no property 'xticklables'",
     "output_type": "error",
     "traceback": [
      "\u001b[0;31m---------------------------------------------------------------------------\u001b[0m",
      "\u001b[0;31mAttributeError\u001b[0m                            Traceback (most recent call last)",
      "\u001b[0;32m<ipython-input-225-9335ad71b416>\u001b[0m in \u001b[0;36m<module>\u001b[0;34m\u001b[0m\n\u001b[1;32m      4\u001b[0m \u001b[0mcm\u001b[0m \u001b[0;34m=\u001b[0m \u001b[0mnp\u001b[0m\u001b[0;34m.\u001b[0m\u001b[0mcorrcoef\u001b[0m\u001b[0;34m(\u001b[0m\u001b[0mmatrix_df\u001b[0m\u001b[0;34m[\u001b[0m\u001b[0mcols\u001b[0m\u001b[0;34m]\u001b[0m\u001b[0;34m.\u001b[0m\u001b[0mvalues\u001b[0m\u001b[0;34m.\u001b[0m\u001b[0mT\u001b[0m\u001b[0;34m)\u001b[0m\u001b[0;34m\u001b[0m\u001b[0;34m\u001b[0m\u001b[0m\n\u001b[1;32m      5\u001b[0m \u001b[0mf\u001b[0m\u001b[0;34m,\u001b[0m \u001b[0max\u001b[0m\u001b[0;34m=\u001b[0m\u001b[0mplt\u001b[0m\u001b[0;34m.\u001b[0m\u001b[0msubplots\u001b[0m\u001b[0;34m(\u001b[0m\u001b[0mfigsize\u001b[0m\u001b[0;34m=\u001b[0m\u001b[0;34m(\u001b[0m\u001b[0;36m12\u001b[0m\u001b[0;34m,\u001b[0m\u001b[0;36m10\u001b[0m\u001b[0;34m)\u001b[0m\u001b[0;34m)\u001b[0m\u001b[0;34m\u001b[0m\u001b[0;34m\u001b[0m\u001b[0m\n\u001b[0;32m----> 6\u001b[0;31m \u001b[0msns\u001b[0m\u001b[0;34m.\u001b[0m\u001b[0mheatmap\u001b[0m\u001b[0;34m(\u001b[0m\u001b[0mcm\u001b[0m\u001b[0;34m,\u001b[0m \u001b[0max\u001b[0m\u001b[0;34m=\u001b[0m\u001b[0max\u001b[0m\u001b[0;34m,\u001b[0m \u001b[0mcmap\u001b[0m\u001b[0;34m=\u001b[0m\u001b[0;34m\"YlGnBu\"\u001b[0m\u001b[0;34m,\u001b[0m \u001b[0mlinewidths\u001b[0m\u001b[0;34m=\u001b[0m \u001b[0;36m0.1\u001b[0m\u001b[0;34m,\u001b[0m \u001b[0myticklabels\u001b[0m\u001b[0;34m=\u001b[0m\u001b[0mcols\u001b[0m\u001b[0;34m.\u001b[0m\u001b[0mvalues\u001b[0m\u001b[0;34m,\u001b[0m \u001b[0mxticklables\u001b[0m\u001b[0;34m=\u001b[0m\u001b[0mcols\u001b[0m\u001b[0;34m.\u001b[0m\u001b[0mvalues\u001b[0m\u001b[0;34m)\u001b[0m\u001b[0;34m\u001b[0m\u001b[0;34m\u001b[0m\u001b[0m\n\u001b[0m",
      "\u001b[0;32m~/miniconda3/lib/python3.8/site-packages/seaborn/_decorators.py\u001b[0m in \u001b[0;36minner_f\u001b[0;34m(*args, **kwargs)\u001b[0m\n\u001b[1;32m     44\u001b[0m             )\n\u001b[1;32m     45\u001b[0m         \u001b[0mkwargs\u001b[0m\u001b[0;34m.\u001b[0m\u001b[0mupdate\u001b[0m\u001b[0;34m(\u001b[0m\u001b[0;34m{\u001b[0m\u001b[0mk\u001b[0m\u001b[0;34m:\u001b[0m \u001b[0marg\u001b[0m \u001b[0;32mfor\u001b[0m \u001b[0mk\u001b[0m\u001b[0;34m,\u001b[0m \u001b[0marg\u001b[0m \u001b[0;32min\u001b[0m \u001b[0mzip\u001b[0m\u001b[0;34m(\u001b[0m\u001b[0msig\u001b[0m\u001b[0;34m.\u001b[0m\u001b[0mparameters\u001b[0m\u001b[0;34m,\u001b[0m \u001b[0margs\u001b[0m\u001b[0;34m)\u001b[0m\u001b[0;34m}\u001b[0m\u001b[0;34m)\u001b[0m\u001b[0;34m\u001b[0m\u001b[0;34m\u001b[0m\u001b[0m\n\u001b[0;32m---> 46\u001b[0;31m         \u001b[0;32mreturn\u001b[0m \u001b[0mf\u001b[0m\u001b[0;34m(\u001b[0m\u001b[0;34m**\u001b[0m\u001b[0mkwargs\u001b[0m\u001b[0;34m)\u001b[0m\u001b[0;34m\u001b[0m\u001b[0;34m\u001b[0m\u001b[0m\n\u001b[0m\u001b[1;32m     47\u001b[0m     \u001b[0;32mreturn\u001b[0m \u001b[0minner_f\u001b[0m\u001b[0;34m\u001b[0m\u001b[0;34m\u001b[0m\u001b[0m\n\u001b[1;32m     48\u001b[0m \u001b[0;34m\u001b[0m\u001b[0m\n",
      "\u001b[0;32m~/miniconda3/lib/python3.8/site-packages/seaborn/matrix.py\u001b[0m in \u001b[0;36mheatmap\u001b[0;34m(data, vmin, vmax, cmap, center, robust, annot, fmt, annot_kws, linewidths, linecolor, cbar, cbar_kws, cbar_ax, square, xticklabels, yticklabels, mask, ax, **kwargs)\u001b[0m\n\u001b[1;32m    546\u001b[0m     \u001b[0;32mif\u001b[0m \u001b[0msquare\u001b[0m\u001b[0;34m:\u001b[0m\u001b[0;34m\u001b[0m\u001b[0;34m\u001b[0m\u001b[0m\n\u001b[1;32m    547\u001b[0m         \u001b[0max\u001b[0m\u001b[0;34m.\u001b[0m\u001b[0mset_aspect\u001b[0m\u001b[0;34m(\u001b[0m\u001b[0;34m\"equal\"\u001b[0m\u001b[0;34m)\u001b[0m\u001b[0;34m\u001b[0m\u001b[0;34m\u001b[0m\u001b[0m\n\u001b[0;32m--> 548\u001b[0;31m     \u001b[0mplotter\u001b[0m\u001b[0;34m.\u001b[0m\u001b[0mplot\u001b[0m\u001b[0;34m(\u001b[0m\u001b[0max\u001b[0m\u001b[0;34m,\u001b[0m \u001b[0mcbar_ax\u001b[0m\u001b[0;34m,\u001b[0m \u001b[0mkwargs\u001b[0m\u001b[0;34m)\u001b[0m\u001b[0;34m\u001b[0m\u001b[0;34m\u001b[0m\u001b[0m\n\u001b[0m\u001b[1;32m    549\u001b[0m     \u001b[0;32mreturn\u001b[0m \u001b[0max\u001b[0m\u001b[0;34m\u001b[0m\u001b[0;34m\u001b[0m\u001b[0m\n\u001b[1;32m    550\u001b[0m \u001b[0;34m\u001b[0m\u001b[0m\n",
      "\u001b[0;32m~/miniconda3/lib/python3.8/site-packages/seaborn/matrix.py\u001b[0m in \u001b[0;36mplot\u001b[0;34m(self, ax, cax, kws)\u001b[0m\n\u001b[1;32m    296\u001b[0m \u001b[0;34m\u001b[0m\u001b[0m\n\u001b[1;32m    297\u001b[0m         \u001b[0;31m# Draw the heatmap\u001b[0m\u001b[0;34m\u001b[0m\u001b[0;34m\u001b[0m\u001b[0;34m\u001b[0m\u001b[0m\n\u001b[0;32m--> 298\u001b[0;31m         \u001b[0mmesh\u001b[0m \u001b[0;34m=\u001b[0m \u001b[0max\u001b[0m\u001b[0;34m.\u001b[0m\u001b[0mpcolormesh\u001b[0m\u001b[0;34m(\u001b[0m\u001b[0mself\u001b[0m\u001b[0;34m.\u001b[0m\u001b[0mplot_data\u001b[0m\u001b[0;34m,\u001b[0m \u001b[0mcmap\u001b[0m\u001b[0;34m=\u001b[0m\u001b[0mself\u001b[0m\u001b[0;34m.\u001b[0m\u001b[0mcmap\u001b[0m\u001b[0;34m,\u001b[0m \u001b[0;34m**\u001b[0m\u001b[0mkws\u001b[0m\u001b[0;34m)\u001b[0m\u001b[0;34m\u001b[0m\u001b[0;34m\u001b[0m\u001b[0m\n\u001b[0m\u001b[1;32m    299\u001b[0m \u001b[0;34m\u001b[0m\u001b[0m\n\u001b[1;32m    300\u001b[0m         \u001b[0;31m# Set the axis limits\u001b[0m\u001b[0;34m\u001b[0m\u001b[0;34m\u001b[0m\u001b[0;34m\u001b[0m\u001b[0m\n",
      "\u001b[0;32m~/miniconda3/lib/python3.8/site-packages/matplotlib/__init__.py\u001b[0m in \u001b[0;36minner\u001b[0;34m(ax, data, *args, **kwargs)\u001b[0m\n\u001b[1;32m   1436\u001b[0m     \u001b[0;32mdef\u001b[0m \u001b[0minner\u001b[0m\u001b[0;34m(\u001b[0m\u001b[0max\u001b[0m\u001b[0;34m,\u001b[0m \u001b[0;34m*\u001b[0m\u001b[0margs\u001b[0m\u001b[0;34m,\u001b[0m \u001b[0mdata\u001b[0m\u001b[0;34m=\u001b[0m\u001b[0;32mNone\u001b[0m\u001b[0;34m,\u001b[0m \u001b[0;34m**\u001b[0m\u001b[0mkwargs\u001b[0m\u001b[0;34m)\u001b[0m\u001b[0;34m:\u001b[0m\u001b[0;34m\u001b[0m\u001b[0;34m\u001b[0m\u001b[0m\n\u001b[1;32m   1437\u001b[0m         \u001b[0;32mif\u001b[0m \u001b[0mdata\u001b[0m \u001b[0;32mis\u001b[0m \u001b[0;32mNone\u001b[0m\u001b[0;34m:\u001b[0m\u001b[0;34m\u001b[0m\u001b[0;34m\u001b[0m\u001b[0m\n\u001b[0;32m-> 1438\u001b[0;31m             \u001b[0;32mreturn\u001b[0m \u001b[0mfunc\u001b[0m\u001b[0;34m(\u001b[0m\u001b[0max\u001b[0m\u001b[0;34m,\u001b[0m \u001b[0;34m*\u001b[0m\u001b[0mmap\u001b[0m\u001b[0;34m(\u001b[0m\u001b[0msanitize_sequence\u001b[0m\u001b[0;34m,\u001b[0m \u001b[0margs\u001b[0m\u001b[0;34m)\u001b[0m\u001b[0;34m,\u001b[0m \u001b[0;34m**\u001b[0m\u001b[0mkwargs\u001b[0m\u001b[0;34m)\u001b[0m\u001b[0;34m\u001b[0m\u001b[0;34m\u001b[0m\u001b[0m\n\u001b[0m\u001b[1;32m   1439\u001b[0m \u001b[0;34m\u001b[0m\u001b[0m\n\u001b[1;32m   1440\u001b[0m         \u001b[0mbound\u001b[0m \u001b[0;34m=\u001b[0m \u001b[0mnew_sig\u001b[0m\u001b[0;34m.\u001b[0m\u001b[0mbind\u001b[0m\u001b[0;34m(\u001b[0m\u001b[0max\u001b[0m\u001b[0;34m,\u001b[0m \u001b[0;34m*\u001b[0m\u001b[0margs\u001b[0m\u001b[0;34m,\u001b[0m \u001b[0;34m**\u001b[0m\u001b[0mkwargs\u001b[0m\u001b[0;34m)\u001b[0m\u001b[0;34m\u001b[0m\u001b[0;34m\u001b[0m\u001b[0m\n",
      "\u001b[0;32m~/miniconda3/lib/python3.8/site-packages/matplotlib/axes/_axes.py\u001b[0m in \u001b[0;36mpcolormesh\u001b[0;34m(self, alpha, norm, cmap, vmin, vmax, shading, antialiased, *args, **kwargs)\u001b[0m\n\u001b[1;32m   6104\u001b[0m         \u001b[0mC\u001b[0m \u001b[0;34m=\u001b[0m \u001b[0mC\u001b[0m\u001b[0;34m.\u001b[0m\u001b[0mravel\u001b[0m\u001b[0;34m(\u001b[0m\u001b[0;34m)\u001b[0m\u001b[0;34m\u001b[0m\u001b[0;34m\u001b[0m\u001b[0m\n\u001b[1;32m   6105\u001b[0m         \u001b[0mcoords\u001b[0m \u001b[0;34m=\u001b[0m \u001b[0mnp\u001b[0m\u001b[0;34m.\u001b[0m\u001b[0mcolumn_stack\u001b[0m\u001b[0;34m(\u001b[0m\u001b[0;34m(\u001b[0m\u001b[0mX\u001b[0m\u001b[0;34m,\u001b[0m \u001b[0mY\u001b[0m\u001b[0;34m)\u001b[0m\u001b[0;34m)\u001b[0m\u001b[0;34m.\u001b[0m\u001b[0mastype\u001b[0m\u001b[0;34m(\u001b[0m\u001b[0mfloat\u001b[0m\u001b[0;34m,\u001b[0m \u001b[0mcopy\u001b[0m\u001b[0;34m=\u001b[0m\u001b[0;32mFalse\u001b[0m\u001b[0;34m)\u001b[0m\u001b[0;34m\u001b[0m\u001b[0;34m\u001b[0m\u001b[0m\n\u001b[0;32m-> 6106\u001b[0;31m         collection = mcoll.QuadMesh(Nx - 1, Ny - 1, coords,\n\u001b[0m\u001b[1;32m   6107\u001b[0m                                     \u001b[0mantialiased\u001b[0m\u001b[0;34m=\u001b[0m\u001b[0mantialiased\u001b[0m\u001b[0;34m,\u001b[0m \u001b[0mshading\u001b[0m\u001b[0;34m=\u001b[0m\u001b[0mshading\u001b[0m\u001b[0;34m,\u001b[0m\u001b[0;34m\u001b[0m\u001b[0;34m\u001b[0m\u001b[0m\n\u001b[1;32m   6108\u001b[0m                                     **kwargs)\n",
      "\u001b[0;32m~/miniconda3/lib/python3.8/site-packages/matplotlib/collections.py\u001b[0m in \u001b[0;36m__init__\u001b[0;34m(self, meshWidth, meshHeight, coordinates, antialiased, shading, **kwargs)\u001b[0m\n\u001b[1;32m   1917\u001b[0m     def __init__(self, meshWidth, meshHeight, coordinates,\n\u001b[1;32m   1918\u001b[0m                  antialiased=True, shading='flat', **kwargs):\n\u001b[0;32m-> 1919\u001b[0;31m         \u001b[0mCollection\u001b[0m\u001b[0;34m.\u001b[0m\u001b[0m__init__\u001b[0m\u001b[0;34m(\u001b[0m\u001b[0mself\u001b[0m\u001b[0;34m,\u001b[0m \u001b[0;34m**\u001b[0m\u001b[0mkwargs\u001b[0m\u001b[0;34m)\u001b[0m\u001b[0;34m\u001b[0m\u001b[0;34m\u001b[0m\u001b[0m\n\u001b[0m\u001b[1;32m   1920\u001b[0m         \u001b[0mself\u001b[0m\u001b[0;34m.\u001b[0m\u001b[0m_meshWidth\u001b[0m \u001b[0;34m=\u001b[0m \u001b[0mmeshWidth\u001b[0m\u001b[0;34m\u001b[0m\u001b[0;34m\u001b[0m\u001b[0m\n\u001b[1;32m   1921\u001b[0m         \u001b[0mself\u001b[0m\u001b[0;34m.\u001b[0m\u001b[0m_meshHeight\u001b[0m \u001b[0;34m=\u001b[0m \u001b[0mmeshHeight\u001b[0m\u001b[0;34m\u001b[0m\u001b[0;34m\u001b[0m\u001b[0m\n",
      "\u001b[0;32m~/miniconda3/lib/python3.8/site-packages/matplotlib/cbook/deprecation.py\u001b[0m in \u001b[0;36mwrapper\u001b[0;34m(*inner_args, **inner_kwargs)\u001b[0m\n\u001b[1;32m    409\u001b[0m                          \u001b[0;32melse\u001b[0m \u001b[0mdeprecation_addendum\u001b[0m\u001b[0;34m,\u001b[0m\u001b[0;34m\u001b[0m\u001b[0;34m\u001b[0m\u001b[0m\n\u001b[1;32m    410\u001b[0m                 **kwargs)\n\u001b[0;32m--> 411\u001b[0;31m         \u001b[0;32mreturn\u001b[0m \u001b[0mfunc\u001b[0m\u001b[0;34m(\u001b[0m\u001b[0;34m*\u001b[0m\u001b[0minner_args\u001b[0m\u001b[0;34m,\u001b[0m \u001b[0;34m**\u001b[0m\u001b[0minner_kwargs\u001b[0m\u001b[0;34m)\u001b[0m\u001b[0;34m\u001b[0m\u001b[0;34m\u001b[0m\u001b[0m\n\u001b[0m\u001b[1;32m    412\u001b[0m \u001b[0;34m\u001b[0m\u001b[0m\n\u001b[1;32m    413\u001b[0m     \u001b[0;32mreturn\u001b[0m \u001b[0mwrapper\u001b[0m\u001b[0;34m\u001b[0m\u001b[0;34m\u001b[0m\u001b[0m\n",
      "\u001b[0;32m~/miniconda3/lib/python3.8/site-packages/matplotlib/collections.py\u001b[0m in \u001b[0;36m__init__\u001b[0;34m(self, edgecolors, facecolors, linewidths, linestyles, capstyle, joinstyle, antialiaseds, offsets, transOffset, norm, cmap, pickradius, hatch, urls, offset_position, zorder, **kwargs)\u001b[0m\n\u001b[1;32m    211\u001b[0m \u001b[0;34m\u001b[0m\u001b[0m\n\u001b[1;32m    212\u001b[0m         \u001b[0mself\u001b[0m\u001b[0;34m.\u001b[0m\u001b[0m_path_effects\u001b[0m \u001b[0;34m=\u001b[0m \u001b[0;32mNone\u001b[0m\u001b[0;34m\u001b[0m\u001b[0;34m\u001b[0m\u001b[0m\n\u001b[0;32m--> 213\u001b[0;31m         \u001b[0mself\u001b[0m\u001b[0;34m.\u001b[0m\u001b[0mupdate\u001b[0m\u001b[0;34m(\u001b[0m\u001b[0mkwargs\u001b[0m\u001b[0;34m)\u001b[0m\u001b[0;34m\u001b[0m\u001b[0;34m\u001b[0m\u001b[0m\n\u001b[0m\u001b[1;32m    214\u001b[0m         \u001b[0mself\u001b[0m\u001b[0;34m.\u001b[0m\u001b[0m_paths\u001b[0m \u001b[0;34m=\u001b[0m \u001b[0;32mNone\u001b[0m\u001b[0;34m\u001b[0m\u001b[0;34m\u001b[0m\u001b[0m\n\u001b[1;32m    215\u001b[0m \u001b[0;34m\u001b[0m\u001b[0m\n",
      "\u001b[0;32m~/miniconda3/lib/python3.8/site-packages/matplotlib/artist.py\u001b[0m in \u001b[0;36mupdate\u001b[0;34m(self, props)\u001b[0m\n\u001b[1;32m    994\u001b[0m                     \u001b[0mfunc\u001b[0m \u001b[0;34m=\u001b[0m \u001b[0mgetattr\u001b[0m\u001b[0;34m(\u001b[0m\u001b[0mself\u001b[0m\u001b[0;34m,\u001b[0m \u001b[0;34mf\"set_{k}\"\u001b[0m\u001b[0;34m,\u001b[0m \u001b[0;32mNone\u001b[0m\u001b[0;34m)\u001b[0m\u001b[0;34m\u001b[0m\u001b[0;34m\u001b[0m\u001b[0m\n\u001b[1;32m    995\u001b[0m                     \u001b[0;32mif\u001b[0m \u001b[0;32mnot\u001b[0m \u001b[0mcallable\u001b[0m\u001b[0;34m(\u001b[0m\u001b[0mfunc\u001b[0m\u001b[0;34m)\u001b[0m\u001b[0;34m:\u001b[0m\u001b[0;34m\u001b[0m\u001b[0;34m\u001b[0m\u001b[0m\n\u001b[0;32m--> 996\u001b[0;31m                         raise AttributeError(f\"{type(self).__name__!r} object \"\n\u001b[0m\u001b[1;32m    997\u001b[0m                                              f\"has no property {k!r}\")\n\u001b[1;32m    998\u001b[0m                     \u001b[0mret\u001b[0m\u001b[0;34m.\u001b[0m\u001b[0mappend\u001b[0m\u001b[0;34m(\u001b[0m\u001b[0mfunc\u001b[0m\u001b[0;34m(\u001b[0m\u001b[0mv\u001b[0m\u001b[0;34m)\u001b[0m\u001b[0;34m)\u001b[0m\u001b[0;34m\u001b[0m\u001b[0;34m\u001b[0m\u001b[0m\n",
      "\u001b[0;31mAttributeError\u001b[0m: 'QuadMesh' object has no property 'xticklables'"
     ]
    },
    {
     "data": {
      "image/png": "[encoded data removed]",
      "text/plain": [
       "<Figure size 864x720 with 1 Axes>"
      ]
     },
     "metadata": {
      "needs_background": "light"
     },
     "output_type": "display_data"
    }
   ],
   "source": [
    "# LP_NetPrincipalLoss Correlation Matrix\n",
    "k = 62 # of variables for heatmap\n",
    "cols = corrmat.nlargest(k, 'LP_NetPrincipalLoss')['LP_NetPrincipalLoss'].index\n",
    "cm = np.corrcoef(matrix_df[cols].values.T)\n",
    "f, ax=plt.subplots(figsize=(12,10))\n",
    "sns.heatmap(cm, ax=ax, cmap=\"YlGnBu\", linewidths= 0.1, yticklabels=cols.values, xticklables=cols.values)"
   ]
  },
  {
   "cell_type": "code",
   "execution_count": null,
   "metadata": {},
   "outputs": [],
   "source": []
  },
  {
   "cell_type": "markdown",
   "metadata": {},
   "source": [
    "### Talk about some of the relationships you observed in this part of the investigation. Were there features that strengthened each other in terms of looking at your feature(s) of interest?\n",
    "\n",
    "> Your answer here!\n",
    "\n",
    "### Were there any interesting or surprising interactions between features?\n",
    "\n",
    "> Your answer here!"
   ]
  },
  {
   "cell_type": "markdown",
   "metadata": {},
   "source": [
    "> At the end of your report, make sure that you export the notebook as an\n",
    "html file from the `File > Download as... > HTML` menu. Make sure you keep\n",
    "track of where the exported file goes, so you can put it in the same folder\n",
    "as this notebook for project submission. Also, make sure you remove all of\n",
    "the quote-formatted guide notes like this one before you finish your report!"
   ]
  },
  {
   "cell_type": "code",
   "execution_count": null,
   "metadata": {},
   "outputs": [],
   "source": []
  }
 ],
 "metadata": {
  "kernelspec": {
   "display_name": "Python 3",
   "language": "python",
   "name": "python3"
  },
  "language_info": {
   "codemirror_mode": {
    "name": "ipython",
    "version": 3
   },
   "file_extension": ".py",
   "mimetype": "text/x-python",
   "name": "python",
   "nbconvert_exporter": "python",
   "pygments_lexer": "ipython3",
   "version": "3.8.3"
  }
 },
 "nbformat": 4,
 "nbformat_minor": 2
}
